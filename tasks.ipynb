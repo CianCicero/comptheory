{
 "cells": [
  {
   "cell_type": "markdown",
   "metadata": {},
   "source": [
    "<h1 style=\"text-align: center;\">Computational Theory Tasks</h1>"
   ]
  },
  {
   "cell_type": "markdown",
   "metadata": {},
   "source": [
    "This notebook contains explanations and solutions for 8 computational theory tasks. Each section begins with a description of the task, outlining its origin and signifigance. Then the solution is explained, followed by code cells that implement the solution. Finally, code cells containing a suite of tests designed to validate the solution follow.\n",
    "\n",
    "To supplement the notebook, the following sidebars can be found after each solution:"
   ]
  },
  {
   "cell_type": "markdown",
   "metadata": {},
   "source": [
    "<div style=\"display: flex; justify-content: center;\">\n",
    "  <div style=\"display: flex; flex-direction: column; gap: 12px; max-width: 800px; width: 100%;\">\n",
    "\n",
    "<div style=\"display: flex; align-items: stretch; gap: 10px;\">\n",
    "      <div style=\"flex: 0 0 140px; background-color: #5C9E75; color:#FFFFFF; padding:10px; border-radius:8px; font-size:16px; text-align: center;\">\n",
    "        <strong>Test Overview</strong>\n",
    "      </div>\n",
    "      <div style=\"flex: 1; border: 3px solid #5C9E75; padding:12px; border-radius:8px; font-size:13px; color: inherit; background-color: transparent;\">\n",
    "        Explains the tests used to validate each solution, covering the inputs, expected results, and the rationale.\n",
    "      </div>\n",
    "</div>\n",
    "\n",
    "<div style=\"display: flex; align-items: stretch; gap: 10px;\">\n",
    "      <div style=\"flex: 0 0 140px; background-color: #4F83CC; color:#FFFFFF; padding:10px; border-radius:8px; font-size:16px; text-align: center;\">\n",
    "        <strong>Sources</strong>\n",
    "      </div>\n",
    "      <div style=\"flex: 1; border: 3px solid #4F83CC; padding:12px; border-radius:8px; font-size:13px; color: inherit; background-color: transparent;\">\n",
    "        Links to the project's sources, along with concise descriptions of how they influenced development.\n",
    "      </div>\n",
    "</div>\n",
    "\n",
    "<div style=\"display: flex; align-items: stretch; gap: 10px;\">\n",
    "      <div style=\"flex: 0 0 140px; background-color: #6C3BAA; color:#FFFFFF; padding:10px; border-radius:8px; font-size:16px; text-align: center;\">\n",
    "        <strong>Alternatives</strong>\n",
    "      </div>\n",
    "      <div style=\"flex: 1; border: 3px solid #6C3BAA; padding:12px; border-radius:8px; font-size:13px; color: inherit; background-color: transparent;\">\n",
    "        Compares the solution against other potential approaches, providing a justification for the final choice.\n",
    "      </div>\n",
    "</div>\n",
    "\n",
    "  </div>\n",
    "</div>\n"
   ]
  },
  {
   "cell_type": "markdown",
   "metadata": {},
   "source": [
    "### Imports"
   ]
  },
  {
   "cell_type": "code",
   "execution_count": 21,
   "metadata": {},
   "outputs": [],
   "source": [
    "# Imports\n",
    "import hashlib\n",
    "import os\n",
    "import struct\n",
    "import unittest\n",
    "import tempfile"
   ]
  },
  {
   "cell_type": "markdown",
   "metadata": {},
   "source": [
    "### Task 1 - Binary Representations"
   ]
  },
  {
   "cell_type": "markdown",
   "metadata": {},
   "source": [
    "This task involves implementing several binary manipulation functions. Bitwise operations are computational techniques that work directly with individual bits in a binary number, including operations like AND, OR, NOT, and rotation. They operate at the binary level to manipulate individual bits more efficiently than higher-level arithmetic functions [(1)](https://www.techtarget.com/whatis/definition/bitwise). In cybersecurity, these operations form the backbone of hash functions like SHA-256 by producing fixed-size outputs that are \"virtually impossible to transform back into their original data\" [(2)](https://brilliant.org/wiki/secure-hashing-algorithms/). These operations began appearing in cryptography in the late 1970s and 1980s [(3)](https://link.springer.com/chapter/10.1007/978-3-642-11925-5_1), and became standardized components of important security protocols including SSL, TLS, SSH, and IPsec, which are crucial for securing digital communications across the internet."
   ]
  },
  {
   "cell_type": "markdown",
   "metadata": {},
   "source": [
    "<div style=\"border: 3px solid #4F83CC; padding:8px; border-radius:5px; font-size:14px; background-color: transparent; width: 900px;\">\n",
    "\n",
    "**Task 1 Background Sources**\n",
    "- **(1)** [TechTarget's \"What is Bitwise?\"](https://www.techtarget.com/whatis/definition/bitwise) - *Explanation of how bitwise operators work and their common applications.*\n",
    "- **(2)** [Brilliant Math & Science Wiki's \"Secure Hash Algorithms\"](https://brilliant.org/wiki/secure-hashing-algorithms/) - *Outline of how SHA functions use bitwise operations to secure data.*\n",
    "- **(3)** [\"The First 30 Years of Cryptographic Hash Functions and the NIST SHA-3 Competition\"](https://link.springer.com/chapter/10.1007/978-3-642-11925-5_1) - *Conference Paper by Preneel, B outlining the evolution of Cryptographic Hash Functions*\n",
    "\n",
    "**Task 1 Solution Sources**\n",
    "- **(4)** [Python's Documentation on Built-in Types](https://docs.python.org/3/library/stdtypes.html) describes how to use bitwise operators to implement the methods required for task 1. By following the links in the solution you will find the relevant excerpt for each operator.\n",
    "</div>\n"
   ]
  },
  {
   "cell_type": "markdown",
   "metadata": {},
   "source": [
    "**1.1 Rotate the bits in a 32-bit unsigned integer to the left by `n` places**\n",
    "\n",
    "- This solution first uses modulo (`n %= 32`) to normalize rotation counts greater than 32, because any rotation of 32 would result in no actual change.\n",
    "\n",
    "- The bits are then shifted left using [Python's bitwise-left-shift operator](https://docs.python.org/3/library/stdtypes.html#bitwise-left-shift) (`x << n`). A mask is used (`0xFFFFFFFF`) to limit the value to 32 bits.\n",
    "\n",
    "- [Python's bitwise-right-shift operation](https://docs.python.org/3/library/stdtypes.html#bitwise-right-shift) (`x >> (32- n)`) is used to shift the left-most bits that would overflow to the right-most position, mimicking rotation.\n",
    "\n",
    "- The bits moved left are combined with the bits moved right using [Python's bitwise OR operator](https://docs.python.org/3/library/stdtypes.html) (`|`). As outlined in Python's documentation, it uses the formula   \n",
    "`(a | b) = a + b - (a * b)` to ensure that any bits marked as 1 in either part of the rotation are preserved in the output."
   ]
  },
  {
   "cell_type": "code",
   "execution_count": 2,
   "metadata": {},
   "outputs": [],
   "source": [
    "def rotl(x, n):\n",
    "    # Get the modulo 32 to avoid unnecessary rotations\n",
    "    n %= 32\n",
    "\n",
    "    # Perform the rotation\n",
    "    return ((x << n) & 0xFFFFFFFF) | (x >> (32 - n))"
   ]
  },
  {
   "cell_type": "markdown",
   "metadata": {},
   "source": [
    "**1.2 Rotate the bits in a 32-bit unsigned integer to the right by `n` places**\n",
    "- This solution is just an inverse of `rotl`"
   ]
  },
  {
   "cell_type": "code",
   "execution_count": 3,
   "metadata": {},
   "outputs": [],
   "source": [
    "def rotr(x, n):\n",
    "    # Get the modulo 32 to avoid unnecessary rotations\n",
    "    n %= 32\n",
    "\n",
    "    # Perform the right rotation\n",
    "    return ((x >> n) & 0xFFFFFFFF) | (x << (32 - n))"
   ]
  },
  {
   "cell_type": "markdown",
   "metadata": {},
   "source": [
    "**1.3 Choose the bits from `y` where `x` has bits set to `1` and bits in `z` where `x` has bits set to `0`**\n",
    "- [Python's AND bitwise operator](https://docs.python.org/3/library/stdtypes.html) is used to return bits from `y` where `x` has a 1 in the same position (`x & y`)\n",
    "- [Python's NOT bitwise operator](https://docs.python.org/3/library/stdtypes.html) is used with AND to return bits from `z` where `x` has a 0 in the same position. It achieves this by first inverting `x`'s bits, then performing the same AND operation (`z & ~x`)\n",
    "- Python's OR bitwise operator is again used to combine both sets, providing the result."
   ]
  },
  {
   "cell_type": "code",
   "execution_count": 4,
   "metadata": {},
   "outputs": [],
   "source": [
    "def ch(x, y, z):\n",
    "    return (y & x) | (z & ~x)"
   ]
  },
  {
   "cell_type": "markdown",
   "metadata": {},
   "source": [
    "**1.4 Take a majority vote of the bits in `x`, `y`, and `z`**\n",
    "- Each permutation of the input is checked for shared 1 bits using the AND operator (`x & y`)(`z & y`)(`z & y`)\n",
    "- The OR operator is used to return the bits where at least 2 inputs had a 1 in that position"
   ]
  },
  {
   "cell_type": "code",
   "execution_count": 5,
   "metadata": {},
   "outputs": [],
   "source": [
    "def maj(x, y, z):\n",
    "    return (x & y) | (z & x) | (z & y)"
   ]
  },
  {
   "cell_type": "markdown",
   "metadata": {},
   "source": [
    "<div style=\"border: 3px solid #5C9E75; padding:8px; border-radius:5px; font-size:14px; background-color: transparent; width: 230px;\">\n",
    "    \n",
    "##### **Test 1A - \"Verifying `rotl`\"**  \n",
    "**We will now test `rotl(x, n)`**\n",
    "\n",
    "**Expected results:**\n",
    "\n",
    "| Input  | Output |\n",
    "|--------|--------|\n",
    "| `20` `8`   | `5120` |\n",
    "| `2153` `8` | `551168` |\n",
    "</div>\n"
   ]
  },
  {
   "cell_type": "code",
   "execution_count": 10,
   "metadata": {},
   "outputs": [
    {
     "name": "stdout",
     "output_type": "stream",
     "text": [
      "rotl(20, 8) -> 5120\n",
      "rotl(2153, 8) -> 551168\n"
     ]
    }
   ],
   "source": [
    "print(f\"rotl(20, 8) -> {rotl(20, 8)}\")\n",
    "print(f\"rotl(2153, 8) -> {rotl(2153, 8)}\")"
   ]
  },
  {
   "cell_type": "markdown",
   "metadata": {},
   "source": [
    "<div style=\"border: 3px solid #5C9E75; padding:8px; border-radius:5px; font-size:14px; background-color: transparent; width: 230px;\">\n",
    "    \n",
    "##### **Test 1B - \"Verifying `rotr`\"**  \n",
    "**We will now test `rotr(x, n)`**\n",
    "\n",
    "**Expected results:**\n",
    "\n",
    "| Input  | Output |\n",
    "|--------|--------|\n",
    "| `20` `8`   | `335544320` |\n",
    "| `2153` `8` | `36121346056` |\n",
    "</div>\n"
   ]
  },
  {
   "cell_type": "code",
   "execution_count": 11,
   "metadata": {},
   "outputs": [
    {
     "name": "stdout",
     "output_type": "stream",
     "text": [
      "rotr(20, 8) -> 335544320\n",
      "rotr(2153, 8) -> 36121346056\n"
     ]
    }
   ],
   "source": [
    "print(f\"rotr(20, 8) -> {rotr(20, 8)}\")\n",
    "print(f\"rotr(2153, 8) -> {rotr(2153, 8)}\")"
   ]
  },
  {
   "cell_type": "markdown",
   "metadata": {},
   "source": [
    "<div style=\"border: 3px solid #5C9E75; padding:8px; border-radius:5px; font-size:14px; background-color: transparent; width: 230px;\">\n",
    "    \n",
    "##### **Test 1C - \"Verifying `ch`\"**  \n",
    "**We will now test `ch(x, y, z)`**\n",
    "\n",
    "**Expected results:**\n",
    "\n",
    "| Input  | Output |\n",
    "|--------|--------|\n",
    "| `20` `2153` `54`   | `34` |\n",
    "</div>\n"
   ]
  },
  {
   "cell_type": "code",
   "execution_count": 12,
   "metadata": {},
   "outputs": [
    {
     "name": "stdout",
     "output_type": "stream",
     "text": [
      "ch(20, 2153, 54) -> 34\n"
     ]
    }
   ],
   "source": [
    "print(f\"ch(20, 2153, 54) -> {ch(20, 2153, 54)}\")"
   ]
  },
  {
   "cell_type": "markdown",
   "metadata": {},
   "source": [
    "<div style=\"border: 3px solid #5C9E75; padding:8px; border-radius:5px; font-size:14px; background-color: transparent; width: 230px;\">\n",
    "    \n",
    "##### **Test 1D - \"Verifying `maj`\"**  \n",
    "**We will now test `maj(x, y, z)`**\n",
    "\n",
    "**Expected results:**\n",
    "\n",
    "| Input  | Output |\n",
    "|--------|--------|\n",
    "| `20` `2153` `54`   | `52` |\n",
    "</div>\n"
   ]
  },
  {
   "cell_type": "code",
   "execution_count": 13,
   "metadata": {},
   "outputs": [
    {
     "name": "stdout",
     "output_type": "stream",
     "text": [
      "maj(20, 2153, 54) -> 52\n"
     ]
    }
   ],
   "source": [
    "print(f\"maj(20, 2153, 54) -> {maj(20, 2153, 54)}\")"
   ]
  },
  {
   "cell_type": "markdown",
   "metadata": {},
   "source": [
    "### Task 2: Hash Functions\n"
   ]
  },
  {
   "cell_type": "markdown",
   "metadata": {},
   "source": [
    "This task involves converting a string hashing function from C to Python. The original function comes from Brian Kernighan and Dennis Ritchie's book \"The C Programming Language\", and is a prominent example of polynomial rolling hashing [(5)](https://en.wikipedia.org/wiki/The_C_Programming_Language). These functions see frequent use in the implementation of hash tables, providing efficient data retrieval. Hash functions convert inputs of varied sizes such as strings into fixed-size numerical values. They should aim to minimize collisions while remaining computationally efficient. \n",
    "\n",
    "The value `31` is used as a multiplier because:\n",
    "- It is a prime number, which improves distribution of hash numbers by minimizing patterns [(6)](https://arbitrary-but-fixed.net/2022/04/28/why-prime-numbers-for-hashing.html)\n",
    "- It can be efficiently computed by using bitwise operations `x * 31` = `(x << 5) - x`\n",
    "\n",
    "The value `101` is used as a modulo because:\n",
    "- Prime modulos also improve distribution [(7)](https://www.designgurus.io/answers/detail/why-should-hash-functions-use-a-prime-number-modulus)\n",
    "- \"The mathematical properties of prime numbers contribute to the difficulty of reversing the hash\" [(7)](https://www.designgurus.io/answers/detail/why-should-hash-functions-use-a-prime-number-modulus)\n",
    "\n",
    "It should be noted that in Schölzel's comparison of various primes across different languages and datatypes, he found that \"the prime 31 seems to be neither a particularly bad nor a particularly good candidate\" [(6)](https://arbitrary-but-fixed.net/2022/04/28/why-prime-numbers-for-hashing.html). However, his tests were concerned only with collision avoidance, not computational efficiency.\n",
    "\n",
    "During the testing for this solution, I compare its results against a non-prime hash function to demonstrate its advantages."
   ]
  },
  {
   "cell_type": "markdown",
   "metadata": {},
   "source": [
    "<div style=\"border: 3px solid #4F83CC; padding:8px; border-radius:5px; font-size:14px; background-color: transparent; width: 900px;\">\n",
    "\n",
    "**Task 2 Background Sources**\n",
    "- **(5)** [\"The C Programming Language\" by Brian Kernighan and Dennis Ritchie](https://en.wikipedia.org/wiki/The_C_Programming_Language) - *Foundational book that introduced a polynominal hashing function that became heavily influenctial across computer science.*\n",
    "- **(6)** [\"Why 31? Explaining the use of prime numbers in Java hash functions\" - Christopher Schölzel](https://arbitrary-but-fixed.net/2022/04/28/why-prime-numbers-for-hashing.html) - *Article exploring the historical use of 31 as a prime in hash functions*\n",
    "- **(7)** [\"Why should hash functions use a prime number modulus?\" - Design Guru](https://www.designgurus.io/answers/detail/why-should-hash-functions-use-a-prime-number-modulus) - *Explanation of the use 101 as a modulos in hash functions*\n",
    "\n",
    "**Task 2 Solution Sources**\n",
    "- **(8)** [Python's Documentation on `ord()`](https://docs.python.org/3/library/functions.html#ord) describes how `ord()` is used to return an integer representing the Unicode point of the input character.\n",
    "</div>"
   ]
  },
  {
   "cell_type": "markdown",
   "metadata": {},
   "source": [
    "**2.1 Generate a hash value for a string.**\n",
    "- This solution iterates through the characters of a string. For each character, [Python's ord()](https://docs.python.org/3/library/functions.html#ord) is used to get its Unicode point.\n",
    "- Each value is combined into a running total using `31` as a multiplier\n",
    "- The result is then reduced using a modulo of `%101` to keep hash values within a range of 0 - 100"
   ]
  },
  {
   "cell_type": "code",
   "execution_count": 3,
   "metadata": {},
   "outputs": [],
   "source": [
    "def hash_string(s: str) -> int:\n",
    "    hashval = 0\n",
    "    for char in s:\n",
    "        hashval = ord(char) + 31 * hashval\n",
    "    return hashval % 101"
   ]
  },
  {
   "cell_type": "markdown",
   "metadata": {},
   "source": [
    "<div style=\"border: 3px solid #5C9E75; padding:8px; border-radius:5px; font-size:14px; background-color: transparent; width: 350px;\">\n",
    "    \n",
    "##### **Test 2A - \"Verifying `hash_string`\"**  \n",
    "**We will now test `hash_string(s)` case sensitivity**\n",
    "\n",
    "**Expected results:**\n",
    "\n",
    "| Input  | Output |\n",
    "|--------|--------|\n",
    "| `Brutus` | `26` |\n",
    "| `brutus` | `36` |\n",
    "</div>\n"
   ]
  },
  {
   "cell_type": "code",
   "execution_count": 4,
   "metadata": {},
   "outputs": [
    {
     "name": "stdout",
     "output_type": "stream",
     "text": [
      "hash_string(Brutus) -> 26\n",
      "hash_string(brutus) -> 36\n"
     ]
    }
   ],
   "source": [
    "print(f\"hash_string(Brutus) -> {hash_string('Brutus')}\")\n",
    "print(f\"hash_string(brutus) -> {hash_string('brutus')}\")"
   ]
  },
  {
   "cell_type": "markdown",
   "metadata": {},
   "source": [
    "<div style=\"border: 3px solid #5C9E75; padding:8px; border-radius:5px; font-size:14px; background-color: transparent; width: 700px;\">\n",
    "    \n",
    "##### **Test 2B - \"Testing `hash_string`\"**  \n",
    "**We will now test `hash_string(s)` use of modulo to normalize the hash to fall between 0-100**\n",
    "\n",
    "**Expected results:**\n",
    "\n",
    "| Input  | Output |\n",
    "|--------|--------|\n",
    "| `This is a demonstration of the modulo effect in hashing` | `<100` |\n",
    "</div>"
   ]
  },
  {
   "cell_type": "code",
   "execution_count": 8,
   "metadata": {},
   "outputs": [
    {
     "name": "stdout",
     "output_type": "stream",
     "text": [
      "hash_string(This is a demonstration of the modulo effect in hashing) -> 50\n"
     ]
    }
   ],
   "source": [
    "print(f\"hash_string(This is a demonstration of the modulo effect in hashing) -> {hash_string('This is a demonstration of the modulo effect in hashing')}\")"
   ]
  },
  {
   "cell_type": "markdown",
   "metadata": {},
   "source": [
    "<div style=\"border: 3px solid #5C9E75; padding:8px; border-radius:5px; font-size:14px; background-color: transparent; width: 700px;\">\n",
    "    \n",
    "##### **Test 2C - \"Testing `hash_string`\"**  \n",
    "**We will now compare `hash_string(s)` against a similar method that doesn't use prime numbers**\n",
    "\n",
    "**Expected results:**\n",
    "\n",
    "| Input  | Output |\n",
    "|--------|--------|\n",
    "| `A list of strings` | `hash_string` should outperform `non_prime_hash_string`|\n",
    "</div>"
   ]
  },
  {
   "cell_type": "code",
   "execution_count": 18,
   "metadata": {},
   "outputs": [
    {
     "name": "stdout",
     "output_type": "stream",
     "text": [
      "\n",
      "Prime-based hash function (31, 101):\n",
      "\n",
      "Non-prime hash function (10, 100):\n",
      "\n",
      "String    | Prime Hash | Non-Prime Hash\n",
      "----------|------------|---------------\n",
      "by         | 28         | 1         \n",
      "cde        | 67         | 1         \n",
      "\n",
      "Prime function unique values: 2/2\n",
      "Non-prime function unique values: 1/2\n",
      "\n",
      "Test Passed: The prime hash function performed better.\n"
     ]
    }
   ],
   "source": [
    "def non_prime_hash_string(s: str) -> int:\n",
    "    hashval = 0\n",
    "    for char in s:\n",
    "        hashval = ord(char) + 10 * hashval\n",
    "    return hashval % 100\n",
    "\n",
    "def compare_hash_functions():\n",
    "    \"\"\"Compare prime vs non-prime hash functions\"\"\"\n",
    "    test_strings = [\n",
    "        \"by\",         \n",
    "        \"cde\"\n",
    "    ]\n",
    "    \n",
    "    print(\"\\nPrime-based hash function (31, 101):\")\n",
    "    prime_hashes = [hash_string(s) for s in test_strings]\n",
    "    prime_unique = len(set(prime_hashes))\n",
    "    \n",
    "    print(\"\\nNon-prime hash function (10, 100):\")\n",
    "    non_prime_hashes = [non_prime_hash_string(s) for s in test_strings]\n",
    "    non_prime_unique = len(set(non_prime_hashes))\n",
    "    \n",
    "    # Print side by side comparison\n",
    "    print(\"\\nString    | Prime Hash | Non-Prime Hash\")\n",
    "    print(\"----------|------------|---------------\")\n",
    "    for i, s in enumerate(test_strings):\n",
    "        print(f\"{s:<10} | {prime_hashes[i]:<10} | {non_prime_hashes[i]:<10}\")\n",
    "    \n",
    "    # Print collision stats\n",
    "    print(f\"\\nPrime function unique values: {prime_unique}/{len(test_strings)}\")\n",
    "    print(f\"Non-prime function unique values: {non_prime_unique}/{len(test_strings)}\")\n",
    "    \n",
    "    if prime_unique > non_prime_unique:\n",
    "        print(\"\\nTest Passed: The prime hash function performed better.\")\n",
    "    else:\n",
    "        print(\"\\nTest Failed: The prime hash function did not perform better.\")\n",
    "# Run the test\n",
    "compare_hash_functions()"
   ]
  },
  {
   "cell_type": "markdown",
   "metadata": {},
   "source": [
    "### Task 3: SHA256\n"
   ]
  },
  {
   "cell_type": "markdown",
   "metadata": {},
   "source": [
    "This task involves implementing a Python function that takes a file and calculates the SHA-256 padding required to send it securely. SHA-256 is a cryptographic hash function outlined in the Federal Information Processing Standard 180-4, published by the National Institute of Standards and Technology [(9)](https://nvlpubs.nist.gov/nistpubs/FIPS/NIST.FIPS.180-4.pdf). It is one of the most common hashing functions found in modern cybersecurity. However, it is critized for its computational demand, leading to proposed solutions such as Franck *et al*'s application-specific integrated circuit (ASIC) hardware accelerator [(10)](https://www.mdpi.com/2073-431X/13/1/9), a specialized chip designed specifically to perform the 64 rounds calculations required for each piece of SHA-256 encrypted data. These prosposals generally aim to integrate with SHA-256, as opposed to changing the core algorithm. \n",
    "\n",
    "The specifications outline what is appended to a SHA-256 encrypted message:\n",
    "- a `1` bit\n",
    "- enough `0` bits so the length in bits of padded message is the smallest possible multiple of `512`\n",
    "- the length in bits of the original input as a big-endian `64-bit` unsigned integer\n",
    "\n",
    "This means our padding calculator must get the size of the file in bits, calculate its length after appending `1` and the `64-bit` length field, and then determine the minimum amount of `0` bits required to make the length a multiple of `512`."
   ]
  },
  {
   "cell_type": "markdown",
   "metadata": {},
   "source": [
    "<div style=\"border: 3px solid #4F83CC; padding:8px; border-radius:5px; font-size:14px; background-color: transparent; width: 900px;\">\n",
    "\n",
    "**Task 3 Background Sources**\n",
    "- **(9)** [\"SECURE HASH STANDARD\" - Federal Information Processing Standards Publication 180-4](https://nvlpubs.nist.gov/nistpubs/FIPS/NIST.FIPS.180-4.pdf) - *Official standard by NIST covering the SHA family of hash functions, including padding rules for SHA-256.*\n",
    "- **(10)** [\"Custom ASIC Design for SHA-256 Using Open-Source Tools\" - Franck *et al*](https://www.mdpi.com/2073-431X/13/1/9) - *This paper proposes a custom ASIC hardware accelerator to efficiently run the SHA-256 algorithm, reducing computational overhead.*\n",
    "\n",
    "**Task 3 Solution Sources**\n",
    "- **(11)** [Python's Documentation on `struct`](https://docs.python.org/3/library/struct.html) *Describes how `struct.pack` can be used with `Q` to format data in unsigned long long.*\n",
    "</div>"
   ]
  },
  {
   "cell_type": "markdown",
   "metadata": {},
   "source": [
    "**Task 3.1 Calculate the SHA256 padding for a given file**\n",
    "- Get the file size in bytes using `os.path.getsize`, then multiply by `8` to convert to bits\n",
    "- Add the required `1` bit to the measured size\n",
    "- If the message + padding fits, calculate the 0s required to bring the total size to a multiple of `512`\n",
    "- If it doesn't fit, extend the padding into the next `512` bit block\n",
    "- Using [Python's struct](https://docs.python.org/3/library/struct.html), append the original length field as a `64-bit` unsigned integer in big-endian byte order to comply with SHA-256 rules (`struct.pack('>Q', file_size_bits)`)"
   ]
  },
  {
   "cell_type": "code",
   "execution_count": null,
   "metadata": {},
   "outputs": [],
   "source": [
    "def calculateSHA256padding(file_path):\n",
    "    # Get the file size in bits\n",
    "    file_size_bits = os.path.getsize(file_path) * 8\n",
    "    \n",
    "    # Add 1 bit\n",
    "    remainder = (file_size_bits + 1) % 512\n",
    "    # If the message and padding fits, use one block\n",
    "    if remainder <= 448:\n",
    "        padding_bits = 448 - remainder\n",
    "    # If the message and padding doesn't fit, use another block\n",
    "    else:\n",
    "        padding_bits = 960 - remainder\n",
    "    \n",
    "    # Create padding: 1 bit followed by required 0 bits\n",
    "    padding = b'\\x80' + b'\\x00' * (padding_bits // 8)\n",
    "    \n",
    "    # Append 64-bit representation of the original length\n",
    "    length_bytes = struct.pack('>Q', file_size_bits)\n",
    "    \n",
    "    # Complete padding\n",
    "    padding += length_bytes\n",
    "    \n",
    "    print(f\"Paddings hex: {padding.hex()}\")\n",
    "    return padding.hex()"
   ]
  },
  {
   "cell_type": "markdown",
   "metadata": {},
   "source": [
    "<div style=\"border: 3px solid #5C9E75; padding:8px; border-radius:5px; font-size:14px; background-color: transparent; width: 700px;\">\n",
    "    \n",
    "##### **Test 3A - \"Testing `calculateSHA256padding`\"**  \n",
    "**We will now test `calculateSHA256padding` for a file containing \"abc\"**\n",
    "\n",
    "**Expected results:**\n",
    "\n",
    "| Input  | Output |\n",
    "|--------|--------|\n",
    "| `abc` | `test_file_abc_padding` should return a total length of 512 bits|\n",
    "| `abc` | `calculateSHA256padding` should return a hex of 80 00 00 00 00 00 ... 18|\n",
    "\n",
    "</div>"
   ]
  },
  {
   "cell_type": "code",
   "execution_count": 116,
   "metadata": {},
   "outputs": [
    {
     "name": "stdout",
     "output_type": "stream",
     "text": [
      "Paddings hex: 80000000000000000000000000000000000000000000000000000000000000000000000000000000000000000000000000000000000000000000000018\n",
      "Test 3A passed: Total length is 512 bits\n"
     ]
    }
   ],
   "source": [
    "def test_abc_file_padding():\n",
    "    with tempfile.NamedTemporaryFile(delete=False) as temp:\n",
    "        temp.write(b'abc')\n",
    "        temp_path = temp.name\n",
    "\n",
    "    padding = bytes.fromhex(calculateSHA256padding(temp_path))\n",
    "    os.remove(temp_path)\n",
    "\n",
    "    total_length = (len(padding) * 8) + (3 * 8)\n",
    "\n",
    "    if total_length == 512:\n",
    "        print(f\"Test 3A passed: Total length is {total_length} bits\")\n",
    "    else:\n",
    "        print(f\"Test 3A failed: Total length is {total_length} bits\")\n",
    "\n",
    "test_abc_file_padding()"
   ]
  },
  {
   "cell_type": "markdown",
   "metadata": {},
   "source": [
    "<div style=\"border: 3px solid #5C9E75; padding:8px; border-radius:5px; font-size:14px; background-color: transparent; width: 750px;\">\n",
    "    \n",
    "##### **Test 3B - \"Testing `calculateSHA256padding`\"**  \n",
    "**We will now test `calculateSHA256padding` for a file with 56 bytes, requiring an extra block to fit padding**\n",
    "\n",
    "**Expected results:**\n",
    "\n",
    "| Input  | Output |\n",
    "|--------|--------|\n",
    "| `File with 56 bytes` | `calculateSHA256padding` should return a total length of 1024 bits|\n",
    "</div>"
   ]
  },
  {
   "cell_type": "code",
   "execution_count": 115,
   "metadata": {},
   "outputs": [
    {
     "name": "stdout",
     "output_type": "stream",
     "text": [
      "Paddings hex: 8000000000000000000000000000000000000000000000000000000000000000000000000000000000000000000000000000000000000000000000000000000000000000000001c0\n",
      "Test 3B passed: Total length is 1024 bits, padding is correct\n"
     ]
    }
   ],
   "source": [
    "def test_padding_causes_extra_block():\n",
    "    # 56 bytes = 448 bits so any padding forces an extra block\n",
    "    with tempfile.NamedTemporaryFile(delete=False) as temp:\n",
    "        temp.write(b'A' * 56)\n",
    "        temp_path = temp.name\n",
    "\n",
    "    padding = bytes.fromhex(calculateSHA256padding(temp_path))\n",
    "\n",
    "    # Get the file size in bits\n",
    "    file_size_bits = os.path.getsize(temp_path) * 8  # File size in bits\n",
    "    total_length = file_size_bits + len(padding) * 8\n",
    "\n",
    "    correct_length = total_length == 1024  # Expect 1024 bits total\n",
    "    correct_start = padding[0] == 0x80\n",
    "    correct_end = padding[-8:] == struct.pack('>Q', 448)\n",
    "\n",
    "    if correct_length and correct_start and correct_end:\n",
    "        print(f\"Test 3B passed: Total length is {total_length} bits, padding is correct\")\n",
    "    else:\n",
    "        print(f\"Test 3B failed: Total length is {total_length} bits\")\n",
    "        print(f\"Padding bits: {len(padding) * 8}\")\n",
    "        print(f\"Starts with 0x80? {padding[0] == 0x80}\")\n",
    "        print(f\"Ends with length 448? {padding[-8:] == struct.pack('>Q', 448)}\")\n",
    "\n",
    "        os.remove(temp_path)\n",
    "    \n",
    "\n",
    "test_padding_causes_extra_block()\n"
   ]
  },
  {
   "cell_type": "markdown",
   "metadata": {},
   "source": [
    "### Task 4: Prime Numbers"
   ]
  },
  {
   "cell_type": "markdown",
   "metadata": {},
   "source": [
    "This task involves calculating the first 100 prime numbers using two well-established algorithms. I have selected the following:\n",
    "\n",
    "- **Sieve of Eratosthenes** - An ancient algorithm attributed to Eratosthenes of Cyrene, a 3rd century BCE mathematician. The earliest reference to The Sieve of Eratosthenes appears in \"Introduction to Arithmetic\" by Nicomachus of Geresa in early 200 CE [(12)](https://en.wikipedia.org/wiki/Sieve_of_Eratosthenes). It has stood the test of time, remaining \"one of the most efficient ways to find small prime numbers, with a time complexity of `O(n log log n)` [(13)](https://cp-algorithms.com/algebra/sieve-of-eratosthenes.html). It begins with a list of integers from 2 through to n. After finding a prime, it marks all multiples of that prime as composite.\n",
    "\n",
    "- **Sieve of Sundaram** - An algorithm discovered in 1934 by S. P. Sundaram, a student in India [(14)](https://en.wikipedia.org/wiki/Sieve_of_Sundaram). It starts with all integers from 1 to n (where n is half the desired limit). It marks all numbers that match the formula `i + j + 2ij`. For unmarked numbers, it applies the formula `2i + 1`, returning the primes. It was selected as it offers improved efficiency when dealing with a limit under 5000 [(15)](https://iq.opengenus.org/sieve-of-sundaram/).\n",
    "\n",
    "After implementing both sieves, tests comparing their speed and accuracy are conducted."
   ]
  },
  {
   "cell_type": "markdown",
   "metadata": {},
   "source": [
    "<div style=\"border: 3px solid #4F83CC; padding:8px; border-radius:5px; font-size:14px; background-color: transparent; width: 900px;\">\n",
    "\n",
    "**Task 4 Sources**\n",
    "- **(12)** [\"Sieve of Eratosthenes\" - Wikipedia](https://en.wikipedia.org/wiki/Sieve_of_Eratosthenes) - *Explanation of the Sieve of Eratosthenes.*\n",
    "- **(13)** [\"Sieve of Eratosthenes\" - Algorithms for Competitive Programming](https://cp-algorithms.com/algebra/sieve-of-eratosthenes.html) - *Explanation of the Sieve of Eratosthenes' strengths*\n",
    "- **(14)** [\"Sieve of Sundaram\" - Wikipedia](https://en.wikipedia.org/wiki/Sieve_of_Sundaram) - *Explanation of the Sieve of Sundaram*\n",
    "- **(15)** [\"Find all primes with Sieve of Sundaram\" - opengenus](https://iq.opengenus.org/sieve-of-sundaram/) - *Explanation of the Sieve of Sundaram's stengths*\n",
    "</div>"
   ]
  },
  {
   "cell_type": "markdown",
   "metadata": {},
   "source": [
    "**Task 4.1 Sieve of Eratosthenes**\n",
    "\n",
    "- Start with an empty `primes` list.\n",
    "- Set an arbitrary starting `limit` of 500.\n",
    "- Create a boolean list `sieve` of size `limit + 1`, where all values are initially set to `True`, except for indices 0 and 1, which are `False`.\n",
    "- Loop through numbers starting from 2. For each number `i` that is still marked as prime (`True` in the `sieve` list), mark its multiples as `False`. \n",
    "- After completing the sieve for the current limit, collect all numbers that remain marked as `True` in the `sieve` list (these are prime numbers).\n",
    "- If the number of primes found is less than `n_primes`, double the `limit` and repeat the sieving process, resetting `primes` to avoid duplicates.\n",
    "- Once enough primes have been found, return the first `n_primes` primes.\n"
   ]
  },
  {
   "cell_type": "code",
   "execution_count": null,
   "metadata": {},
   "outputs": [],
   "source": [
    "def sieve_of_eratosthenes(n_primes):\n",
    "    primes = []\n",
    "    # Start with an arbitrary limit\n",
    "    limit = 500 \n",
    "    \n",
    "    while len(primes) < n_primes:\n",
    "        sieve = [True] * (limit + 1)\n",
    "        sieve[0] = sieve[1] = False\n",
    "        \n",
    "        # Sieve logic\n",
    "        for i in range(2, int(limit**0.5) + 1):\n",
    "            if sieve[i]:\n",
    "                for j in range(i * i, limit + 1, i):\n",
    "                    sieve[j] = False\n",
    "        \n",
    "        primes = [num for num, is_prime in enumerate(sieve) if is_prime]\n",
    "        \n",
    "        if len(primes) < n_primes:\n",
    "            # Double the limit if not enough primes found, reset primes to avoid duplicates\n",
    "            primes = []\n",
    "            limit *= 2\n",
    "    \n",
    "    return primes[:n_primes]\n"
   ]
  },
  {
   "cell_type": "markdown",
   "metadata": {},
   "source": [
    "**Task 4.2 Sieve of Sundaram**\n",
    "\n",
    "- Start with a `primes` list containing the number 2.\n",
    "- Set an arbitrary starting `limit` of 500.\n",
    "- Compute `m` as `(limit - 1) // 2`.\n",
    "- Create a boolean list `sieve` of size `m + 1`, initialized to `False`.\n",
    "- Loop through values of `i` from 1 to `m`. For each `i`, increment `j` and mark `i + j + 2 * i * j` as `True` in the `sieve` list when the condition `i + j + 2 * i * j <= m` is satisfied.\n",
    "- Generate odd primes by iterating through the `sieve` list, taking numbers of the form `2 * i + 1` for each `i` where `sieve[i]` is `False`.\n",
    "- If the number of primes found is less than `n_primes`, reset `primes` to just [2], double the `limit`, and repeat the sieving process.\n",
    "- Once enough primes have been found, return the first `n_primes` primes."
   ]
  },
  {
   "cell_type": "code",
   "execution_count": 133,
   "metadata": {},
   "outputs": [],
   "source": [
    "def sieve_of_sundaram(n_primes):\n",
    "    # This approach requires manually setting 2\n",
    "    primes = [2]\n",
    "    # Start with an arbitrary limit\n",
    "    limit = 500\n",
    "    while len(primes) < n_primes:\n",
    "        m = (limit - 1) // 2\n",
    "        sieve = [False] * (m + 1)\n",
    "\n",
    "        for i in range(1, m + 1):\n",
    "            j = i\n",
    "            while i + j + 2 * i * j <= m:\n",
    "                sieve[i + j + 2 * i * j] = True\n",
    "                j += 1\n",
    "\n",
    "        # Generate the odd primes from the sieve\n",
    "        odd_primes = [2 * i + 1 for i in range(1, m + 1) if not sieve[i]]\n",
    "        primes.extend(odd_primes)\n",
    "\n",
    "        # Double the limit if not enough primes found, reset primes to avoid duplicates\n",
    "        if len(primes) < n_primes:\n",
    "            primes = [2]\n",
    "            limit *= 2\n",
    "    \n",
    "    return primes[:n_primes]\n"
   ]
  },
  {
   "cell_type": "markdown",
   "metadata": {},
   "source": [
    "<div style=\"border: 3px solid #5C9E75; padding:8px; border-radius:5px; font-size:14px; background-color: transparent; width: 600px;\">\n",
    "    \n",
    "##### **Test 4A - \"Verifying `sieve_of_sundaram` and `sieve_of_eratosthenes`\"**  \n",
    "We will now test both algorithms and compare their results\n",
    "\n",
    "Expected results: Both algorithms should have identical outputs\n",
    "</div>\n"
   ]
  },
  {
   "cell_type": "code",
   "execution_count": 130,
   "metadata": {},
   "outputs": [
    {
     "name": "stdout",
     "output_type": "stream",
     "text": [
      "Test 4A Passed: Both methods have identical outputs.\n",
      "Primes from Sieve of Eratosthenes: [2, 3, 5, 7, 11, 13, 17, 19, 23, 29, 31, 37, 41, 43, 47, 53, 59, 61, 67, 71, 73, 79, 83, 89, 97, 101, 103, 107, 109, 113, 127, 131, 137, 139, 149, 151, 157, 163, 167, 173, 179, 181, 191, 193, 197, 199, 211, 223, 227, 229, 233, 239, 241, 251, 257, 263, 269, 271, 277, 281, 283, 293, 307, 311, 313, 317, 331, 337, 347, 349, 353, 359, 367, 373, 379, 383, 389, 397, 401, 409, 419, 421, 431, 433, 439, 443, 449, 457, 461, 463, 467, 479, 487, 491, 499, 503, 509, 521, 523, 541]\n",
      "Primes from Sieve of Sundaram: [2, 3, 5, 7, 11, 13, 17, 19, 23, 29, 31, 37, 41, 43, 47, 53, 59, 61, 67, 71, 73, 79, 83, 89, 97, 101, 103, 107, 109, 113, 127, 131, 137, 139, 149, 151, 157, 163, 167, 173, 179, 181, 191, 193, 197, 199, 211, 223, 227, 229, 233, 239, 241, 251, 257, 263, 269, 271, 277, 281, 283, 293, 307, 311, 313, 317, 331, 337, 347, 349, 353, 359, 367, 373, 379, 383, 389, 397, 401, 409, 419, 421, 431, 433, 439, 443, 449, 457, 461, 463, 467, 479, 487, 491, 499, 503, 509, 521, 523, 541]\n"
     ]
    }
   ],
   "source": [
    "primes_eratosthenes = sieve_of_eratosthenes(100)\n",
    "\n",
    "primes_sundaram = sieve_of_sundaram(100)\n",
    "\n",
    "if primes_eratosthenes == primes_sundaram:\n",
    "    print(\"Test 4A Passed: Both methods have identical outputs.\")\n",
    "else:\n",
    "    print(\"Test 4A Failed: The methods have different outputs.\")\n",
    "print(f\"Primes from Sieve of Eratosthenes: {primes_eratosthenes}\")\n",
    "print(f\"Primes from Sieve of Sundaram: {primes_sundaram}\")"
   ]
  },
  {
   "cell_type": "markdown",
   "metadata": {},
   "source": [
    "<div style=\"border: 3px solid #5C9E75; padding:8px; border-radius:5px; font-size:14px; background-color: transparent; width: 700px;\">\n",
    "    \n",
    "##### **Test 4B - \"Comparing `sieve_of_sundaram` and `sieve_of_eratosthenes` runtime\"**  \n",
    "We will now time both algorithms runtime for returning the first 10,000 primes.\n",
    "\n",
    "As this falls above 5000, we expect `sieve_of_eratosthenes` to outperform the `sieve_of_sundaram`.\n",
    "</div>\n"
   ]
  },
  {
   "cell_type": "code",
   "execution_count": 131,
   "metadata": {},
   "outputs": [
    {
     "name": "stdout",
     "output_type": "stream",
     "text": [
      "Eratosthenes sieve (limit 10,000) took 0.03549 seconds\n",
      "Sundaram sieve (limit 10,000) took 0.06212 seconds\n"
     ]
    }
   ],
   "source": [
    "import time\n",
    "\n",
    "def test_performance():\n",
    "    # Timing Eratosthenes sieve for limit 10,000\n",
    "    start = time.time()\n",
    "    sieve_of_eratosthenes(10000)\n",
    "    end = time.time()\n",
    "    print(f\"Eratosthenes sieve (limit 10,000) took {end - start:.5f} seconds\")\n",
    "\n",
    "    # Timing Sundaram sieve for limit 10,000\n",
    "    start = time.time()\n",
    "    sieve_of_sundaram(10000)\n",
    "    end = time.time()\n",
    "    print(f\"Sundaram sieve (limit 10,000) took {end - start:.5f} seconds\")\n",
    "    \n",
    "test_performance()"
   ]
  },
  {
   "cell_type": "markdown",
   "metadata": {},
   "source": [
    "<div style=\"border: 3px solid #5C9E75; padding:8px; border-radius:5px; font-size:14px; background-color: transparent; width: 600px;\">\n",
    "    \n",
    "##### **Test 4C - \"Comparing `sieve_of_sundaram` and `sieve_of_eratosthenes` accuracy\"**  \n",
    "We will now if a selection of primes appear in both algorithms\n",
    "</div>"
   ]
  },
  {
   "cell_type": "code",
   "execution_count": 134,
   "metadata": {},
   "outputs": [
    {
     "name": "stdout",
     "output_type": "stream",
     "text": [
      "Test 4C Passed: All random primes found in Sundaram sieve.\n",
      "Test 4C Passed: All random primes found in Eratosthenes sieve.\n"
     ]
    }
   ],
   "source": [
    "def checking_primes():\n",
    "    random_primes = [7417, 3709, 547, 2383, 809, 13]\n",
    "    primes_sundaram = sieve_of_sundaram(10000)\n",
    "    primes_eratosthenes = sieve_of_eratosthenes(10000)\n",
    "\n",
    "    all_found_in_sundaram = all(prime in primes_sundaram for prime in random_primes)\n",
    "    all_found_in_eratosthenes = all(prime in primes_eratosthenes for prime in random_primes)\n",
    "\n",
    "    if all_found_in_sundaram:\n",
    "        print(\"Test 4C Passed: All random primes found in Sundaram sieve.\")\n",
    "    else:\n",
    "        print(\"Test 4C Failed: Not all random primes found in Sundaram sieve.\")\n",
    "    \n",
    "    if all_found_in_eratosthenes:\n",
    "        print(\"Test 4C Passed: All random primes found in Eratosthenes sieve.\")\n",
    "    else:\n",
    "        print(\"Test 4C Failed: Not all random primes found in Eratosthenes sieve.\")\n",
    "\n",
    "checking_primes()"
   ]
  },
  {
   "cell_type": "markdown",
   "metadata": {},
   "source": [
    "### Task 5: Roots"
   ]
  },
  {
   "cell_type": "markdown",
   "metadata": {},
   "source": [
    "This task involves calculating the first 32 bits of the fractional part of square roots for the first 100 prime numbers. This calculation is used across cyptography. SHA-256 uses the the first 32 bits of the fractional part of square roots of the first 8 prime numbers to generate its initial hash values [(16)](https://en.wikipedia.org/wiki/SHA-2)."
   ]
  },
  {
   "cell_type": "markdown",
   "metadata": {},
   "source": [
    "<div style=\"border: 3px solid #4F83CC; padding:8px; border-radius:5px; font-size:14px; background-color: transparent; width: 900px;\">\n",
    "\n",
    "**Task 5 Sources**\n",
    "- **(16)** [\"SHA-2\" - Wikipedia](https://en.wikipedia.org/wiki/SHA-2) - *Includes psuedocode for generating SHA-256 initial hash values*\n",
    "- **(17)** [\"math - Mathematical functions\" - Python Documentation](https://docs.python.org/3/library/math.html) - *provides the mathematical functions required for task 5*\n",
    "</div>"
   ]
  },
  {
   "cell_type": "markdown",
   "metadata": {},
   "source": [
    "**Task 5.1 First 100 Prime Numbers**\n",
    "\n",
    "Before calculating the square root of the first 100 prime numbers, we need those numbers.\n",
    "\n",
    "To get the first 100 prime numbers, we can use the `sieve_of_eratosthenes` method from the previous task"
   ]
  },
  {
   "cell_type": "code",
   "execution_count": 135,
   "metadata": {},
   "outputs": [],
   "source": [
    "first_100_primes = sieve_of_eratosthenes(100)"
   ]
  },
  {
   "cell_type": "markdown",
   "metadata": {},
   "source": [
    "**Task 5.2 Square Root of Each Prime Number**\n",
    "\n",
    "Using [Python's math module](http://docs.python.org/3/library/math.html), the square root of each prime is calculated"
   ]
  },
  {
   "cell_type": "code",
   "execution_count": 136,
   "metadata": {},
   "outputs": [],
   "source": [
    "import math\n",
    "\n",
    "square_roots = [math.sqrt(p) for p in first_100_primes]"
   ]
  },
  {
   "cell_type": "markdown",
   "metadata": {},
   "source": [
    "**Task 5.3 Extract Fractional Part of Square Roots**\n",
    "\n",
    "The whole integer is subtracted from the square root to isolate the fractional part"
   ]
  },
  {
   "cell_type": "code",
   "execution_count": 137,
   "metadata": {},
   "outputs": [],
   "source": [
    "fractional_parts = [sqrt - int(sqrt) for sqrt in square_roots]"
   ]
  },
  {
   "cell_type": "markdown",
   "metadata": {},
   "source": [
    "**Task 5.4 Calculate First 32 Bits from Each Square Root**\n",
    "\n",
    "Each fractional part is multiplied by 2 to the power of 32 to find the bits, then returned in bits format."
   ]
  },
  {
   "cell_type": "code",
   "execution_count": 138,
   "metadata": {},
   "outputs": [],
   "source": [
    "def get_first_32_bits(fractional_part):\n",
    "    bits = int(fractional_part * (2**32))\n",
    "\n",
    "    return format(bits, '032b')  \n",
    "\n",
    "binary_fractions = [get_first_32_bits(fraction) for fraction in fractional_parts]"
   ]
  },
  {
   "cell_type": "markdown",
   "metadata": {},
   "source": [
    "**Task 5.5 Print Results**\n",
    "\n",
    "The first 32 bits of each fractional part are printed"
   ]
  },
  {
   "cell_type": "code",
   "execution_count": 139,
   "metadata": {},
   "outputs": [
    {
     "name": "stdout",
     "output_type": "stream",
     "text": [
      "  2 -> 01101010000010011110011001100111\n",
      "  3 -> 10111011011001111010111010000101\n",
      "  5 -> 00111100011011101111001101110010\n",
      "  7 -> 10100101010011111111010100111010\n",
      " 11 -> 01010001000011100101001001111111\n",
      " 13 -> 10011011000001010110100010001100\n",
      " 17 -> 00011111100000111101100110101011\n",
      " 19 -> 01011011111000001100110100011001\n",
      " 23 -> 11001011101110111001110101011101\n",
      " 29 -> 01100010100110100010100100101010\n",
      " 31 -> 10010001010110010000000101011010\n",
      " 37 -> 00010101001011111110110011011000\n",
      " 41 -> 01100111001100110010011001100111\n",
      " 43 -> 10001110101101000100101010000111\n",
      " 47 -> 11011011000011000010111000001101\n",
      " 53 -> 01000111101101010100100000011101\n",
      " 59 -> 10101110010111111001000101010110\n",
      " 61 -> 11001111011011001000010111010011\n",
      " 67 -> 00101111011100110100011101111101\n",
      " 71 -> 01101101000110000010011011001010\n",
      " 73 -> 10001011010000111101010001010111\n",
      " 79 -> 11100011011000001011010110010110\n",
      " 83 -> 00011100010001010110000000000010\n",
      " 89 -> 01101111000110010110001100110001\n",
      " 97 -> 11011001010011101011111010110001\n",
      "101 -> 00001100110001001010011000010001\n",
      "103 -> 00100110000111011100000111110010\n",
      "107 -> 01011000000101011010011110111110\n",
      "109 -> 01110000101101111110110101100111\n",
      "113 -> 10100001010100010011110001101001\n",
      "127 -> 01000100111110010011011000110101\n",
      "131 -> 01110010000011011100110111111101\n",
      "137 -> 10110100011001110011011010011110\n",
      "139 -> 11001010001100100000101101110101\n",
      "149 -> 00110100111000001101010000101110\n",
      "151 -> 01001001110001111101100110111101\n",
      "157 -> 10000111101010111011100111110010\n",
      "163 -> 11000100011000111010001011111100\n",
      "167 -> 11101100001111111100001111110011\n",
      "173 -> 00100111001001110111111101101101\n",
      "179 -> 01100001000010111110101111110010\n",
      "181 -> 01110100001000001011010010011110\n",
      "191 -> 11010001111111011000101000110011\n",
      "193 -> 11100100011101110011010110010100\n",
      "197 -> 00001001001000011001011111110110\n",
      "199 -> 00011011010100110000110010010101\n",
      "211 -> 10000110100111010110001101000010\n",
      "223 -> 11101110111001010010111001001111\n",
      "227 -> 00010001000001110110011010001001\n",
      "229 -> 00100001111110111010001101111011\n",
      "233 -> 01000011101010111001111110110110\n",
      "239 -> 01110101101010011111100100011101\n",
      "241 -> 10000110001100000101000000011001\n",
      "251 -> 11010111110011011000000101110011\n",
      "257 -> 00000111111111100000000011111111\n",
      "263 -> 00110111100111110101000100111111\n",
      "269 -> 01100110101101100101000110101000\n",
      "271 -> 01110110010010101011100001000010\n",
      "277 -> 10100100101100000110101111100001\n",
      "281 -> 11000011010101111000110000010101\n",
      "283 -> 11010010100101100010101001010011\n",
      "293 -> 00011110000000111001111101000000\n",
      "307 -> 10000101011110110111101111101110\n",
      "311 -> 10100010100110111111001011011110\n",
      "313 -> 10110001000110100011001011101000\n",
      "317 -> 11001101111100110100111010000000\n",
      "331 -> 00110001100000110000010000100110\n",
      "337 -> 01011011100010010000100100101011\n",
      "347 -> 10100000110000000110101000010011\n",
      "349 -> 10101110011110011000010000101111\n",
      "353 -> 11001001110011011010011010001001\n",
      "359 -> 11110010100000011111001000111001\n",
      "367 -> 00101000010000010010010110010010\n",
      "373 -> 01010000001011100110010011011011\n",
      "379 -> 01110111110010011100001000010001\n",
      "383 -> 10010010000001001100110110011101\n",
      "389 -> 10111001000110111111011001100011\n",
      "397 -> 11101100110000111000110010011101\n",
      "401 -> 00000110011001010110000010010101\n",
      "409 -> 00111001010001111001001110000001\n",
      "419 -> 01111000001100000111011010010111\n",
      "421 -> 10000100101011100100101101111100\n",
      "431 -> 11000010101100101011011101010101\n",
      "433 -> 11001111000000111101001000001110\n",
      "439 -> 11110011110010111011000100010111\n",
      "443 -> 00001100001011010011101101001011\n",
      "449 -> 00110000100010101111000101100001\n",
      "457 -> 01100000101001111010100110011000\n",
      "461 -> 01111000100011011001100000010010\n",
      "463 -> 10000100011101101001101101000010\n",
      "467 -> 10011100001101001111000001100010\n",
      "479 -> 11100010110101010110010011000100\n",
      "487 -> 00010001011011010111010111111101\n",
      "491 -> 00101000100101001100000100000111\n",
      "499 -> 01010110100110110101100011000110\n",
      "503 -> 01101101011110110011100100111001\n",
      "509 -> 10001111100111111000110110111011\n",
      "521 -> 11010011010011110000001111001101\n",
      "523 -> 11011110100000110111001011101111\n",
      "541 -> 01000010011010000111101000111001\n"
     ]
    }
   ],
   "source": [
    "for i, binary_fraction in enumerate(binary_fractions):\n",
    "    print(f\"{first_100_primes[i]:>3} -> {binary_fraction}\")"
   ]
  },
  {
   "cell_type": "markdown",
   "metadata": {},
   "source": [
    "<div style=\"border: 3px solid #5C9E75; padding:8px; border-radius:5px; font-size:14px; background-color: transparent; width: 750px;\">\n",
    "    \n",
    "##### **Test 5A - \"Verifying `binary_fraction`**  \n",
    "We will now test `binary_fractions` calculation against the first 32 bits of the fractional part of 72's square root\n",
    "\n",
    "72 - 8.48528137424... - 48528137424 - 01111100001110110110011001101111\n",
    "</div>"
   ]
  },
  {
   "cell_type": "code",
   "execution_count": 140,
   "metadata": {},
   "outputs": [
    {
     "name": "stdout",
     "output_type": "stream",
     "text": [
      "First 32 bits of fractional part of square root of 72: 01111100001110110110011001101111\n",
      "Test 5A Passed: The first 32 bits match.\n"
     ]
    }
   ],
   "source": [
    "square_root_72 = math.sqrt(72)\n",
    "\n",
    "fractional_part_72 = square_root_72 - int(square_root_72)\n",
    "\n",
    "first_32_bits_72 = get_first_32_bits(fractional_part_72)\n",
    "\n",
    "print(f\"First 32 bits of fractional part of square root of 72: {first_32_bits_72}\")\n",
    "\n",
    "if first_32_bits_72 == \"01111100001110110110011001101111\":\n",
    "    print(\"Test 5A Passed: The first 32 bits match.\")\n",
    "else:\n",
    "    print(\"Test 5A Failed: The first 32 bits do not match.\")"
   ]
  },
  {
   "cell_type": "markdown",
   "metadata": {},
   "source": [
    "<div style=\"border: 3px solid #5C9E75; padding:8px; border-radius:5px; font-size:14px; background-color: transparent; width: 750px;\">\n",
    "    \n",
    "##### **Test 5B - \"Verifying `binary_fraction`**  \n",
    "We will now test `binary_fractions` against 8 known hex constants of the fractional part of the first 8 prime numbers\n",
    "\n",
    "We will be converting our `binary_fractions` to hex for comparison.\n",
    "\n",
    "These hex constants are used in SHA-256 as the initial hash values\n",
    "</div>"
   ]
  },
  {
   "cell_type": "code",
   "execution_count": 141,
   "metadata": {},
   "outputs": [
    {
     "name": "stdout",
     "output_type": "stream",
     "text": [
      "PASS: Prime 2 → 6a09e667\n",
      "PASS: Prime 3 → bb67ae85\n",
      "PASS: Prime 5 → 3c6ef372\n",
      "PASS: Prime 7 → a54ff53a\n",
      "PASS: Prime 11 → 510e527f\n",
      "PASS: Prime 13 → 9b05688c\n",
      "PASS: Prime 17 → 1f83d9ab\n",
      "PASS: Prime 19 → 5be0cd19\n",
      "Test 5B Passed: Top 8 binary fractions match known SHA-256 constants.\n"
     ]
    }
   ],
   "source": [
    "def test_binary_fractions_against_sha_constants():\n",
    "    expected_hex = [\n",
    "        \"6a09e667\",\n",
    "        \"bb67ae85\",\n",
    "        \"3c6ef372\",\n",
    "        \"a54ff53a\",\n",
    "        \"510e527f\",\n",
    "        \"9b05688c\",\n",
    "        \"1f83d9ab\",\n",
    "        \"5be0cd19\"\n",
    "    ]\n",
    "\n",
    "    all_passed = True\n",
    "\n",
    "    for i, expected in enumerate(expected_hex):\n",
    "        # Convert binary string to hex\n",
    "        actual_bin = binary_fractions[i]\n",
    "        actual_hex = format(int(actual_bin, 2), '08x')\n",
    "\n",
    "        if actual_hex == expected:\n",
    "            print(f\"PASS: Prime {first_100_primes[i]} → {actual_hex}\")\n",
    "        else:\n",
    "            print(f\"FAIL: Prime {first_100_primes[i]} → got {actual_hex}, expected {expected}\")\n",
    "            all_passed = False\n",
    "\n",
    "    if all_passed:\n",
    "        print(\"Test 5B Passed: Top 8 binary fractions match known SHA-256 constants.\")\n",
    "    else:\n",
    "        print(\"Test 5B Failed: One or more values did not match.\")\n",
    "\n",
    "test_binary_fractions_against_sha_constants()        \n"
   ]
  },
  {
   "cell_type": "markdown",
   "metadata": {},
   "source": [
    "### Task 6: Proof of Work"
   ]
  },
  {
   "cell_type": "code",
   "execution_count": 87,
   "metadata": {},
   "outputs": [],
   "source": [
    "import hashlib\n",
    "\n",
    "def count_leading_zero_bits(digest):\n",
    "    count = 0\n",
    "    for byte in digest:\n",
    "        for i in range(8):\n",
    "            if (byte >> (7 - i)) & 1 == 0:\n",
    "                count += 1\n",
    "            else:\n",
    "                return count\n",
    "    return count\n"
   ]
  },
  {
   "cell_type": "code",
   "execution_count": 88,
   "metadata": {},
   "outputs": [],
   "source": [
    "def load_words(filename):\n",
    "    with open(filename, \"r\") as f:\n",
    "        return [line.strip() for line in f if line.strip().isalpha()]\n",
    "\n",
    "def find_best_words(words):\n",
    "    max_zeros = 0\n",
    "    best_words = []\n",
    "\n",
    "    for word in words:\n",
    "        digest = hashlib.sha256(word.encode(\"utf-8\")).digest()\n",
    "        zeros = count_leading_zero_bits(digest)\n",
    "\n",
    "        if zeros > max_zeros:\n",
    "            max_zeros = zeros\n",
    "            best_words = [word]\n",
    "        elif zeros == max_zeros:\n",
    "            best_words.append(word)\n",
    "\n",
    "    return max_zeros, best_words"
   ]
  },
  {
   "cell_type": "code",
   "execution_count": 89,
   "metadata": {},
   "outputs": [
    {
     "name": "stdout",
     "output_type": "stream",
     "text": [
      "Max leading zero bits: 18\n",
      "Top word(s):\n",
      "goaltenders\n"
     ]
    }
   ],
   "source": [
    "word_file = \"dictionary.txt\"  \n",
    "word_list = load_words(word_file)\n",
    "\n",
    "max_bits, top_words = find_best_words(word_list)\n",
    "\n",
    "print(f\"Max leading zero bits: {max_bits}\")\n",
    "print(\"Top word(s):\")\n",
    "for word in top_words:\n",
    "    print(word)"
   ]
  },
  {
   "cell_type": "markdown",
   "metadata": {},
   "source": [
    "<div style=\"border: 3px solid #5C9E75; padding:8px; border-radius:5px; font-size:14px; background-color: transparent; width: 750px;\">\n",
    "    \n",
    "##### **Test 6A - \"Verifying `find_best_words`**  \n",
    "We will now test `find_best_words` with a list of 5 words, from which we know \"flight\" has the highest leading zero bits\n",
    "</div>"
   ]
  },
  {
   "cell_type": "code",
   "execution_count": 94,
   "metadata": {},
   "outputs": [
    {
     "name": "stdout",
     "output_type": "stream",
     "text": [
      "Max leading zero bits: 6\n",
      "Top word(s): ['flight']\n",
      "Test 6A passed: The word 'flight' has the most leading zero bits.\n"
     ]
    }
   ],
   "source": [
    "def test_flight():\n",
    "    words = [\"cold\", \"empire\", \"flight\", \"America\", \"holiday\"]\n",
    "    max_zeros, top_words = find_best_words(words)\n",
    "    print(f\"Max leading zero bits: {max_zeros}\")\n",
    "    print(f\"Top word(s): {top_words}\")\n",
    "    if max_zeros == 6 and top_words == [\"flight\"]:\n",
    "        print(\"Test 6A passed: The word 'flight' has the most leading zero bits.\")\n",
    "    else:\n",
    "        print(\"Test 6A failed: The word 'flight' was not selected.\")\n",
    "\n",
    "test_flight()"
   ]
  },
  {
   "cell_type": "markdown",
   "metadata": {},
   "source": [
    "<div style=\"border: 3px solid #5C9E75; padding:8px; border-radius:5px; font-size:14px; background-color: transparent; width: 750px;\">\n",
    "    \n",
    "##### **Test 6B - \"Verifying `find_best_words`**  \n",
    "We will now test `find_best_words` with a list of 5 words, from which we know the words \"apple\" and \"cherry\" are tied for the most leading 0 bits\n",
    "</div>"
   ]
  },
  {
   "cell_type": "code",
   "execution_count": 96,
   "metadata": {},
   "outputs": [
    {
     "name": "stdout",
     "output_type": "stream",
     "text": [
      "Max leading zero bits: 2\n",
      "Top word(s): ['apple', 'cherry']\n",
      "Test 6B passed: There was a tie.\n"
     ]
    }
   ],
   "source": [
    "def test_tie():\n",
    "    words = [\"apple\", \"banana\", \"cherry\", \"a\", \"elderberry\"]\n",
    "    max_zeros, top_words = find_best_words(words)\n",
    "    print(f\"Max leading zero bits: {max_zeros}\")\n",
    "    print(f\"Top word(s): {top_words}\")\n",
    "    if len(top_words) > 1:\n",
    "        print(\"Test 6B passed: There was a tie.\")\n",
    "    else:\n",
    "        print(\"Test 6B failed: There was no tie.\")\n",
    "\n",
    "test_tie()"
   ]
  },
  {
   "cell_type": "markdown",
   "metadata": {},
   "source": [
    "### Task 7: Turing Machines"
   ]
  },
  {
   "cell_type": "code",
   "execution_count": 29,
   "metadata": {},
   "outputs": [],
   "source": [
    "# Default Turing machine configuration\n",
    "tape = []\n",
    "head = 0\n",
    "state = 'q0'"
   ]
  },
  {
   "cell_type": "code",
   "execution_count": 30,
   "metadata": {},
   "outputs": [],
   "source": [
    "# Define transition rules\n",
    "def get_transitions():\n",
    "    return {\n",
    "        ('q0', '0'): ('q0', '0', 'R'),\n",
    "        ('q0', '1'): ('q0', '1', 'R'),\n",
    "        ('q0', '_'): ('q1', '_', 'L'),\n",
    "        \n",
    "        ('q1', '0'): ('qf', '1', 'N'),\n",
    "        ('q1', '1'): ('q2', '0', 'L'),\n",
    "\n",
    "        ('q2', '0'): ('qf', '1', 'N'),\n",
    "        ('q2', '1'): ('q2', '0', 'L'),\n",
    "        ('q2', '_'): ('qf', '1', 'N')\n",
    "    }"
   ]
  },
  {
   "cell_type": "code",
   "execution_count": 31,
   "metadata": {},
   "outputs": [],
   "source": [
    "# Step function for the Turing machine\n",
    "def step():\n",
    "    global head, state, tape\n",
    "    symbol = tape[head] if 0 <= head < len(tape) else '_'\n",
    "    key = (state, symbol)\n",
    "    \n",
    "    transitions = get_transitions()\n",
    "    \n",
    "    if key not in transitions:\n",
    "        return\n",
    "    \n",
    "    new_state, new_symbol, direction = transitions[key]\n",
    "    \n",
    "    tape[head] = new_symbol\n",
    "    state = new_state\n",
    "\n",
    "    if direction == 'R':\n",
    "        head += 1\n",
    "    elif direction == 'L':\n",
    "        head -= 1\n",
    "\n",
    "    # Tape extension\n",
    "    if head < 0:\n",
    "        tape.insert(0, '_')\n",
    "        head = 0\n",
    "    elif head >= len(tape):\n",
    "        tape.append('_')\n"
   ]
  },
  {
   "cell_type": "code",
   "execution_count": null,
   "metadata": {},
   "outputs": [],
   "source": [
    "def run_turing_machine(input_binary):\n",
    "    global tape, head, state\n",
    "    # Initialize tape with input binary, return 1 if input is empty\n",
    "    if input_binary == \"\":\n",
    "        return \"1\"\n",
    "    else:\n",
    "        tape = list(input_binary) + ['_']\n",
    "    \n",
    "    head = 0\n",
    "    state = 'q0'\n",
    "    \n",
    "    steps = 0\n",
    "    while state != 'qf':\n",
    "        step()\n",
    "        steps += 1\n",
    "    \n",
    "    return ''.join(tape).strip('_')"
   ]
  },
  {
   "cell_type": "markdown",
   "metadata": {},
   "source": [
    "<div style=\"border: 3px solid #5C9E75; padding:8px; border-radius:5px; font-size:14px; background-color: transparent; width: 350px;\">\n",
    "    \n",
    "##### **Test 7A - Testing `add_one_binary` No Carry**  \n",
    "**We will now verify our turing machine correctly handles a case when no carry is required**\n",
    "\n",
    "**Expected results:**\n",
    "\n",
    "| Input  | Output |\n",
    "|--------|--------|\n",
    "| `10010` | `10011` |\n",
    "</div>"
   ]
  },
  {
   "cell_type": "code",
   "execution_count": 33,
   "metadata": {},
   "outputs": [
    {
     "name": "stdout",
     "output_type": "stream",
     "text": [
      "10011\n",
      "Test 7A passed!\n"
     ]
    }
   ],
   "source": [
    "# Test 7A - No Carry\n",
    "result = run_turing_machine(\"10010\")\n",
    "print(result)\n",
    "if result == \"10011\":\n",
    "    print(f\"Test 7A passed!\")\n",
    "else:\n",
    "    print(f\"Test 7A failed. Expected: 10011\")"
   ]
  },
  {
   "cell_type": "markdown",
   "metadata": {},
   "source": [
    "<div style=\"border: 3px solid #5C9E75; padding:8px; border-radius:5px; font-size:14px; background-color: transparent; width: 400px;\">\n",
    "    \n",
    "##### **Test 7B - \"Testing Binary Increment: Single Carry\"**  \n",
    "**We will verify our Turing machine correctly handles a case requiring a single carry operation when the least significant bit is 1.**\n",
    "\n",
    "**Expected results:**\n",
    "\n",
    "| Input  | Output |\n",
    "|--------|--------|\n",
    "| `101` | `110` |\n",
    "</div>"
   ]
  },
  {
   "cell_type": "code",
   "execution_count": 34,
   "metadata": {},
   "outputs": [
    {
     "name": "stdout",
     "output_type": "stream",
     "text": [
      "110\n",
      "Test 7B passed!\n"
     ]
    }
   ],
   "source": [
    "# Test 7B -  Carry\n",
    "result = run_turing_machine(\"101\")\n",
    "print(result)\n",
    "if result == \"110\":\n",
    "    print(\"Test 7B passed!\")\n",
    "else:\n",
    "    print(f\"Test 7B failed. Expected: 110\")"
   ]
  },
  {
   "cell_type": "markdown",
   "metadata": {},
   "source": [
    "<div style=\"border: 3px solid #5C9E75; padding:8px; border-radius:5px; font-size:14px; background-color: transparent; width: 400px;\">\n",
    "    \n",
    "##### **Test 7C - \"Testing Binary Increment: Multiple Carries\"**  \n",
    "**We will verify our Turing machine correctly handles a situation requiring multiple carry operations when consecutive least significant bits are 1.**\n",
    "\n",
    "**Expected results:**\n",
    "\n",
    "| Input  | Output |\n",
    "|--------|--------|\n",
    "| `1111` | `10000` |\n",
    "</div>"
   ]
  },
  {
   "cell_type": "code",
   "execution_count": 35,
   "metadata": {},
   "outputs": [
    {
     "name": "stdout",
     "output_type": "stream",
     "text": [
      "10000\n",
      "Test 7C passed!\n"
     ]
    }
   ],
   "source": [
    "# Test 7C - Multiple Carries\n",
    "result = run_turing_machine(\"1111\")\n",
    "print(result)\n",
    "if result == \"10000\":\n",
    "    print(\"Test 7C passed!\")\n",
    "else:\n",
    "    print(f\"Test 7C failed. Expected: 10000\")"
   ]
  },
  {
   "cell_type": "markdown",
   "metadata": {},
   "source": [
    "<div style=\"border: 3px solid #5C9E75; padding:8px; border-radius:5px; font-size:14px; background-color: transparent; width: 500px;\">\n",
    "    \n",
    "##### **Test 7D - \"Testing Binary Increment: Empty String Edge Case\"**  \n",
    "**We will test our Turing machine's ability to handle an empty input, which should be interpreted as 0.**\n",
    "\n",
    "**Expected results:**\n",
    "\n",
    "| Input  | Output |\n",
    "|--------|--------|\n",
    "| `\"\"` | `\"1\"` |\n",
    "</div>"
   ]
  },
  {
   "cell_type": "code",
   "execution_count": 40,
   "metadata": {},
   "outputs": [
    {
     "name": "stdout",
     "output_type": "stream",
     "text": [
      "1\n",
      "Test 7D passed!\n"
     ]
    }
   ],
   "source": [
    "# Test 7D - Empty String\n",
    "result = run_turing_machine(\"\")\n",
    "print(result)\n",
    "if result == \"1\":\n",
    "    print(\"Test 7D passed!\")\n",
    "else:\n",
    "    print(f\"Test 7D failed. Expected: 1\")"
   ]
  },
  {
   "cell_type": "markdown",
   "metadata": {},
   "source": [
    "### Task 8: Computational Complexity"
   ]
  },
  {
   "cell_type": "code",
   "execution_count": 98,
   "metadata": {},
   "outputs": [
    {
     "name": "stdout",
     "output_type": "stream",
     "text": [
      "Bubble Sorted Array: [1, 2, 3, 4, 5] Comparison Count: 4\n"
     ]
    }
   ],
   "source": [
    "def bubble_sort(arr):\n",
    "    # Copy the array to avoid modifying the original\n",
    "    arr = arr.copy()\n",
    "    # set the comparison count to 0\n",
    "    comparison_count = 0\n",
    "    # Get the length of the array\n",
    "    n = len(arr)\n",
    "    \n",
    "    # Move through the array\n",
    "    for i in range(n):\n",
    "        # Flag to check if a swap occurred\n",
    "        swapped = False\n",
    "        \n",
    "        # Exclude the last i numbers as they are already sorted\n",
    "        for j in range(0, n-i-1):\n",
    "            # Increment the comparison count\n",
    "            comparison_count += 1\n",
    "            # Swap if the number found is greater than the next number\n",
    "            if arr[j] > arr[j+1]:\n",
    "                arr[j], arr[j+1] = arr[j+1], arr[j]\n",
    "                swapped = True\n",
    "        # If no two elements were swapped in the inner loop, then break\n",
    "        if swapped == False:\n",
    "            break\n",
    "    \n",
    "    return arr, comparison_count\n",
    "\n",
    "bubble_sorted = bubble_sort([1, 2, 3, 4, 5])\n",
    "print(\"Bubble Sorted Array:\", bubble_sorted[0], \"Comparison Count:\", bubble_sorted[1])"
   ]
  },
  {
   "cell_type": "code",
   "execution_count": 99,
   "metadata": {},
   "outputs": [],
   "source": [
    "import itertools\n",
    "\n",
    "def get_all_permutations(arr):\n",
    "    # Generate all permutations using itertools\n",
    "    all_permutations = list(itertools.permutations(arr))\n",
    "    \n",
    "    # Convert each permutation tuple to a list\n",
    "    result = [list(perm) for perm in all_permutations]\n",
    "    \n",
    "    return result"
   ]
  },
  {
   "cell_type": "code",
   "execution_count": 100,
   "metadata": {},
   "outputs": [
    {
     "name": "stdout",
     "output_type": "stream",
     "text": [
      "Permutation 1: [1, 2, 3, 4, 5] -> Sorted: [1, 2, 3, 4, 5], Comparison Count: 4\n",
      "Permutation 2: [1, 2, 3, 5, 4] -> Sorted: [1, 2, 3, 4, 5], Comparison Count: 7\n",
      "Permutation 3: [1, 2, 4, 3, 5] -> Sorted: [1, 2, 3, 4, 5], Comparison Count: 7\n",
      "Permutation 4: [1, 2, 4, 5, 3] -> Sorted: [1, 2, 3, 4, 5], Comparison Count: 9\n",
      "Permutation 5: [1, 2, 5, 3, 4] -> Sorted: [1, 2, 3, 4, 5], Comparison Count: 7\n",
      "Permutation 6: [1, 2, 5, 4, 3] -> Sorted: [1, 2, 3, 4, 5], Comparison Count: 9\n",
      "Permutation 7: [1, 3, 2, 4, 5] -> Sorted: [1, 2, 3, 4, 5], Comparison Count: 7\n",
      "Permutation 8: [1, 3, 2, 5, 4] -> Sorted: [1, 2, 3, 4, 5], Comparison Count: 7\n",
      "Permutation 9: [1, 3, 4, 2, 5] -> Sorted: [1, 2, 3, 4, 5], Comparison Count: 9\n",
      "Permutation 10: [1, 3, 4, 5, 2] -> Sorted: [1, 2, 3, 4, 5], Comparison Count: 10\n",
      "Permutation 11: [1, 3, 5, 2, 4] -> Sorted: [1, 2, 3, 4, 5], Comparison Count: 9\n",
      "Permutation 12: [1, 3, 5, 4, 2] -> Sorted: [1, 2, 3, 4, 5], Comparison Count: 10\n",
      "Permutation 13: [1, 4, 2, 3, 5] -> Sorted: [1, 2, 3, 4, 5], Comparison Count: 7\n",
      "Permutation 14: [1, 4, 2, 5, 3] -> Sorted: [1, 2, 3, 4, 5], Comparison Count: 9\n",
      "Permutation 15: [1, 4, 3, 2, 5] -> Sorted: [1, 2, 3, 4, 5], Comparison Count: 9\n",
      "Permutation 16: [1, 4, 3, 5, 2] -> Sorted: [1, 2, 3, 4, 5], Comparison Count: 10\n",
      "Permutation 17: [1, 4, 5, 2, 3] -> Sorted: [1, 2, 3, 4, 5], Comparison Count: 9\n",
      "Permutation 18: [1, 4, 5, 3, 2] -> Sorted: [1, 2, 3, 4, 5], Comparison Count: 10\n",
      "Permutation 19: [1, 5, 2, 3, 4] -> Sorted: [1, 2, 3, 4, 5], Comparison Count: 7\n",
      "Permutation 20: [1, 5, 2, 4, 3] -> Sorted: [1, 2, 3, 4, 5], Comparison Count: 9\n",
      "Permutation 21: [1, 5, 3, 2, 4] -> Sorted: [1, 2, 3, 4, 5], Comparison Count: 9\n",
      "Permutation 22: [1, 5, 3, 4, 2] -> Sorted: [1, 2, 3, 4, 5], Comparison Count: 10\n",
      "Permutation 23: [1, 5, 4, 2, 3] -> Sorted: [1, 2, 3, 4, 5], Comparison Count: 9\n",
      "Permutation 24: [1, 5, 4, 3, 2] -> Sorted: [1, 2, 3, 4, 5], Comparison Count: 10\n",
      "Permutation 25: [2, 1, 3, 4, 5] -> Sorted: [1, 2, 3, 4, 5], Comparison Count: 7\n",
      "Permutation 26: [2, 1, 3, 5, 4] -> Sorted: [1, 2, 3, 4, 5], Comparison Count: 7\n",
      "Permutation 27: [2, 1, 4, 3, 5] -> Sorted: [1, 2, 3, 4, 5], Comparison Count: 7\n",
      "Permutation 28: [2, 1, 4, 5, 3] -> Sorted: [1, 2, 3, 4, 5], Comparison Count: 9\n",
      "Permutation 29: [2, 1, 5, 3, 4] -> Sorted: [1, 2, 3, 4, 5], Comparison Count: 7\n",
      "Permutation 30: [2, 1, 5, 4, 3] -> Sorted: [1, 2, 3, 4, 5], Comparison Count: 9\n",
      "Permutation 31: [2, 3, 1, 4, 5] -> Sorted: [1, 2, 3, 4, 5], Comparison Count: 9\n",
      "Permutation 32: [2, 3, 1, 5, 4] -> Sorted: [1, 2, 3, 4, 5], Comparison Count: 9\n",
      "Permutation 33: [2, 3, 4, 1, 5] -> Sorted: [1, 2, 3, 4, 5], Comparison Count: 10\n",
      "Permutation 34: [2, 3, 4, 5, 1] -> Sorted: [1, 2, 3, 4, 5], Comparison Count: 10\n",
      "Permutation 35: [2, 3, 5, 1, 4] -> Sorted: [1, 2, 3, 4, 5], Comparison Count: 10\n",
      "Permutation 36: [2, 3, 5, 4, 1] -> Sorted: [1, 2, 3, 4, 5], Comparison Count: 10\n",
      "Permutation 37: [2, 4, 1, 3, 5] -> Sorted: [1, 2, 3, 4, 5], Comparison Count: 9\n",
      "Permutation 38: [2, 4, 1, 5, 3] -> Sorted: [1, 2, 3, 4, 5], Comparison Count: 9\n",
      "Permutation 39: [2, 4, 3, 1, 5] -> Sorted: [1, 2, 3, 4, 5], Comparison Count: 10\n",
      "Permutation 40: [2, 4, 3, 5, 1] -> Sorted: [1, 2, 3, 4, 5], Comparison Count: 10\n",
      "Permutation 41: [2, 4, 5, 1, 3] -> Sorted: [1, 2, 3, 4, 5], Comparison Count: 10\n",
      "Permutation 42: [2, 4, 5, 3, 1] -> Sorted: [1, 2, 3, 4, 5], Comparison Count: 10\n",
      "Permutation 43: [2, 5, 1, 3, 4] -> Sorted: [1, 2, 3, 4, 5], Comparison Count: 9\n",
      "Permutation 44: [2, 5, 1, 4, 3] -> Sorted: [1, 2, 3, 4, 5], Comparison Count: 9\n",
      "Permutation 45: [2, 5, 3, 1, 4] -> Sorted: [1, 2, 3, 4, 5], Comparison Count: 10\n",
      "Permutation 46: [2, 5, 3, 4, 1] -> Sorted: [1, 2, 3, 4, 5], Comparison Count: 10\n",
      "Permutation 47: [2, 5, 4, 1, 3] -> Sorted: [1, 2, 3, 4, 5], Comparison Count: 10\n",
      "Permutation 48: [2, 5, 4, 3, 1] -> Sorted: [1, 2, 3, 4, 5], Comparison Count: 10\n",
      "Permutation 49: [3, 1, 2, 4, 5] -> Sorted: [1, 2, 3, 4, 5], Comparison Count: 7\n",
      "Permutation 50: [3, 1, 2, 5, 4] -> Sorted: [1, 2, 3, 4, 5], Comparison Count: 7\n",
      "Permutation 51: [3, 1, 4, 2, 5] -> Sorted: [1, 2, 3, 4, 5], Comparison Count: 9\n",
      "Permutation 52: [3, 1, 4, 5, 2] -> Sorted: [1, 2, 3, 4, 5], Comparison Count: 10\n",
      "Permutation 53: [3, 1, 5, 2, 4] -> Sorted: [1, 2, 3, 4, 5], Comparison Count: 9\n",
      "Permutation 54: [3, 1, 5, 4, 2] -> Sorted: [1, 2, 3, 4, 5], Comparison Count: 10\n",
      "Permutation 55: [3, 2, 1, 4, 5] -> Sorted: [1, 2, 3, 4, 5], Comparison Count: 9\n",
      "Permutation 56: [3, 2, 1, 5, 4] -> Sorted: [1, 2, 3, 4, 5], Comparison Count: 9\n",
      "Permutation 57: [3, 2, 4, 1, 5] -> Sorted: [1, 2, 3, 4, 5], Comparison Count: 10\n",
      "Permutation 58: [3, 2, 4, 5, 1] -> Sorted: [1, 2, 3, 4, 5], Comparison Count: 10\n",
      "Permutation 59: [3, 2, 5, 1, 4] -> Sorted: [1, 2, 3, 4, 5], Comparison Count: 10\n",
      "Permutation 60: [3, 2, 5, 4, 1] -> Sorted: [1, 2, 3, 4, 5], Comparison Count: 10\n",
      "Permutation 61: [3, 4, 1, 2, 5] -> Sorted: [1, 2, 3, 4, 5], Comparison Count: 9\n",
      "Permutation 62: [3, 4, 1, 5, 2] -> Sorted: [1, 2, 3, 4, 5], Comparison Count: 10\n",
      "Permutation 63: [3, 4, 2, 1, 5] -> Sorted: [1, 2, 3, 4, 5], Comparison Count: 10\n",
      "Permutation 64: [3, 4, 2, 5, 1] -> Sorted: [1, 2, 3, 4, 5], Comparison Count: 10\n",
      "Permutation 65: [3, 4, 5, 1, 2] -> Sorted: [1, 2, 3, 4, 5], Comparison Count: 10\n",
      "Permutation 66: [3, 4, 5, 2, 1] -> Sorted: [1, 2, 3, 4, 5], Comparison Count: 10\n",
      "Permutation 67: [3, 5, 1, 2, 4] -> Sorted: [1, 2, 3, 4, 5], Comparison Count: 9\n",
      "Permutation 68: [3, 5, 1, 4, 2] -> Sorted: [1, 2, 3, 4, 5], Comparison Count: 10\n",
      "Permutation 69: [3, 5, 2, 1, 4] -> Sorted: [1, 2, 3, 4, 5], Comparison Count: 10\n",
      "Permutation 70: [3, 5, 2, 4, 1] -> Sorted: [1, 2, 3, 4, 5], Comparison Count: 10\n",
      "Permutation 71: [3, 5, 4, 1, 2] -> Sorted: [1, 2, 3, 4, 5], Comparison Count: 10\n",
      "Permutation 72: [3, 5, 4, 2, 1] -> Sorted: [1, 2, 3, 4, 5], Comparison Count: 10\n",
      "Permutation 73: [4, 1, 2, 3, 5] -> Sorted: [1, 2, 3, 4, 5], Comparison Count: 7\n",
      "Permutation 74: [4, 1, 2, 5, 3] -> Sorted: [1, 2, 3, 4, 5], Comparison Count: 9\n",
      "Permutation 75: [4, 1, 3, 2, 5] -> Sorted: [1, 2, 3, 4, 5], Comparison Count: 9\n",
      "Permutation 76: [4, 1, 3, 5, 2] -> Sorted: [1, 2, 3, 4, 5], Comparison Count: 10\n",
      "Permutation 77: [4, 1, 5, 2, 3] -> Sorted: [1, 2, 3, 4, 5], Comparison Count: 9\n",
      "Permutation 78: [4, 1, 5, 3, 2] -> Sorted: [1, 2, 3, 4, 5], Comparison Count: 10\n",
      "Permutation 79: [4, 2, 1, 3, 5] -> Sorted: [1, 2, 3, 4, 5], Comparison Count: 9\n",
      "Permutation 80: [4, 2, 1, 5, 3] -> Sorted: [1, 2, 3, 4, 5], Comparison Count: 9\n",
      "Permutation 81: [4, 2, 3, 1, 5] -> Sorted: [1, 2, 3, 4, 5], Comparison Count: 10\n",
      "Permutation 82: [4, 2, 3, 5, 1] -> Sorted: [1, 2, 3, 4, 5], Comparison Count: 10\n",
      "Permutation 83: [4, 2, 5, 1, 3] -> Sorted: [1, 2, 3, 4, 5], Comparison Count: 10\n",
      "Permutation 84: [4, 2, 5, 3, 1] -> Sorted: [1, 2, 3, 4, 5], Comparison Count: 10\n",
      "Permutation 85: [4, 3, 1, 2, 5] -> Sorted: [1, 2, 3, 4, 5], Comparison Count: 9\n",
      "Permutation 86: [4, 3, 1, 5, 2] -> Sorted: [1, 2, 3, 4, 5], Comparison Count: 10\n",
      "Permutation 87: [4, 3, 2, 1, 5] -> Sorted: [1, 2, 3, 4, 5], Comparison Count: 10\n",
      "Permutation 88: [4, 3, 2, 5, 1] -> Sorted: [1, 2, 3, 4, 5], Comparison Count: 10\n",
      "Permutation 89: [4, 3, 5, 1, 2] -> Sorted: [1, 2, 3, 4, 5], Comparison Count: 10\n",
      "Permutation 90: [4, 3, 5, 2, 1] -> Sorted: [1, 2, 3, 4, 5], Comparison Count: 10\n",
      "Permutation 91: [4, 5, 1, 2, 3] -> Sorted: [1, 2, 3, 4, 5], Comparison Count: 9\n",
      "Permutation 92: [4, 5, 1, 3, 2] -> Sorted: [1, 2, 3, 4, 5], Comparison Count: 10\n",
      "Permutation 93: [4, 5, 2, 1, 3] -> Sorted: [1, 2, 3, 4, 5], Comparison Count: 10\n",
      "Permutation 94: [4, 5, 2, 3, 1] -> Sorted: [1, 2, 3, 4, 5], Comparison Count: 10\n",
      "Permutation 95: [4, 5, 3, 1, 2] -> Sorted: [1, 2, 3, 4, 5], Comparison Count: 10\n",
      "Permutation 96: [4, 5, 3, 2, 1] -> Sorted: [1, 2, 3, 4, 5], Comparison Count: 10\n",
      "Permutation 97: [5, 1, 2, 3, 4] -> Sorted: [1, 2, 3, 4, 5], Comparison Count: 7\n",
      "Permutation 98: [5, 1, 2, 4, 3] -> Sorted: [1, 2, 3, 4, 5], Comparison Count: 9\n",
      "Permutation 99: [5, 1, 3, 2, 4] -> Sorted: [1, 2, 3, 4, 5], Comparison Count: 9\n",
      "Permutation 100: [5, 1, 3, 4, 2] -> Sorted: [1, 2, 3, 4, 5], Comparison Count: 10\n",
      "Permutation 101: [5, 1, 4, 2, 3] -> Sorted: [1, 2, 3, 4, 5], Comparison Count: 9\n",
      "Permutation 102: [5, 1, 4, 3, 2] -> Sorted: [1, 2, 3, 4, 5], Comparison Count: 10\n",
      "Permutation 103: [5, 2, 1, 3, 4] -> Sorted: [1, 2, 3, 4, 5], Comparison Count: 9\n",
      "Permutation 104: [5, 2, 1, 4, 3] -> Sorted: [1, 2, 3, 4, 5], Comparison Count: 9\n",
      "Permutation 105: [5, 2, 3, 1, 4] -> Sorted: [1, 2, 3, 4, 5], Comparison Count: 10\n",
      "Permutation 106: [5, 2, 3, 4, 1] -> Sorted: [1, 2, 3, 4, 5], Comparison Count: 10\n",
      "Permutation 107: [5, 2, 4, 1, 3] -> Sorted: [1, 2, 3, 4, 5], Comparison Count: 10\n",
      "Permutation 108: [5, 2, 4, 3, 1] -> Sorted: [1, 2, 3, 4, 5], Comparison Count: 10\n",
      "Permutation 109: [5, 3, 1, 2, 4] -> Sorted: [1, 2, 3, 4, 5], Comparison Count: 9\n",
      "Permutation 110: [5, 3, 1, 4, 2] -> Sorted: [1, 2, 3, 4, 5], Comparison Count: 10\n",
      "Permutation 111: [5, 3, 2, 1, 4] -> Sorted: [1, 2, 3, 4, 5], Comparison Count: 10\n",
      "Permutation 112: [5, 3, 2, 4, 1] -> Sorted: [1, 2, 3, 4, 5], Comparison Count: 10\n",
      "Permutation 113: [5, 3, 4, 1, 2] -> Sorted: [1, 2, 3, 4, 5], Comparison Count: 10\n",
      "Permutation 114: [5, 3, 4, 2, 1] -> Sorted: [1, 2, 3, 4, 5], Comparison Count: 10\n",
      "Permutation 115: [5, 4, 1, 2, 3] -> Sorted: [1, 2, 3, 4, 5], Comparison Count: 9\n",
      "Permutation 116: [5, 4, 1, 3, 2] -> Sorted: [1, 2, 3, 4, 5], Comparison Count: 10\n",
      "Permutation 117: [5, 4, 2, 1, 3] -> Sorted: [1, 2, 3, 4, 5], Comparison Count: 10\n",
      "Permutation 118: [5, 4, 2, 3, 1] -> Sorted: [1, 2, 3, 4, 5], Comparison Count: 10\n",
      "Permutation 119: [5, 4, 3, 1, 2] -> Sorted: [1, 2, 3, 4, 5], Comparison Count: 10\n",
      "Permutation 120: [5, 4, 3, 2, 1] -> Sorted: [1, 2, 3, 4, 5], Comparison Count: 10\n"
     ]
    }
   ],
   "source": [
    "all_permutations = get_all_permutations([1, 2, 3, 4, 5])\n",
    "\n",
    "for i, perm in enumerate(all_permutations):\n",
    "    bubble_sorted = bubble_sort(perm)\n",
    "    print(f\"Permutation {i+1}: {perm} -> Sorted: {bubble_sorted[0]}, Comparison Count: {bubble_sorted[1]}\")"
   ]
  },
  {
   "cell_type": "markdown",
   "metadata": {},
   "source": [
    "<div style=\"border: 3px solid #5C9E75; padding:8px; border-radius:5px; font-size:14px; background-color: transparent; width: 500px;\">\n",
    "    \n",
    "##### **Test 8A - \"Testing `bubble_sort`: Already Sorted List\"**  \n",
    "**We will test the comparisons needed to sort an already sorted list**\n",
    "\n",
    "**Expected results:**\n",
    "\n",
    "| Input           | Output           |\n",
    "|-----------------|------------------|\n",
    "| `[1, 2, 3, 4, 5]` | `Comparisons Count - 4` |\n",
    "\n",
    "</div>"
   ]
  },
  {
   "cell_type": "code",
   "execution_count": 104,
   "metadata": {},
   "outputs": [
    {
     "name": "stdout",
     "output_type": "stream",
     "text": [
      "Bubble Sorted Array: [1, 2, 3, 4, 5] Comparison Count: 4\n"
     ]
    }
   ],
   "source": [
    "arr = [1, 2, 3, 4, 5]\n",
    "bubble_sorted = bubble_sort(arr)\n",
    "print(\"Bubble Sorted Array:\", bubble_sorted[0], \"Comparison Count:\", bubble_sorted[1])"
   ]
  },
  {
   "cell_type": "markdown",
   "metadata": {},
   "source": [
    "<div style=\"border: 3px solid #5C9E75; padding:8px; border-radius:5px; font-size:14px; background-color: transparent; width: 500px;\">\n",
    "    \n",
    "##### **Test 8B - \"Testing `bubble_sort`: Reverse Sorted List\"**  \n",
    "**We will test the comparisons needed to sort a list that is in reverse order**\n",
    "\n",
    "**Expected results:**\n",
    "\n",
    "| Input           | Output           |\n",
    "|-----------------|------------------|\n",
    "| `[5, 4, 3, 2, 1]` | `Comparison Count - 10` |\n",
    "\n",
    "</div>"
   ]
  },
  {
   "cell_type": "code",
   "execution_count": 102,
   "metadata": {},
   "outputs": [
    {
     "name": "stdout",
     "output_type": "stream",
     "text": [
      "Bubble Sorted Array: [1, 2, 3, 4, 5] Comparison Count: 10\n"
     ]
    }
   ],
   "source": [
    "arr = [5, 4, 3, 2, 1]\n",
    "bubble_sorted = bubble_sort(arr)\n",
    "print(\"Bubble Sorted Array:\", bubble_sorted[0], \"Comparison Count:\", bubble_sorted[1])"
   ]
  },
  {
   "cell_type": "markdown",
   "metadata": {},
   "source": [
    "<div style=\"border: 3px solid #5C9E75; padding:8px; border-radius:5px; font-size:14px; background-color: transparent; width: 500px;\">\n",
    "    \n",
    "##### **Test 8C - \"Testing `bubble_sort`: List with Identical Elements\"**  \n",
    "**We will test the comparisons needed to sort a list filled with the same number.**\n",
    "\n",
    "**Expected results:**\n",
    "\n",
    "| Input           | Output           |\n",
    "|-----------------|------------------|\n",
    "| `[3, 3, 3, 3, 3]` | `Comparison Count - 4` |\n",
    "\n",
    "</div>"
   ]
  },
  {
   "cell_type": "code",
   "execution_count": 105,
   "metadata": {},
   "outputs": [
    {
     "name": "stdout",
     "output_type": "stream",
     "text": [
      "Bubble Sorted Array: [3, 3, 3, 3, 3] Comparison Count: 4\n"
     ]
    }
   ],
   "source": [
    "arr = [3, 3, 3, 3, 3]\n",
    "bubble_sorted = bubble_sort(arr)\n",
    "print(\"Bubble Sorted Array:\", bubble_sorted[0], \"Comparison Count:\", bubble_sorted[1])"
   ]
  }
 ],
 "metadata": {
  "kernelspec": {
   "display_name": "base",
   "language": "python",
   "name": "python3"
  },
  "language_info": {
   "codemirror_mode": {
    "name": "ipython",
    "version": 3
   },
   "file_extension": ".py",
   "mimetype": "text/x-python",
   "name": "python",
   "nbconvert_exporter": "python",
   "pygments_lexer": "ipython3",
   "version": "3.11.5"
  }
 },
 "nbformat": 4,
 "nbformat_minor": 2
}
