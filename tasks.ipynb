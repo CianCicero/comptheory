{
 "cells": [
  {
   "cell_type": "markdown",
   "metadata": {},
   "source": [
    "<h1 style=\"text-align: center;\">Computational Theory Tasks</h1>"
   ]
  },
  {
   "cell_type": "markdown",
   "metadata": {},
   "source": [
    "This notebook contains explanations and solutions for 8 computational theory tasks. Each section begins with a description of the task, outlining its origin and signifigance. Then the solution is explained, followed by code cells that implement the solution. Finally, code cells containing a suite of tests designed to validate the solution follow.\n",
    "\n",
    "To supplement the notebook, the following sidebars can be found after each solution:"
   ]
  },
  {
   "cell_type": "markdown",
   "metadata": {},
   "source": [
    "<div style=\"display: flex; justify-content: center;\">\n",
    "  <div style=\"display: flex; flex-direction: column; gap: 12px; max-width: 800px; width: 100%;\">\n",
    "\n",
    "<div style=\"display: flex; align-items: stretch; gap: 10px;\">\n",
    "      <div style=\"flex: 0 0 140px; background-color: #5C9E75; color:#FFFFFF; padding:10px; border-radius:8px; font-size:16px; text-align: center;\">\n",
    "        <strong>Test Overview</strong>\n",
    "      </div>\n",
    "      <div style=\"flex: 1; border: 3px solid #5C9E75; padding:12px; border-radius:8px; font-size:13px; color: inherit; background-color: transparent;\">\n",
    "        Explains the tests used to validate each solution, covering the inputs, expected results, and the rationale.\n",
    "      </div>\n",
    "</div>\n",
    "\n",
    "<div style=\"display: flex; align-items: stretch; gap: 10px;\">\n",
    "      <div style=\"flex: 0 0 140px; background-color: #4F83CC; color:#FFFFFF; padding:10px; border-radius:8px; font-size:16px; text-align: center;\">\n",
    "        <strong>Sources</strong>\n",
    "      </div>\n",
    "      <div style=\"flex: 1; border: 3px solid #4F83CC; padding:12px; border-radius:8px; font-size:13px; color: inherit; background-color: transparent;\">\n",
    "        Links to the project's sources, along with concise descriptions of how they influenced development.\n",
    "      </div>\n",
    "</div>\n",
    "\n",
    "<div style=\"display: flex; align-items: stretch; gap: 10px;\">\n",
    "      <div style=\"flex: 0 0 140px; background-color: #6C3BAA; color:#FFFFFF; padding:10px; border-radius:8px; font-size:16px; text-align: center;\">\n",
    "        <strong>Alternatives</strong>\n",
    "      </div>\n",
    "      <div style=\"flex: 1; border: 3px solid #6C3BAA; padding:12px; border-radius:8px; font-size:13px; color: inherit; background-color: transparent;\">\n",
    "        Compares the solution against other potential approaches, providing a justification for the final choice.\n",
    "      </div>\n",
    "</div>\n",
    "\n",
    "  </div>\n",
    "</div>\n"
   ]
  },
  {
   "cell_type": "markdown",
   "metadata": {},
   "source": [
    "### Imports"
   ]
  },
  {
   "cell_type": "code",
   "execution_count": 21,
   "metadata": {},
   "outputs": [],
   "source": [
    "# Imports\n",
    "import hashlib\n",
    "import os\n",
    "import struct\n",
    "import unittest\n",
    "import tempfile"
   ]
  },
  {
   "cell_type": "markdown",
   "metadata": {},
   "source": [
    "### Task 1 - Binary Representations"
   ]
  },
  {
   "cell_type": "markdown",
   "metadata": {},
   "source": [
    "1.1 Rotate the bits in a 32-bit unsigned integer to the left by `n` places"
   ]
  },
  {
   "cell_type": "code",
   "execution_count": 2,
   "metadata": {},
   "outputs": [],
   "source": [
    "def rotl(x, n):\n",
    "    # Get the modulo 32 to avoid unnecessary rotations\n",
    "    n %= 32\n",
    "\n",
    "    # Perform the rotation\n",
    "    return ((x << n) & 0xFFFFFFFF) | (x >> (32 - n))"
   ]
  },
  {
   "cell_type": "markdown",
   "metadata": {},
   "source": [
    "1.2 Rotate the bits in a 32-bit unsigned integer to the right by `n` places"
   ]
  },
  {
   "cell_type": "code",
   "execution_count": 3,
   "metadata": {},
   "outputs": [],
   "source": [
    "def rotr(x, n):\n",
    "    # Get the modulo 32 to avoid unnecessary rotations\n",
    "    n %= 32\n",
    "\n",
    "    # Perform the right rotation\n",
    "    return ((x >> n) & 0xFFFFFFFF) | (x << (32 - n))"
   ]
  },
  {
   "cell_type": "markdown",
   "metadata": {},
   "source": [
    "1.3 Choose the bits from `y` where `x` has bits set to `1` and bits in `z` where `x` has bits set to `0`"
   ]
  },
  {
   "cell_type": "code",
   "execution_count": 4,
   "metadata": {},
   "outputs": [],
   "source": [
    "def ch(x, y, z):\n",
    "    return (y & x) | (z & ~x)"
   ]
  },
  {
   "cell_type": "markdown",
   "metadata": {},
   "source": [
    "1.4 Take a majority vote of the bits in `x`, `y`, and `z`."
   ]
  },
  {
   "cell_type": "code",
   "execution_count": 5,
   "metadata": {},
   "outputs": [],
   "source": [
    "def maj(x, y, z):\n",
    "    return (x & y) | (z & x) | (z & y)"
   ]
  },
  {
   "cell_type": "markdown",
   "metadata": {},
   "source": [
    "<div style=\"border: 3px solid #5C9E75; padding:8px; border-radius:5px; font-size:14px; background-color: transparent; width: 230px;\">\n",
    "    \n",
    "##### **Test 1A - \"Verifying `rotl`\"**  \n",
    "**We will now test `rotl(x, n)`**\n",
    "\n",
    "**Expected results:**\n",
    "\n",
    "| Input  | Output |\n",
    "|--------|--------|\n",
    "| `20` `8`   | `5120` |\n",
    "| `2153` `8` | `551168` |\n",
    "</div>\n"
   ]
  },
  {
   "cell_type": "code",
   "execution_count": 10,
   "metadata": {},
   "outputs": [
    {
     "name": "stdout",
     "output_type": "stream",
     "text": [
      "rotl(20, 8) -> 5120\n",
      "rotl(2153, 8) -> 551168\n"
     ]
    }
   ],
   "source": [
    "print(f\"rotl(20, 8) -> {rotl(20, 8)}\")\n",
    "print(f\"rotl(2153, 8) -> {rotl(2153, 8)}\")"
   ]
  },
  {
   "cell_type": "markdown",
   "metadata": {},
   "source": [
    "<div style=\"border: 3px solid #5C9E75; padding:8px; border-radius:5px; font-size:14px; background-color: transparent; width: 230px;\">\n",
    "    \n",
    "##### **Test 1B - \"Verifying `rotr`\"**  \n",
    "**We will now test `rotr(x, n)`**\n",
    "\n",
    "**Expected results:**\n",
    "\n",
    "| Input  | Output |\n",
    "|--------|--------|\n",
    "| `20` `8`   | `335544320` |\n",
    "| `2153` `8` | `36121346056` |\n",
    "</div>\n"
   ]
  },
  {
   "cell_type": "code",
   "execution_count": 11,
   "metadata": {},
   "outputs": [
    {
     "name": "stdout",
     "output_type": "stream",
     "text": [
      "rotr(20, 8) -> 335544320\n",
      "rotr(2153, 8) -> 36121346056\n"
     ]
    }
   ],
   "source": [
    "print(f\"rotr(20, 8) -> {rotr(20, 8)}\")\n",
    "print(f\"rotr(2153, 8) -> {rotr(2153, 8)}\")"
   ]
  },
  {
   "cell_type": "markdown",
   "metadata": {},
   "source": [
    "<div style=\"border: 3px solid #5C9E75; padding:8px; border-radius:5px; font-size:14px; background-color: transparent; width: 230px;\">\n",
    "    \n",
    "##### **Test 1C - \"Verifying `ch`\"**  \n",
    "**We will now test `ch(x, y, z)`**\n",
    "\n",
    "**Expected results:**\n",
    "\n",
    "| Input  | Output |\n",
    "|--------|--------|\n",
    "| `20` `2153` `54`   | `34` |\n",
    "</div>\n"
   ]
  },
  {
   "cell_type": "code",
   "execution_count": 12,
   "metadata": {},
   "outputs": [
    {
     "name": "stdout",
     "output_type": "stream",
     "text": [
      "ch(20, 2153, 54) -> 34\n"
     ]
    }
   ],
   "source": [
    "print(f\"ch(20, 2153, 54) -> {ch(20, 2153, 54)}\")"
   ]
  },
  {
   "cell_type": "markdown",
   "metadata": {},
   "source": [
    "<div style=\"border: 3px solid #5C9E75; padding:8px; border-radius:5px; font-size:14px; background-color: transparent; width: 230px;\">\n",
    "    \n",
    "##### **Test 1D - \"Verifying `maj`\"**  \n",
    "**We will now test `maj(x, y, z)`**\n",
    "\n",
    "**Expected results:**\n",
    "\n",
    "| Input  | Output |\n",
    "|--------|--------|\n",
    "| `20` `2153` `54`   | `52` |\n",
    "</div>\n"
   ]
  },
  {
   "cell_type": "code",
   "execution_count": 13,
   "metadata": {},
   "outputs": [
    {
     "name": "stdout",
     "output_type": "stream",
     "text": [
      "maj(20, 2153, 54) -> 52\n"
     ]
    }
   ],
   "source": [
    "print(f\"maj(20, 2153, 54) -> {maj(20, 2153, 54)}\")"
   ]
  },
  {
   "cell_type": "markdown",
   "metadata": {},
   "source": [
    "### Task 2: Hash Functions\n"
   ]
  },
  {
   "cell_type": "markdown",
   "metadata": {},
   "source": [
    "2.1 Generate a hash value for a string."
   ]
  },
  {
   "cell_type": "code",
   "execution_count": 3,
   "metadata": {},
   "outputs": [],
   "source": [
    "def hash_string(s: str) -> int:\n",
    "    hashval = 0\n",
    "    for char in s:\n",
    "        hashval = ord(char) + 31 * hashval\n",
    "    return hashval % 101"
   ]
  },
  {
   "cell_type": "markdown",
   "metadata": {},
   "source": [
    "<div style=\"border: 3px solid #5C9E75; padding:8px; border-radius:5px; font-size:14px; background-color: transparent; width: 350px;\">\n",
    "    \n",
    "##### **Test 2A - \"Verifying `hash_string`\"**  \n",
    "**We will now test `hash_string(s)` case sensitivity**\n",
    "\n",
    "**Expected results:**\n",
    "\n",
    "| Input  | Output |\n",
    "|--------|--------|\n",
    "| `Brutus` | `26` |\n",
    "| `brutus` | `36` |\n",
    "</div>\n"
   ]
  },
  {
   "cell_type": "code",
   "execution_count": 4,
   "metadata": {},
   "outputs": [
    {
     "name": "stdout",
     "output_type": "stream",
     "text": [
      "hash_string(Brutus) -> 26\n",
      "hash_string(brutus) -> 36\n"
     ]
    }
   ],
   "source": [
    "print(f\"hash_string(Brutus) -> {hash_string('Brutus')}\")\n",
    "print(f\"hash_string(brutus) -> {hash_string('brutus')}\")"
   ]
  },
  {
   "cell_type": "markdown",
   "metadata": {},
   "source": [
    "<div style=\"border: 3px solid #5C9E75; padding:8px; border-radius:5px; font-size:14px; background-color: transparent; width: 700px;\">\n",
    "    \n",
    "##### **Test 2B - \"Testing `hash_string`\"**  \n",
    "**We will now test `hash_string(s)` use of modulo to normalize the hash to fall between 0-100**\n",
    "\n",
    "**Expected results:**\n",
    "\n",
    "| Input  | Output |\n",
    "|--------|--------|\n",
    "| `This is a demonstration of the modulo effect in hashing` | `<100` |\n",
    "</div>"
   ]
  },
  {
   "cell_type": "code",
   "execution_count": 8,
   "metadata": {},
   "outputs": [
    {
     "name": "stdout",
     "output_type": "stream",
     "text": [
      "hash_string(This is a demonstration of the modulo effect in hashing) -> 50\n"
     ]
    }
   ],
   "source": [
    "print(f\"hash_string(This is a demonstration of the modulo effect in hashing) -> {hash_string('This is a demonstration of the modulo effect in hashing')}\")"
   ]
  },
  {
   "cell_type": "markdown",
   "metadata": {},
   "source": [
    "<div style=\"border: 3px solid #5C9E75; padding:8px; border-radius:5px; font-size:14px; background-color: transparent; width: 700px;\">\n",
    "    \n",
    "##### **Test 2C - \"Testing `hash_string`\"**  \n",
    "**We will now compare `hash_string(s)` against a similar method that doesn't use prime numbers**\n",
    "\n",
    "**Expected results:**\n",
    "\n",
    "| Input  | Output |\n",
    "|--------|--------|\n",
    "| `A list of strings` | `hash_string` should outperform `non_prime_hash_string`|\n",
    "</div>"
   ]
  },
  {
   "cell_type": "code",
   "execution_count": 18,
   "metadata": {},
   "outputs": [
    {
     "name": "stdout",
     "output_type": "stream",
     "text": [
      "\n",
      "Prime-based hash function (31, 101):\n",
      "\n",
      "Non-prime hash function (10, 100):\n",
      "\n",
      "String    | Prime Hash | Non-Prime Hash\n",
      "----------|------------|---------------\n",
      "by         | 28         | 1         \n",
      "cde        | 67         | 1         \n",
      "\n",
      "Prime function unique values: 2/2\n",
      "Non-prime function unique values: 1/2\n",
      "\n",
      "Test Passed: The prime hash function performed better.\n"
     ]
    }
   ],
   "source": [
    "def non_prime_hash_string(s: str) -> int:\n",
    "    hashval = 0\n",
    "    for char in s:\n",
    "        hashval = ord(char) + 10 * hashval\n",
    "    return hashval % 100\n",
    "\n",
    "def compare_hash_functions():\n",
    "    \"\"\"Compare prime vs non-prime hash functions\"\"\"\n",
    "    test_strings = [\n",
    "        \"by\",         \n",
    "        \"cde\"\n",
    "    ]\n",
    "    \n",
    "    print(\"\\nPrime-based hash function (31, 101):\")\n",
    "    prime_hashes = [hash_string(s) for s in test_strings]\n",
    "    prime_unique = len(set(prime_hashes))\n",
    "    \n",
    "    print(\"\\nNon-prime hash function (10, 100):\")\n",
    "    non_prime_hashes = [non_prime_hash_string(s) for s in test_strings]\n",
    "    non_prime_unique = len(set(non_prime_hashes))\n",
    "    \n",
    "    # Print side by side comparison\n",
    "    print(\"\\nString    | Prime Hash | Non-Prime Hash\")\n",
    "    print(\"----------|------------|---------------\")\n",
    "    for i, s in enumerate(test_strings):\n",
    "        print(f\"{s:<10} | {prime_hashes[i]:<10} | {non_prime_hashes[i]:<10}\")\n",
    "    \n",
    "    # Print collision stats\n",
    "    print(f\"\\nPrime function unique values: {prime_unique}/{len(test_strings)}\")\n",
    "    print(f\"Non-prime function unique values: {non_prime_unique}/{len(test_strings)}\")\n",
    "    \n",
    "    if prime_unique > non_prime_unique:\n",
    "        print(\"\\nTest Passed: The prime hash function performed better.\")\n",
    "    else:\n",
    "        print(\"\\nTest Failed: The prime hash function did not perform better.\")\n",
    "# Run the test\n",
    "compare_hash_functions()"
   ]
  },
  {
   "cell_type": "markdown",
   "metadata": {},
   "source": [
    "### Task 3: SHA256\n"
   ]
  },
  {
   "cell_type": "code",
   "execution_count": 22,
   "metadata": {},
   "outputs": [],
   "source": [
    "def calculateSHA256padding(file_path):\n",
    "    file_size = os.path.getsize(file_path) * 8\n",
    "\n",
    "    if file_size % 512 < 448:\n",
    "        padding_bits = 448 - (file_size % 512)\n",
    "    else:\n",
    "        padding_bits = 512 - (file_size % 512) + 448\n",
    "\n",
    "    padding = b'\\x80' + b'\\x00' * ((padding_bits // 8) - 1)\n",
    "\n",
    "    original_length = struct.pack('>Q', file_size)\n",
    "    padding += original_length\n",
    "\n",
    "\n",
    "    return padding.hex()"
   ]
  },
  {
   "cell_type": "markdown",
   "metadata": {},
   "source": [
    "<div style=\"border: 3px solid #5C9E75; padding:8px; border-radius:5px; font-size:14px; background-color: transparent; width: 700px;\">\n",
    "    \n",
    "##### **Test 3A - \"Testing `calculateSHA256padding`\"**  \n",
    "**We will now test `calculateSHA256padding` for an empty file**\n",
    "\n",
    "**Expected results:**\n",
    "\n",
    "| Input  | Output |\n",
    "|--------|--------|\n",
    "| `Empty File` | `calculateSHA256padding` should return a total length of 512 bits|\n",
    "</div>"
   ]
  },
  {
   "cell_type": "code",
   "execution_count": 39,
   "metadata": {},
   "outputs": [
    {
     "name": "stdout",
     "output_type": "stream",
     "text": [
      "Test 3A passed: Total length is 512 bits\n"
     ]
    }
   ],
   "source": [
    "def test_empty_file_padding():\n",
    "    with tempfile.NamedTemporaryFile(delete=False) as temp:\n",
    "        temp_path = temp.name\n",
    "\n",
    "    padding = bytes.fromhex(calculateSHA256padding(temp_path))\n",
    "    os.remove(temp_path)\n",
    "\n",
    "    total_length = len(padding) * 8\n",
    "    correct_length = (len(padding) * 8) == 512\n",
    "    correct_start = padding[0] == 0x80\n",
    "    correct_end = padding[-8:] == struct.pack('>Q', 0)\n",
    "\n",
    "    if correct_length and correct_start and correct_end:\n",
    "        print(f\"Test 3A passed: Total length is {total_length} bits\")\n",
    "    else:\n",
    "        print(\"Test 3A failed: Total length is {total_length} bits\")\n",
    "\n",
    "test_empty_file_padding()"
   ]
  },
  {
   "cell_type": "markdown",
   "metadata": {},
   "source": [
    "<div style=\"border: 3px solid #5C9E75; padding:8px; border-radius:5px; font-size:14px; background-color: transparent; width: 750px;\">\n",
    "    \n",
    "##### **Test 3B - \"Testing `calculateSHA256padding`\"**  \n",
    "**We will now test `calculateSHA256padding` for a file with 56 bytes, requiring an extra block to fit padding**\n",
    "\n",
    "**Expected results:**\n",
    "\n",
    "| Input  | Output |\n",
    "|--------|--------|\n",
    "| `File with 56 bytes` | `calculateSHA256padding` should return a total length of 1024 bits|\n",
    "</div>"
   ]
  },
  {
   "cell_type": "code",
   "execution_count": 45,
   "metadata": {},
   "outputs": [
    {
     "name": "stdout",
     "output_type": "stream",
     "text": [
      "Test 3B passed: Total length is 1024 bits, padding is correct\n"
     ]
    }
   ],
   "source": [
    "def test_padding_causes_extra_block():\n",
    "    # 56 bytes = 448 bits so any padding forces an extra block\n",
    "    with tempfile.NamedTemporaryFile(delete=False) as temp:\n",
    "        temp.write(b'A' * 56)\n",
    "        temp_path = temp.name\n",
    "\n",
    "    padding = bytes.fromhex(calculateSHA256padding(temp_path))\n",
    "\n",
    "    # Get the file size in bits\n",
    "    file_size_bits = os.path.getsize(temp_path) * 8  # File size in bits\n",
    "    total_length = file_size_bits + len(padding) * 8\n",
    "\n",
    "    correct_length = total_length == 1024  # Expect 1024 bits total\n",
    "    correct_start = padding[0] == 0x80\n",
    "    correct_end = padding[-8:] == struct.pack('>Q', 448)\n",
    "\n",
    "    if correct_length and correct_start and correct_end:\n",
    "        print(f\"Test 3B passed: Total length is {total_length} bits, padding is correct\")\n",
    "    else:\n",
    "        print(f\"Test 3B failed: Total length is {total_length} bits\")\n",
    "        print(f\"Padding bits: {len(padding) * 8}\")\n",
    "        print(f\"Starts with 0x80? {padding[0] == 0x80}\")\n",
    "        print(f\"Ends with length 448? {padding[-8:] == struct.pack('>Q', 448)}\")\n",
    "\n",
    "        os.remove(temp_path)\n",
    "    \n",
    "\n",
    "test_padding_causes_extra_block()\n"
   ]
  },
  {
   "cell_type": "markdown",
   "metadata": {},
   "source": [
    "<div style=\"border: 3px solid #4F83CC; padding:8px; border-radius:5px; font-size:14px; background-color: transparent; width: 390px;\">\n",
    "\n",
    "<b>FIPS PUB 180-4, Secure Hash Standard <a href=\"https://nvlpubs.nist.gov/nistpubs/FIPS/NIST.FIPS.180-4.pdf\" style=\"color:#1976D2; text-decoration: underline;\"></b>(Link)</a>\n",
    "\n",
    "This document outlines the official standards for SHA (Secure Hash Algorithms), which are widely used to ensure data integrity, secure passwords, and support digital signatures in modern cryptographic systems.\n",
    "</div>\n"
   ]
  },
  {
   "cell_type": "markdown",
   "metadata": {},
   "source": [
    "### Task 4: Prime Numbers"
   ]
  },
  {
   "cell_type": "markdown",
   "metadata": {},
   "source": [
    "Approach A: Sieve of Eratosthenes"
   ]
  },
  {
   "cell_type": "code",
   "execution_count": 46,
   "metadata": {},
   "outputs": [],
   "source": [
    "def sieve_of_eratosthenes(limit):\n",
    "    primes = [True] * (limit + 1)\n",
    "    primes[0] = primes[1] = False\n",
    "\n",
    "    for i in range(2, int(limit**0.5) + 1):\n",
    "        if primes[i]:\n",
    "            for j in range(i * i, limit + 1, i):\n",
    "                primes[j] = False\n",
    "\n",
    "    return [num for num, is_prime in enumerate(primes) if is_prime]\n"
   ]
  },
  {
   "cell_type": "markdown",
   "metadata": {},
   "source": [
    "Approach B: Sieve of Sundaram"
   ]
  },
  {
   "cell_type": "code",
   "execution_count": 47,
   "metadata": {},
   "outputs": [],
   "source": [
    "def sieve_of_sundaram(limit):\n",
    "    m = (limit - 1) // 2\n",
    "    sieve = [False] * (m + 1)\n",
    "\n",
    "    for i in range(1, m + 1):\n",
    "        j = i\n",
    "        while i + j + 2 * i * j <= m:\n",
    "            sieve[i + j + 2 * i * j] = True\n",
    "            j += 1\n",
    "\n",
    "    primes = [2] \n",
    "    odd_primes = [2 * i + 1 for i in range(1, m + 1) if not sieve[i]]\n",
    "\n",
    "    primes.extend(odd_primes)\n",
    "\n",
    "    return [prime for prime in primes if prime <= limit]\n"
   ]
  },
  {
   "cell_type": "markdown",
   "metadata": {},
   "source": [
    "<div style=\"border: 3px solid #5C9E75; padding:8px; border-radius:5px; font-size:14px; background-color: transparent; width: 600px;\">\n",
    "    \n",
    "##### **Test 4A - \"Verifying `sieve_of_sundaram` and `sieve_of_eratosthenes`\"**  \n",
    "We will now test both algorithms and compare their results\n",
    "\n",
    "Expected results: Both algorithms should have identical outputs\n",
    "</div>\n"
   ]
  },
  {
   "cell_type": "code",
   "execution_count": 49,
   "metadata": {},
   "outputs": [
    {
     "name": "stdout",
     "output_type": "stream",
     "text": [
      "Test 4A Passed: Both methods have identical outputs.\n"
     ]
    }
   ],
   "source": [
    "primes_eratosthenes = sieve_of_eratosthenes(100)\n",
    "\n",
    "primes_sundaram = sieve_of_sundaram(100)\n",
    "\n",
    "if primes_eratosthenes == primes_sundaram:\n",
    "    print(\"Test 4A Passed: Both methods have identical outputs.\")\n",
    "else:\n",
    "    print(\"Test 4A Failed: The methods have different outputs.\")"
   ]
  },
  {
   "cell_type": "markdown",
   "metadata": {},
   "source": [
    "<div style=\"border: 3px solid #5C9E75; padding:8px; border-radius:5px; font-size:14px; background-color: transparent; width: 700px;\">\n",
    "    \n",
    "##### **Test 4B - \"Comparing `sieve_of_sundaram` and `sieve_of_eratosthenes` runtime\"**  \n",
    "We will now time both algorithms runtime for returning the first 10,000 primes\n",
    "</div>\n"
   ]
  },
  {
   "cell_type": "code",
   "execution_count": 50,
   "metadata": {},
   "outputs": [
    {
     "name": "stdout",
     "output_type": "stream",
     "text": [
      "Eratosthenes sieve (limit 10,000) took 0.00100 seconds\n",
      "Sundaram sieve (limit 10,000) took 0.00309 seconds\n"
     ]
    }
   ],
   "source": [
    "import time\n",
    "\n",
    "def test_performance():\n",
    "    # Timing Eratosthenes sieve for limit 10,000\n",
    "    start = time.time()\n",
    "    sieve_of_eratosthenes(10000)\n",
    "    end = time.time()\n",
    "    print(f\"Eratosthenes sieve (limit 10,000) took {end - start:.5f} seconds\")\n",
    "\n",
    "    # Timing Sundaram sieve for limit 10,000\n",
    "    start = time.time()\n",
    "    sieve_of_sundaram(10000)\n",
    "    end = time.time()\n",
    "    print(f\"Sundaram sieve (limit 10,000) took {end - start:.5f} seconds\")\n",
    "    \n",
    "test_performance()"
   ]
  },
  {
   "cell_type": "markdown",
   "metadata": {},
   "source": [
    "<div style=\"border: 3px solid #5C9E75; padding:8px; border-radius:5px; font-size:14px; background-color: transparent; width: 600px;\">\n",
    "    \n",
    "##### **Test 4C - \"Comparing `sieve_of_sundaram` and `sieve_of_eratosthenes` accuracy\"**  \n",
    "We will now if a selection of primes appear in both algorithms\n",
    "</div>"
   ]
  },
  {
   "cell_type": "code",
   "execution_count": 56,
   "metadata": {},
   "outputs": [
    {
     "name": "stdout",
     "output_type": "stream",
     "text": [
      "Test 4C Passed: All random primes found in Sundaram sieve.\n",
      "Test 4C Passed: All random primes found in Eratosthenes sieve.\n"
     ]
    }
   ],
   "source": [
    "def checking_primes():\n",
    "    random_primes = [7417, 3709, 547, 2383, 809, 13]\n",
    "    primes_sundaram = sieve_of_sundaram(10000)\n",
    "    primes_eratosthenes = sieve_of_eratosthenes(10000)\n",
    "\n",
    "    all_found_in_sundaram = all(prime in primes_sundaram for prime in random_primes)\n",
    "    all_found_in_eratosthenes = all(prime in primes_eratosthenes for prime in random_primes)\n",
    "\n",
    "    if all_found_in_sundaram:\n",
    "        print(\"Test 4C Passed: All random primes found in Sundaram sieve.\")\n",
    "    else:\n",
    "        print(\"Test 4C Failed: Not all random primes found in Sundaram sieve.\")\n",
    "    \n",
    "    if all_found_in_eratosthenes:\n",
    "        print(\"Test 4C Passed: All random primes found in Eratosthenes sieve.\")\n",
    "    else:\n",
    "        print(\"Test 4C Failed: Not all random primes found in Eratosthenes sieve.\")\n",
    "\n",
    "checking_primes()"
   ]
  },
  {
   "cell_type": "markdown",
   "metadata": {},
   "source": [
    "<div style=\"display: flex; gap: 20px;\">\n",
    "\n",
    "  <div style=\"border: 3px solid #4F83CC; padding:8px; border-radius:5px; font-size:14px; background-color: transparent; width: 330px;\">\n",
    "    <b><a href=\"https://www.geeksforgeeks.org/sieve-of-eratosthenes/\" style=\"color:#1976D2; text-decoration: underline;\">Sieve of Eratosthenes</b></a><br><br>\n",
    "    This page explains the Sieve of Eratosthenes algorithm for efficiently generating all prime numbers less than a given number, an important method in number theory and cryptography.\n",
    "  </div>\n",
    "\n",
    "  <div style=\"border: 3px solid #4F83CC; padding:8px; border-radius:5px; font-size:14px; background-color: transparent; width: 330px;\">\n",
    "    <a href=\"https://www.geeksforgeeks.org/sieve-sundaram-print-primes-smaller-n/\" style=\"color:#1976D2; text-decoration: underline;\"><b>Sieve of Sundaram</b></a><br><br>\n",
    "    This page explains the Sieve of Sundaram algorithm for finding prime numbers smaller than a given number, a method often used in number theory and computational applications.\n",
    "  </div>\n",
    "\n",
    "</div>"
   ]
  },
  {
   "cell_type": "markdown",
   "metadata": {},
   "source": [
    "### Task 5: Roots"
   ]
  },
  {
   "cell_type": "markdown",
   "metadata": {},
   "source": [
    "#### 1.1 First 100 Prime Numbers\n",
    "\n",
    "Before calculating the square root of the first 100 prime numbers, we need those numbers.\n",
    "\n",
    "To get the first 100 prime numbers, we can use the `sieve_of_eratosthenes` method from the previous task"
   ]
  },
  {
   "cell_type": "code",
   "execution_count": 8,
   "metadata": {},
   "outputs": [],
   "source": [
    "first_100_primes = sieve_of_eratosthenes(550)"
   ]
  },
  {
   "cell_type": "markdown",
   "metadata": {},
   "source": [
    "#### 1.2 Square Root of Each Prime Number"
   ]
  },
  {
   "cell_type": "code",
   "execution_count": 9,
   "metadata": {},
   "outputs": [],
   "source": [
    "import math\n",
    "\n",
    "square_roots = [math.sqrt(p) for p in first_100_primes]"
   ]
  },
  {
   "cell_type": "markdown",
   "metadata": {},
   "source": [
    "#### 1.3 Extract Fractional Part of Square Roots"
   ]
  },
  {
   "cell_type": "code",
   "execution_count": 10,
   "metadata": {},
   "outputs": [],
   "source": [
    "fractional_parts = [sqrt - int(sqrt) for sqrt in square_roots]"
   ]
  },
  {
   "cell_type": "markdown",
   "metadata": {},
   "source": [
    "#### 1.4 Calculate First 32 Bits from Each Square Root"
   ]
  },
  {
   "cell_type": "code",
   "execution_count": 11,
   "metadata": {},
   "outputs": [],
   "source": [
    "def get_first_32_bits(fractional_part):\n",
    "    return format(int(fractional_part * (2**32)), '032b')  \n",
    "\n",
    "binary_fractions = [get_first_32_bits(fraction) for fraction in fractional_parts]"
   ]
  },
  {
   "cell_type": "markdown",
   "metadata": {},
   "source": [
    "#### 1.5 Print Results"
   ]
  },
  {
   "cell_type": "code",
   "execution_count": 12,
   "metadata": {},
   "outputs": [
    {
     "name": "stdout",
     "output_type": "stream",
     "text": [
      "  2 -> 01101010000010011110011001100111\n",
      "  3 -> 10111011011001111010111010000101\n",
      "  5 -> 00111100011011101111001101110010\n",
      "  7 -> 10100101010011111111010100111010\n",
      " 11 -> 01010001000011100101001001111111\n",
      " 13 -> 10011011000001010110100010001100\n",
      " 17 -> 00011111100000111101100110101011\n",
      " 19 -> 01011011111000001100110100011001\n",
      " 23 -> 11001011101110111001110101011101\n",
      " 29 -> 01100010100110100010100100101010\n",
      " 31 -> 10010001010110010000000101011010\n",
      " 37 -> 00010101001011111110110011011000\n",
      " 41 -> 01100111001100110010011001100111\n",
      " 43 -> 10001110101101000100101010000111\n",
      " 47 -> 11011011000011000010111000001101\n",
      " 53 -> 01000111101101010100100000011101\n",
      " 59 -> 10101110010111111001000101010110\n",
      " 61 -> 11001111011011001000010111010011\n",
      " 67 -> 00101111011100110100011101111101\n",
      " 71 -> 01101101000110000010011011001010\n",
      " 73 -> 10001011010000111101010001010111\n",
      " 79 -> 11100011011000001011010110010110\n",
      " 83 -> 00011100010001010110000000000010\n",
      " 89 -> 01101111000110010110001100110001\n",
      " 97 -> 11011001010011101011111010110001\n",
      "101 -> 00001100110001001010011000010001\n",
      "103 -> 00100110000111011100000111110010\n",
      "107 -> 01011000000101011010011110111110\n",
      "109 -> 01110000101101111110110101100111\n",
      "113 -> 10100001010100010011110001101001\n",
      "127 -> 01000100111110010011011000110101\n",
      "131 -> 01110010000011011100110111111101\n",
      "137 -> 10110100011001110011011010011110\n",
      "139 -> 11001010001100100000101101110101\n",
      "149 -> 00110100111000001101010000101110\n",
      "151 -> 01001001110001111101100110111101\n",
      "157 -> 10000111101010111011100111110010\n",
      "163 -> 11000100011000111010001011111100\n",
      "167 -> 11101100001111111100001111110011\n",
      "173 -> 00100111001001110111111101101101\n",
      "179 -> 01100001000010111110101111110010\n",
      "181 -> 01110100001000001011010010011110\n",
      "191 -> 11010001111111011000101000110011\n",
      "193 -> 11100100011101110011010110010100\n",
      "197 -> 00001001001000011001011111110110\n",
      "199 -> 00011011010100110000110010010101\n",
      "211 -> 10000110100111010110001101000010\n",
      "223 -> 11101110111001010010111001001111\n",
      "227 -> 00010001000001110110011010001001\n",
      "229 -> 00100001111110111010001101111011\n",
      "233 -> 01000011101010111001111110110110\n",
      "239 -> 01110101101010011111100100011101\n",
      "241 -> 10000110001100000101000000011001\n",
      "251 -> 11010111110011011000000101110011\n",
      "257 -> 00000111111111100000000011111111\n",
      "263 -> 00110111100111110101000100111111\n",
      "269 -> 01100110101101100101000110101000\n",
      "271 -> 01110110010010101011100001000010\n",
      "277 -> 10100100101100000110101111100001\n",
      "281 -> 11000011010101111000110000010101\n",
      "283 -> 11010010100101100010101001010011\n",
      "293 -> 00011110000000111001111101000000\n",
      "307 -> 10000101011110110111101111101110\n",
      "311 -> 10100010100110111111001011011110\n",
      "313 -> 10110001000110100011001011101000\n",
      "317 -> 11001101111100110100111010000000\n",
      "331 -> 00110001100000110000010000100110\n",
      "337 -> 01011011100010010000100100101011\n",
      "347 -> 10100000110000000110101000010011\n",
      "349 -> 10101110011110011000010000101111\n",
      "353 -> 11001001110011011010011010001001\n",
      "359 -> 11110010100000011111001000111001\n",
      "367 -> 00101000010000010010010110010010\n",
      "373 -> 01010000001011100110010011011011\n",
      "379 -> 01110111110010011100001000010001\n",
      "383 -> 10010010000001001100110110011101\n",
      "389 -> 10111001000110111111011001100011\n",
      "397 -> 11101100110000111000110010011101\n",
      "401 -> 00000110011001010110000010010101\n",
      "409 -> 00111001010001111001001110000001\n",
      "419 -> 01111000001100000111011010010111\n",
      "421 -> 10000100101011100100101101111100\n",
      "431 -> 11000010101100101011011101010101\n",
      "433 -> 11001111000000111101001000001110\n",
      "439 -> 11110011110010111011000100010111\n",
      "443 -> 00001100001011010011101101001011\n",
      "449 -> 00110000100010101111000101100001\n",
      "457 -> 01100000101001111010100110011000\n",
      "461 -> 01111000100011011001100000010010\n",
      "463 -> 10000100011101101001101101000010\n",
      "467 -> 10011100001101001111000001100010\n",
      "479 -> 11100010110101010110010011000100\n",
      "487 -> 00010001011011010111010111111101\n",
      "491 -> 00101000100101001100000100000111\n",
      "499 -> 01010110100110110101100011000110\n",
      "503 -> 01101101011110110011100100111001\n",
      "509 -> 10001111100111111000110110111011\n",
      "521 -> 11010011010011110000001111001101\n",
      "523 -> 11011110100000110111001011101111\n",
      "541 -> 01000010011010000111101000111001\n",
      "547 -> 01100011010101100000001000001000\n"
     ]
    }
   ],
   "source": [
    "for i, binary_fraction in enumerate(binary_fractions):\n",
    "    print(f\"{first_100_primes[i]:>3} -> {binary_fraction}\")"
   ]
  },
  {
   "cell_type": "markdown",
   "metadata": {},
   "source": [
    "### Task 6: Proof of Work"
   ]
  },
  {
   "cell_type": "code",
   "execution_count": 28,
   "metadata": {},
   "outputs": [
    {
     "name": "stdout",
     "output_type": "stream",
     "text": [
      "Max leading zero bits: 18\n",
      "Top word(s):\n",
      "goaltenders\n"
     ]
    }
   ],
   "source": [
    "import hashlib\n",
    "\n",
    "def count_leading_zero_bits(digest):\n",
    "    count = 0\n",
    "    for byte in digest:\n",
    "        for i in range(8):\n",
    "            if (byte >> (7 - i)) & 1 == 0:\n",
    "                count += 1\n",
    "            else:\n",
    "                return count\n",
    "    return count\n",
    "\n",
    "def load_words(filename):\n",
    "    with open(filename, \"r\") as f:\n",
    "        return [line.strip() for line in f if line.strip().isalpha()]\n",
    "\n",
    "def find_best_words(words):\n",
    "    max_zeros = 0\n",
    "    best_words = []\n",
    "\n",
    "    for word in words:\n",
    "        digest = hashlib.sha256(word.encode(\"utf-8\")).digest()\n",
    "        zeros = count_leading_zero_bits(digest)\n",
    "\n",
    "        if zeros > max_zeros:\n",
    "            max_zeros = zeros\n",
    "            best_words = [word]\n",
    "        elif zeros == max_zeros:\n",
    "            best_words.append(word)\n",
    "\n",
    "    return max_zeros, best_words\n",
    "\n",
    "if __name__ == \"__main__\":\n",
    "    word_file = \"dictionary.txt\"  \n",
    "    word_list = load_words(word_file)\n",
    "\n",
    "    max_bits, top_words = find_best_words(word_list)\n",
    "\n",
    "    print(f\"Max leading zero bits: {max_bits}\")\n",
    "    print(\"Top word(s):\")\n",
    "    for word in top_words:\n",
    "        print(word)\n"
   ]
  },
  {
   "cell_type": "markdown",
   "metadata": {},
   "source": [
    "### Task 7: Turing Machines"
   ]
  },
  {
   "cell_type": "code",
   "execution_count": 29,
   "metadata": {},
   "outputs": [],
   "source": [
    "# Default Turing machine configuration\n",
    "tape = []\n",
    "head = 0\n",
    "state = 'q0'"
   ]
  },
  {
   "cell_type": "code",
   "execution_count": 30,
   "metadata": {},
   "outputs": [],
   "source": [
    "# Define transition rules\n",
    "def get_transitions():\n",
    "    return {\n",
    "        ('q0', '0'): ('q0', '0', 'R'),\n",
    "        ('q0', '1'): ('q0', '1', 'R'),\n",
    "        ('q0', '_'): ('q1', '_', 'L'),\n",
    "        \n",
    "        ('q1', '0'): ('qf', '1', 'N'),\n",
    "        ('q1', '1'): ('q2', '0', 'L'),\n",
    "\n",
    "        ('q2', '0'): ('qf', '1', 'N'),\n",
    "        ('q2', '1'): ('q2', '0', 'L'),\n",
    "        ('q2', '_'): ('qf', '1', 'N')\n",
    "    }"
   ]
  },
  {
   "cell_type": "code",
   "execution_count": 31,
   "metadata": {},
   "outputs": [],
   "source": [
    "# Step function for the Turing machine\n",
    "def step():\n",
    "    global head, state, tape\n",
    "    symbol = tape[head] if 0 <= head < len(tape) else '_'\n",
    "    key = (state, symbol)\n",
    "    \n",
    "    transitions = get_transitions()\n",
    "    \n",
    "    if key not in transitions:\n",
    "        return\n",
    "    \n",
    "    new_state, new_symbol, direction = transitions[key]\n",
    "    \n",
    "    tape[head] = new_symbol\n",
    "    state = new_state\n",
    "\n",
    "    if direction == 'R':\n",
    "        head += 1\n",
    "    elif direction == 'L':\n",
    "        head -= 1\n",
    "\n",
    "    # Tape extension\n",
    "    if head < 0:\n",
    "        tape.insert(0, '_')\n",
    "        head = 0\n",
    "    elif head >= len(tape):\n",
    "        tape.append('_')\n"
   ]
  },
  {
   "cell_type": "code",
   "execution_count": null,
   "metadata": {},
   "outputs": [],
   "source": [
    "def run_turing_machine(input_binary):\n",
    "    global tape, head, state\n",
    "    # Initialize tape with input binary, return 1 if input is empty\n",
    "    if input_binary == \"\":\n",
    "        return \"1\"\n",
    "    else:\n",
    "        tape = list(input_binary) + ['_']\n",
    "    \n",
    "    head = 0\n",
    "    state = 'q0'\n",
    "    \n",
    "    steps = 0\n",
    "    while state != 'qf':\n",
    "        step()\n",
    "        steps += 1\n",
    "    \n",
    "    return ''.join(tape).strip('_')"
   ]
  },
  {
   "cell_type": "markdown",
   "metadata": {},
   "source": [
    "<div style=\"border: 3px solid #5C9E75; padding:8px; border-radius:5px; font-size:14px; background-color: transparent; width: 350px;\">\n",
    "    \n",
    "##### **Test 7A - Testing `add_one_binary` No Carry**  \n",
    "**We will now verify our turing machine correctly handles a case when no carry is required**\n",
    "\n",
    "**Expected results:**\n",
    "\n",
    "| Input  | Output |\n",
    "|--------|--------|\n",
    "| `10010` | `10011` |\n",
    "</div>"
   ]
  },
  {
   "cell_type": "code",
   "execution_count": 33,
   "metadata": {},
   "outputs": [
    {
     "name": "stdout",
     "output_type": "stream",
     "text": [
      "10011\n",
      "Test 7A passed!\n"
     ]
    }
   ],
   "source": [
    "# Test 7A - No Carry\n",
    "result = run_turing_machine(\"10010\")\n",
    "print(result)\n",
    "if result == \"10011\":\n",
    "    print(f\"Test 7A passed!\")\n",
    "else:\n",
    "    print(f\"Test 7A failed. Expected: 10011\")"
   ]
  },
  {
   "cell_type": "markdown",
   "metadata": {},
   "source": [
    "<div style=\"border: 3px solid #5C9E75; padding:8px; border-radius:5px; font-size:14px; background-color: transparent; width: 400px;\">\n",
    "    \n",
    "##### **Test 7B - \"Testing Binary Increment: Single Carry\"**  \n",
    "**We will verify our Turing machine correctly handles a case requiring a single carry operation when the least significant bit is 1.**\n",
    "\n",
    "**Expected results:**\n",
    "\n",
    "| Input  | Output |\n",
    "|--------|--------|\n",
    "| `101` | `110` |\n",
    "</div>"
   ]
  },
  {
   "cell_type": "code",
   "execution_count": 34,
   "metadata": {},
   "outputs": [
    {
     "name": "stdout",
     "output_type": "stream",
     "text": [
      "110\n",
      "Test 7B passed!\n"
     ]
    }
   ],
   "source": [
    "# Test 7B -  Carry\n",
    "result = run_turing_machine(\"101\")\n",
    "print(result)\n",
    "if result == \"110\":\n",
    "    print(\"Test 7B passed!\")\n",
    "else:\n",
    "    print(f\"Test 7B failed. Expected: 110\")"
   ]
  },
  {
   "cell_type": "markdown",
   "metadata": {},
   "source": [
    "<div style=\"border: 3px solid #5C9E75; padding:8px; border-radius:5px; font-size:14px; background-color: transparent; width: 400px;\">\n",
    "    \n",
    "##### **Test 7C - \"Testing Binary Increment: Multiple Carries\"**  \n",
    "**We will verify our Turing machine correctly handles a situation requiring multiple carry operations when consecutive least significant bits are 1.**\n",
    "\n",
    "**Expected results:**\n",
    "\n",
    "| Input  | Output |\n",
    "|--------|--------|\n",
    "| `1111` | `10000` |\n",
    "</div>"
   ]
  },
  {
   "cell_type": "code",
   "execution_count": 35,
   "metadata": {},
   "outputs": [
    {
     "name": "stdout",
     "output_type": "stream",
     "text": [
      "10000\n",
      "Test 7C passed!\n"
     ]
    }
   ],
   "source": [
    "# Test 7C - Multiple Carries\n",
    "result = run_turing_machine(\"1111\")\n",
    "print(result)\n",
    "if result == \"10000\":\n",
    "    print(\"Test 7C passed!\")\n",
    "else:\n",
    "    print(f\"Test 7C failed. Expected: 10000\")"
   ]
  },
  {
   "cell_type": "markdown",
   "metadata": {},
   "source": [
    "<div style=\"border: 3px solid #5C9E75; padding:8px; border-radius:5px; font-size:14px; background-color: transparent; width: 500px;\">\n",
    "    \n",
    "##### **Test 7D - \"Testing Binary Increment: Empty String Edge Case\"**  \n",
    "**We will test our Turing machine's ability to handle an empty input, which should be interpreted as 0.**\n",
    "\n",
    "**Expected results:**\n",
    "\n",
    "| Input  | Output |\n",
    "|--------|--------|\n",
    "| `\"\"` | `\"1\"` |\n",
    "</div>"
   ]
  },
  {
   "cell_type": "code",
   "execution_count": 40,
   "metadata": {},
   "outputs": [
    {
     "name": "stdout",
     "output_type": "stream",
     "text": [
      "1\n",
      "Test 7D passed!\n"
     ]
    }
   ],
   "source": [
    "# Test 7D - Empty String\n",
    "result = run_turing_machine(\"\")\n",
    "print(result)\n",
    "if result == \"1\":\n",
    "    print(\"Test 7D passed!\")\n",
    "else:\n",
    "    print(f\"Test 7D failed. Expected: 1\")"
   ]
  },
  {
   "cell_type": "markdown",
   "metadata": {},
   "source": [
    "### Task 8: Computational Complexity"
   ]
  },
  {
   "cell_type": "code",
   "execution_count": 63,
   "metadata": {},
   "outputs": [
    {
     "name": "stdout",
     "output_type": "stream",
     "text": [
      "Bubble Sorted Array: [1, 2, 3, 4, 5] Comparison Count: 4\n"
     ]
    }
   ],
   "source": [
    "def bubble_sort(arr):\n",
    "    # Copy the array to avoid modifying the original\n",
    "    arr = arr.copy()\n",
    "    # set the comparison count to 0\n",
    "    comparison_count = 0\n",
    "    # Get the length of the array\n",
    "    n = len(arr)\n",
    "    \n",
    "    # Move through the array\n",
    "    for i in range(n):\n",
    "        # Flag to check if a swap occurred\n",
    "        swapped = False\n",
    "        \n",
    "        # Exclude the last i numbers as they are already sorted\n",
    "        for j in range(0, n-i-1):\n",
    "            # Increment the comparison count\n",
    "            comparison_count += 1\n",
    "            # Swap if the number found is greater than the next number\n",
    "            if arr[j] > arr[j+1]:\n",
    "                arr[j], arr[j+1] = arr[j+1], arr[j]\n",
    "                swapped = True\n",
    "        # If no two elements were swapped in the inner loop, then break\n",
    "        if swapped == False:\n",
    "            break\n",
    "    \n",
    "    return arr, comparison_count\n",
    "\n",
    "bubble_sorted = bubble_sort([1, 2, 3, 4, 5])\n",
    "print(\"Bubble Sorted Array:\", bubble_sorted[0], \"Comparison Count:\", bubble_sorted[1])"
   ]
  },
  {
   "cell_type": "code",
   "execution_count": 64,
   "metadata": {},
   "outputs": [],
   "source": [
    "import itertools\n",
    "\n",
    "def get_all_permutations(arr):\n",
    "    # Generate all permutations using itertools\n",
    "    all_permutations = list(itertools.permutations(arr))\n",
    "    \n",
    "    # Convert each permutation tuple to a list\n",
    "    result = [list(perm) for perm in all_permutations]\n",
    "    \n",
    "    return result"
   ]
  },
  {
   "cell_type": "code",
   "execution_count": 65,
   "metadata": {},
   "outputs": [
    {
     "name": "stdout",
     "output_type": "stream",
     "text": [
      "Permutation 1: [1, 2, 3, 4, 5] -> Sorted: [1, 2, 3, 4, 5], Comparison Count: 4\n",
      "Permutation 2: [1, 2, 3, 5, 4] -> Sorted: [1, 2, 3, 4, 5], Comparison Count: 7\n",
      "Permutation 3: [1, 2, 4, 3, 5] -> Sorted: [1, 2, 3, 4, 5], Comparison Count: 7\n",
      "Permutation 4: [1, 2, 4, 5, 3] -> Sorted: [1, 2, 3, 4, 5], Comparison Count: 9\n",
      "Permutation 5: [1, 2, 5, 3, 4] -> Sorted: [1, 2, 3, 4, 5], Comparison Count: 7\n",
      "Permutation 6: [1, 2, 5, 4, 3] -> Sorted: [1, 2, 3, 4, 5], Comparison Count: 9\n",
      "Permutation 7: [1, 3, 2, 4, 5] -> Sorted: [1, 2, 3, 4, 5], Comparison Count: 7\n",
      "Permutation 8: [1, 3, 2, 5, 4] -> Sorted: [1, 2, 3, 4, 5], Comparison Count: 7\n",
      "Permutation 9: [1, 3, 4, 2, 5] -> Sorted: [1, 2, 3, 4, 5], Comparison Count: 9\n",
      "Permutation 10: [1, 3, 4, 5, 2] -> Sorted: [1, 2, 3, 4, 5], Comparison Count: 10\n",
      "Permutation 11: [1, 3, 5, 2, 4] -> Sorted: [1, 2, 3, 4, 5], Comparison Count: 9\n",
      "Permutation 12: [1, 3, 5, 4, 2] -> Sorted: [1, 2, 3, 4, 5], Comparison Count: 10\n",
      "Permutation 13: [1, 4, 2, 3, 5] -> Sorted: [1, 2, 3, 4, 5], Comparison Count: 7\n",
      "Permutation 14: [1, 4, 2, 5, 3] -> Sorted: [1, 2, 3, 4, 5], Comparison Count: 9\n",
      "Permutation 15: [1, 4, 3, 2, 5] -> Sorted: [1, 2, 3, 4, 5], Comparison Count: 9\n",
      "Permutation 16: [1, 4, 3, 5, 2] -> Sorted: [1, 2, 3, 4, 5], Comparison Count: 10\n",
      "Permutation 17: [1, 4, 5, 2, 3] -> Sorted: [1, 2, 3, 4, 5], Comparison Count: 9\n",
      "Permutation 18: [1, 4, 5, 3, 2] -> Sorted: [1, 2, 3, 4, 5], Comparison Count: 10\n",
      "Permutation 19: [1, 5, 2, 3, 4] -> Sorted: [1, 2, 3, 4, 5], Comparison Count: 7\n",
      "Permutation 20: [1, 5, 2, 4, 3] -> Sorted: [1, 2, 3, 4, 5], Comparison Count: 9\n",
      "Permutation 21: [1, 5, 3, 2, 4] -> Sorted: [1, 2, 3, 4, 5], Comparison Count: 9\n",
      "Permutation 22: [1, 5, 3, 4, 2] -> Sorted: [1, 2, 3, 4, 5], Comparison Count: 10\n",
      "Permutation 23: [1, 5, 4, 2, 3] -> Sorted: [1, 2, 3, 4, 5], Comparison Count: 9\n",
      "Permutation 24: [1, 5, 4, 3, 2] -> Sorted: [1, 2, 3, 4, 5], Comparison Count: 10\n",
      "Permutation 25: [2, 1, 3, 4, 5] -> Sorted: [1, 2, 3, 4, 5], Comparison Count: 7\n",
      "Permutation 26: [2, 1, 3, 5, 4] -> Sorted: [1, 2, 3, 4, 5], Comparison Count: 7\n",
      "Permutation 27: [2, 1, 4, 3, 5] -> Sorted: [1, 2, 3, 4, 5], Comparison Count: 7\n",
      "Permutation 28: [2, 1, 4, 5, 3] -> Sorted: [1, 2, 3, 4, 5], Comparison Count: 9\n",
      "Permutation 29: [2, 1, 5, 3, 4] -> Sorted: [1, 2, 3, 4, 5], Comparison Count: 7\n",
      "Permutation 30: [2, 1, 5, 4, 3] -> Sorted: [1, 2, 3, 4, 5], Comparison Count: 9\n",
      "Permutation 31: [2, 3, 1, 4, 5] -> Sorted: [1, 2, 3, 4, 5], Comparison Count: 9\n",
      "Permutation 32: [2, 3, 1, 5, 4] -> Sorted: [1, 2, 3, 4, 5], Comparison Count: 9\n",
      "Permutation 33: [2, 3, 4, 1, 5] -> Sorted: [1, 2, 3, 4, 5], Comparison Count: 10\n",
      "Permutation 34: [2, 3, 4, 5, 1] -> Sorted: [1, 2, 3, 4, 5], Comparison Count: 10\n",
      "Permutation 35: [2, 3, 5, 1, 4] -> Sorted: [1, 2, 3, 4, 5], Comparison Count: 10\n",
      "Permutation 36: [2, 3, 5, 4, 1] -> Sorted: [1, 2, 3, 4, 5], Comparison Count: 10\n",
      "Permutation 37: [2, 4, 1, 3, 5] -> Sorted: [1, 2, 3, 4, 5], Comparison Count: 9\n",
      "Permutation 38: [2, 4, 1, 5, 3] -> Sorted: [1, 2, 3, 4, 5], Comparison Count: 9\n",
      "Permutation 39: [2, 4, 3, 1, 5] -> Sorted: [1, 2, 3, 4, 5], Comparison Count: 10\n",
      "Permutation 40: [2, 4, 3, 5, 1] -> Sorted: [1, 2, 3, 4, 5], Comparison Count: 10\n",
      "Permutation 41: [2, 4, 5, 1, 3] -> Sorted: [1, 2, 3, 4, 5], Comparison Count: 10\n",
      "Permutation 42: [2, 4, 5, 3, 1] -> Sorted: [1, 2, 3, 4, 5], Comparison Count: 10\n",
      "Permutation 43: [2, 5, 1, 3, 4] -> Sorted: [1, 2, 3, 4, 5], Comparison Count: 9\n",
      "Permutation 44: [2, 5, 1, 4, 3] -> Sorted: [1, 2, 3, 4, 5], Comparison Count: 9\n",
      "Permutation 45: [2, 5, 3, 1, 4] -> Sorted: [1, 2, 3, 4, 5], Comparison Count: 10\n",
      "Permutation 46: [2, 5, 3, 4, 1] -> Sorted: [1, 2, 3, 4, 5], Comparison Count: 10\n",
      "Permutation 47: [2, 5, 4, 1, 3] -> Sorted: [1, 2, 3, 4, 5], Comparison Count: 10\n",
      "Permutation 48: [2, 5, 4, 3, 1] -> Sorted: [1, 2, 3, 4, 5], Comparison Count: 10\n",
      "Permutation 49: [3, 1, 2, 4, 5] -> Sorted: [1, 2, 3, 4, 5], Comparison Count: 7\n",
      "Permutation 50: [3, 1, 2, 5, 4] -> Sorted: [1, 2, 3, 4, 5], Comparison Count: 7\n",
      "Permutation 51: [3, 1, 4, 2, 5] -> Sorted: [1, 2, 3, 4, 5], Comparison Count: 9\n",
      "Permutation 52: [3, 1, 4, 5, 2] -> Sorted: [1, 2, 3, 4, 5], Comparison Count: 10\n",
      "Permutation 53: [3, 1, 5, 2, 4] -> Sorted: [1, 2, 3, 4, 5], Comparison Count: 9\n",
      "Permutation 54: [3, 1, 5, 4, 2] -> Sorted: [1, 2, 3, 4, 5], Comparison Count: 10\n",
      "Permutation 55: [3, 2, 1, 4, 5] -> Sorted: [1, 2, 3, 4, 5], Comparison Count: 9\n",
      "Permutation 56: [3, 2, 1, 5, 4] -> Sorted: [1, 2, 3, 4, 5], Comparison Count: 9\n",
      "Permutation 57: [3, 2, 4, 1, 5] -> Sorted: [1, 2, 3, 4, 5], Comparison Count: 10\n",
      "Permutation 58: [3, 2, 4, 5, 1] -> Sorted: [1, 2, 3, 4, 5], Comparison Count: 10\n",
      "Permutation 59: [3, 2, 5, 1, 4] -> Sorted: [1, 2, 3, 4, 5], Comparison Count: 10\n",
      "Permutation 60: [3, 2, 5, 4, 1] -> Sorted: [1, 2, 3, 4, 5], Comparison Count: 10\n",
      "Permutation 61: [3, 4, 1, 2, 5] -> Sorted: [1, 2, 3, 4, 5], Comparison Count: 9\n",
      "Permutation 62: [3, 4, 1, 5, 2] -> Sorted: [1, 2, 3, 4, 5], Comparison Count: 10\n",
      "Permutation 63: [3, 4, 2, 1, 5] -> Sorted: [1, 2, 3, 4, 5], Comparison Count: 10\n",
      "Permutation 64: [3, 4, 2, 5, 1] -> Sorted: [1, 2, 3, 4, 5], Comparison Count: 10\n",
      "Permutation 65: [3, 4, 5, 1, 2] -> Sorted: [1, 2, 3, 4, 5], Comparison Count: 10\n",
      "Permutation 66: [3, 4, 5, 2, 1] -> Sorted: [1, 2, 3, 4, 5], Comparison Count: 10\n",
      "Permutation 67: [3, 5, 1, 2, 4] -> Sorted: [1, 2, 3, 4, 5], Comparison Count: 9\n",
      "Permutation 68: [3, 5, 1, 4, 2] -> Sorted: [1, 2, 3, 4, 5], Comparison Count: 10\n",
      "Permutation 69: [3, 5, 2, 1, 4] -> Sorted: [1, 2, 3, 4, 5], Comparison Count: 10\n",
      "Permutation 70: [3, 5, 2, 4, 1] -> Sorted: [1, 2, 3, 4, 5], Comparison Count: 10\n",
      "Permutation 71: [3, 5, 4, 1, 2] -> Sorted: [1, 2, 3, 4, 5], Comparison Count: 10\n",
      "Permutation 72: [3, 5, 4, 2, 1] -> Sorted: [1, 2, 3, 4, 5], Comparison Count: 10\n",
      "Permutation 73: [4, 1, 2, 3, 5] -> Sorted: [1, 2, 3, 4, 5], Comparison Count: 7\n",
      "Permutation 74: [4, 1, 2, 5, 3] -> Sorted: [1, 2, 3, 4, 5], Comparison Count: 9\n",
      "Permutation 75: [4, 1, 3, 2, 5] -> Sorted: [1, 2, 3, 4, 5], Comparison Count: 9\n",
      "Permutation 76: [4, 1, 3, 5, 2] -> Sorted: [1, 2, 3, 4, 5], Comparison Count: 10\n",
      "Permutation 77: [4, 1, 5, 2, 3] -> Sorted: [1, 2, 3, 4, 5], Comparison Count: 9\n",
      "Permutation 78: [4, 1, 5, 3, 2] -> Sorted: [1, 2, 3, 4, 5], Comparison Count: 10\n",
      "Permutation 79: [4, 2, 1, 3, 5] -> Sorted: [1, 2, 3, 4, 5], Comparison Count: 9\n",
      "Permutation 80: [4, 2, 1, 5, 3] -> Sorted: [1, 2, 3, 4, 5], Comparison Count: 9\n",
      "Permutation 81: [4, 2, 3, 1, 5] -> Sorted: [1, 2, 3, 4, 5], Comparison Count: 10\n",
      "Permutation 82: [4, 2, 3, 5, 1] -> Sorted: [1, 2, 3, 4, 5], Comparison Count: 10\n",
      "Permutation 83: [4, 2, 5, 1, 3] -> Sorted: [1, 2, 3, 4, 5], Comparison Count: 10\n",
      "Permutation 84: [4, 2, 5, 3, 1] -> Sorted: [1, 2, 3, 4, 5], Comparison Count: 10\n",
      "Permutation 85: [4, 3, 1, 2, 5] -> Sorted: [1, 2, 3, 4, 5], Comparison Count: 9\n",
      "Permutation 86: [4, 3, 1, 5, 2] -> Sorted: [1, 2, 3, 4, 5], Comparison Count: 10\n",
      "Permutation 87: [4, 3, 2, 1, 5] -> Sorted: [1, 2, 3, 4, 5], Comparison Count: 10\n",
      "Permutation 88: [4, 3, 2, 5, 1] -> Sorted: [1, 2, 3, 4, 5], Comparison Count: 10\n",
      "Permutation 89: [4, 3, 5, 1, 2] -> Sorted: [1, 2, 3, 4, 5], Comparison Count: 10\n",
      "Permutation 90: [4, 3, 5, 2, 1] -> Sorted: [1, 2, 3, 4, 5], Comparison Count: 10\n",
      "Permutation 91: [4, 5, 1, 2, 3] -> Sorted: [1, 2, 3, 4, 5], Comparison Count: 9\n",
      "Permutation 92: [4, 5, 1, 3, 2] -> Sorted: [1, 2, 3, 4, 5], Comparison Count: 10\n",
      "Permutation 93: [4, 5, 2, 1, 3] -> Sorted: [1, 2, 3, 4, 5], Comparison Count: 10\n",
      "Permutation 94: [4, 5, 2, 3, 1] -> Sorted: [1, 2, 3, 4, 5], Comparison Count: 10\n",
      "Permutation 95: [4, 5, 3, 1, 2] -> Sorted: [1, 2, 3, 4, 5], Comparison Count: 10\n",
      "Permutation 96: [4, 5, 3, 2, 1] -> Sorted: [1, 2, 3, 4, 5], Comparison Count: 10\n",
      "Permutation 97: [5, 1, 2, 3, 4] -> Sorted: [1, 2, 3, 4, 5], Comparison Count: 7\n",
      "Permutation 98: [5, 1, 2, 4, 3] -> Sorted: [1, 2, 3, 4, 5], Comparison Count: 9\n",
      "Permutation 99: [5, 1, 3, 2, 4] -> Sorted: [1, 2, 3, 4, 5], Comparison Count: 9\n",
      "Permutation 100: [5, 1, 3, 4, 2] -> Sorted: [1, 2, 3, 4, 5], Comparison Count: 10\n",
      "Permutation 101: [5, 1, 4, 2, 3] -> Sorted: [1, 2, 3, 4, 5], Comparison Count: 9\n",
      "Permutation 102: [5, 1, 4, 3, 2] -> Sorted: [1, 2, 3, 4, 5], Comparison Count: 10\n",
      "Permutation 103: [5, 2, 1, 3, 4] -> Sorted: [1, 2, 3, 4, 5], Comparison Count: 9\n",
      "Permutation 104: [5, 2, 1, 4, 3] -> Sorted: [1, 2, 3, 4, 5], Comparison Count: 9\n",
      "Permutation 105: [5, 2, 3, 1, 4] -> Sorted: [1, 2, 3, 4, 5], Comparison Count: 10\n",
      "Permutation 106: [5, 2, 3, 4, 1] -> Sorted: [1, 2, 3, 4, 5], Comparison Count: 10\n",
      "Permutation 107: [5, 2, 4, 1, 3] -> Sorted: [1, 2, 3, 4, 5], Comparison Count: 10\n",
      "Permutation 108: [5, 2, 4, 3, 1] -> Sorted: [1, 2, 3, 4, 5], Comparison Count: 10\n",
      "Permutation 109: [5, 3, 1, 2, 4] -> Sorted: [1, 2, 3, 4, 5], Comparison Count: 9\n",
      "Permutation 110: [5, 3, 1, 4, 2] -> Sorted: [1, 2, 3, 4, 5], Comparison Count: 10\n",
      "Permutation 111: [5, 3, 2, 1, 4] -> Sorted: [1, 2, 3, 4, 5], Comparison Count: 10\n",
      "Permutation 112: [5, 3, 2, 4, 1] -> Sorted: [1, 2, 3, 4, 5], Comparison Count: 10\n",
      "Permutation 113: [5, 3, 4, 1, 2] -> Sorted: [1, 2, 3, 4, 5], Comparison Count: 10\n",
      "Permutation 114: [5, 3, 4, 2, 1] -> Sorted: [1, 2, 3, 4, 5], Comparison Count: 10\n",
      "Permutation 115: [5, 4, 1, 2, 3] -> Sorted: [1, 2, 3, 4, 5], Comparison Count: 9\n",
      "Permutation 116: [5, 4, 1, 3, 2] -> Sorted: [1, 2, 3, 4, 5], Comparison Count: 10\n",
      "Permutation 117: [5, 4, 2, 1, 3] -> Sorted: [1, 2, 3, 4, 5], Comparison Count: 10\n",
      "Permutation 118: [5, 4, 2, 3, 1] -> Sorted: [1, 2, 3, 4, 5], Comparison Count: 10\n",
      "Permutation 119: [5, 4, 3, 1, 2] -> Sorted: [1, 2, 3, 4, 5], Comparison Count: 10\n",
      "Permutation 120: [5, 4, 3, 2, 1] -> Sorted: [1, 2, 3, 4, 5], Comparison Count: 10\n"
     ]
    }
   ],
   "source": [
    "all_permutations = get_all_permutations([1, 2, 3, 4, 5])\n",
    "\n",
    "for i, perm in enumerate(all_permutations):\n",
    "    bubble_sorted = bubble_sort(perm)\n",
    "    print(f\"Permutation {i+1}: {perm} -> Sorted: {bubble_sorted[0]}, Comparison Count: {bubble_sorted[1]}\")"
   ]
  }
 ],
 "metadata": {
  "kernelspec": {
   "display_name": "base",
   "language": "python",
   "name": "python3"
  },
  "language_info": {
   "codemirror_mode": {
    "name": "ipython",
    "version": 3
   },
   "file_extension": ".py",
   "mimetype": "text/x-python",
   "name": "python",
   "nbconvert_exporter": "python",
   "pygments_lexer": "ipython3",
   "version": "3.11.5"
  }
 },
 "nbformat": 4,
 "nbformat_minor": 2
}
