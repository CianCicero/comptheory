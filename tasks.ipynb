{
 "cells": [
  {
   "cell_type": "markdown",
   "metadata": {},
   "source": [
    "# Computational Theory Tasks"
   ]
  },
  {
   "cell_type": "markdown",
   "metadata": {},
   "source": [
    "<div style=\"background-color:#003366; color:white; padding:8px; border-radius:5px; font-size:14px\">\n",
    "    \n",
    "#### **Tests**  \n",
    "**At the end of each task, tests are available to verify functionality.**\n",
    "</div>\n"
   ]
  },
  {
   "cell_type": "markdown",
   "metadata": {},
   "source": [
    "### Imports"
   ]
  },
  {
   "cell_type": "code",
   "execution_count": null,
   "metadata": {},
   "outputs": [],
   "source": [
    "# Imports here"
   ]
  },
  {
   "cell_type": "markdown",
   "metadata": {},
   "source": [
    "## Task 1 - Binary Representations"
   ]
  },
  {
   "cell_type": "markdown",
   "metadata": {},
   "source": [
    "1.1 Rotate the bits in a 32-bit unsigned integer to the left by `n` places"
   ]
  },
  {
   "cell_type": "code",
   "execution_count": 2,
   "metadata": {},
   "outputs": [],
   "source": [
    "def rotl(x, n):\n",
    "    # Get the modulo 32 to avoid unnecessary rotations\n",
    "    n %= 32\n",
    "\n",
    "    # Perform the rotation\n",
    "    return ((x << n) & 0xFFFFFFFF) | (x >> (32 - n))"
   ]
  },
  {
   "cell_type": "markdown",
   "metadata": {},
   "source": [
    "1.2 Rotate the bits in a 32-bit unsigned integer to the right by `n` places"
   ]
  },
  {
   "cell_type": "code",
   "execution_count": 5,
   "metadata": {},
   "outputs": [],
   "source": [
    "def rotr(x, n):\n",
    "    # Get the modulo 32 to avoid unnecessary rotations\n",
    "    n %= 32\n",
    "\n",
    "    # Perform the right rotation\n",
    "    return ((x >> n) & 0xFFFFFFFF) | (x << (32 - n))"
   ]
  },
  {
   "cell_type": "markdown",
   "metadata": {},
   "source": [
    "1.3 Choose the bits from `y` where `x` has bits set to `1` and bits in `z` where `x` has bits set to `0`"
   ]
  },
  {
   "cell_type": "code",
   "execution_count": 1,
   "metadata": {},
   "outputs": [],
   "source": [
    "def ch(x, y, z):\n",
    "    return (y & x) | (z & ~x)"
   ]
  },
  {
   "cell_type": "markdown",
   "metadata": {},
   "source": [
    "<div style=\"background-color:#003366; color:white; padding:8px; border-radius:5px; font-size:14px\">\n",
    "    \n",
    "##### **Test 1A - \"Verifying `rotl`\"**  \n",
    "**We will now test `rotl(x, n)`**\n",
    "\n",
    "**Expected results:**\n",
    "\n",
    "| Input  | Output |\n",
    "|--------|--------|\n",
    "| `20` `8`   | `5120` |\n",
    "| `2153` `8` | `551168` |\n",
    "</div>\n"
   ]
  },
  {
   "cell_type": "code",
   "execution_count": 4,
   "metadata": {},
   "outputs": [
    {
     "name": "stdout",
     "output_type": "stream",
     "text": [
      "5120\n",
      "551168\n"
     ]
    }
   ],
   "source": [
    "print(rotl(20, 8))\n",
    "print(rotl(2153, 8))"
   ]
  },
  {
   "cell_type": "markdown",
   "metadata": {},
   "source": [
    "<div style=\"background-color:#003366; color:white; padding:8px; border-radius:5px; font-size:14px\">\n",
    "    \n",
    "##### **Test 1B - \"Verifying `rotr`\"**  \n",
    "**We will now test `rotr(x, n)`**\n",
    "\n",
    "**Expected results:**\n",
    "\n",
    "| Input  | Output |\n",
    "|--------|--------|\n",
    "| `20` `8`   | `335544320` |\n",
    "| `2153` `8` | `36121346056` |\n",
    "</div>\n"
   ]
  },
  {
   "cell_type": "code",
   "execution_count": 6,
   "metadata": {},
   "outputs": [
    {
     "name": "stdout",
     "output_type": "stream",
     "text": [
      "335544320\n",
      "36121346056\n"
     ]
    }
   ],
   "source": [
    "print(rotr(20, 8))\n",
    "print(rotr(2153, 8))"
   ]
  },
  {
   "cell_type": "markdown",
   "metadata": {},
   "source": [
    "<div style=\"background-color:#003366; color:white; padding:8px; border-radius:5px; font-size:14px\">\n",
    "    \n",
    "##### **Test 1C - \"Verifying `ch`\"**  \n",
    "**We will now test `ch(x, y, z)`**\n",
    "\n",
    "**Expected results:**\n",
    "\n",
    "| Input  | Output |\n",
    "|--------|--------|\n",
    "| `20` `2153` `54`   | `335544320` |\n",
    "</div>\n"
   ]
  },
  {
   "cell_type": "code",
   "execution_count": null,
   "metadata": {},
   "outputs": [],
   "source": [
    "ch(20, 2153, 54)"
   ]
  },
  {
   "cell_type": "markdown",
   "metadata": {},
   "source": [
    "### Task 2: Hash Functions\n"
   ]
  },
  {
   "cell_type": "markdown",
   "metadata": {},
   "source": [
    "### Task 3: SHA256\n"
   ]
  },
  {
   "cell_type": "markdown",
   "metadata": {},
   "source": [
    "### Task 4: Prime Numbers"
   ]
  },
  {
   "cell_type": "markdown",
   "metadata": {},
   "source": [
    "### Task 5: Roots"
   ]
  },
  {
   "cell_type": "markdown",
   "metadata": {},
   "source": [
    "### Task 6: Proof of Work"
   ]
  },
  {
   "cell_type": "markdown",
   "metadata": {},
   "source": [
    "### Task 7: Turing Machines"
   ]
  },
  {
   "cell_type": "markdown",
   "metadata": {},
   "source": [
    "### Task 8: Computational Complexity"
   ]
  }
 ],
 "metadata": {
  "kernelspec": {
   "display_name": "base",
   "language": "python",
   "name": "python3"
  },
  "language_info": {
   "codemirror_mode": {
    "name": "ipython",
    "version": 3
   },
   "file_extension": ".py",
   "mimetype": "text/x-python",
   "name": "python",
   "nbconvert_exporter": "python",
   "pygments_lexer": "ipython3",
   "version": "3.11.5"
  }
 },
 "nbformat": 4,
 "nbformat_minor": 2
}
