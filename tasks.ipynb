{
 "cells": [
  {
   "cell_type": "markdown",
   "metadata": {},
   "source": [
    "<h1 style=\"text-align: center;\">Computational Theory Tasks</h1>"
   ]
  },
  {
   "cell_type": "markdown",
   "metadata": {},
   "source": [
    "<div style=\"display: flex; justify-content: space-between; gap: 20px;\">\n",
    "\n",
    "<div style=\"background-color:#1976D2; color:#FFFFFF; padding:16px; border-radius:10px; font-size:14px; flex: 1; text-align: center; box-shadow: 0 2px 8px rgba(0, 0, 0, 0.15);\">\n",
    "        <h4 style=\"font-weight: bold; margin-bottom: 10px;\">🧪 Tests</h4>\n",
    "        <p style=\"font-weight: bold;\">At the end of each task, tests are available to verify functionality.</p>\n",
    "</div>\n",
    "\n",
    "<div style=\"background-color:#2E7D32; color:#FFFFFF; padding:16px; border-radius:10px; font-size:14px; flex: 1; text-align: center; box-shadow: 0 2px 8px rgba(0, 0, 0, 0.15);\">\n",
    "        <h4 style=\"font-weight: bold; margin-bottom: 10px;\">💡 Explanations</h4>\n",
    "        <p style=\"font-weight: bold;\">At the end of some tasks, explanations are provided to clarify the reasoning behind specific decisions.</p>\n",
    "</div>\n",
    "\n",
    "<div style=\"background-color:#FF8F00; color:#FFFFFF; padding:16px; border-radius:10px; font-size:14px; flex: 1; text-align: center; box-shadow: 0 2px 8px rgba(0, 0, 0, 0.15);\">\n",
    "        <h4 style=\"font-weight: bold; margin-bottom: 10px;\">📚 Sources</h4>\n",
    "        <p style=\"font-weight: bold;\">At the end of some tasks, sources that contributed to the solution are available.</p>\n",
    "</div>\n",
    "\n",
    "</div>\n"
   ]
  },
  {
   "cell_type": "markdown",
   "metadata": {},
   "source": [
    "### Imports"
   ]
  },
  {
   "cell_type": "code",
   "execution_count": 8,
   "metadata": {},
   "outputs": [],
   "source": [
    "# Imports\n",
    "import hashlib\n",
    "import os\n",
    "import struct"
   ]
  },
  {
   "cell_type": "markdown",
   "metadata": {},
   "source": [
    "## Task 1 - Binary Representations"
   ]
  },
  {
   "cell_type": "markdown",
   "metadata": {},
   "source": [
    "1.1 Rotate the bits in a 32-bit unsigned integer to the left by `n` places"
   ]
  },
  {
   "cell_type": "code",
   "execution_count": 2,
   "metadata": {},
   "outputs": [],
   "source": [
    "def rotl(x, n):\n",
    "    # Get the modulo 32 to avoid unnecessary rotations\n",
    "    n %= 32\n",
    "\n",
    "    # Perform the rotation\n",
    "    return ((x << n) & 0xFFFFFFFF) | (x >> (32 - n))"
   ]
  },
  {
   "cell_type": "markdown",
   "metadata": {},
   "source": [
    "1.2 Rotate the bits in a 32-bit unsigned integer to the right by `n` places"
   ]
  },
  {
   "cell_type": "code",
   "execution_count": 3,
   "metadata": {},
   "outputs": [],
   "source": [
    "def rotr(x, n):\n",
    "    # Get the modulo 32 to avoid unnecessary rotations\n",
    "    n %= 32\n",
    "\n",
    "    # Perform the right rotation\n",
    "    return ((x >> n) & 0xFFFFFFFF) | (x << (32 - n))"
   ]
  },
  {
   "cell_type": "markdown",
   "metadata": {},
   "source": [
    "1.3 Choose the bits from `y` where `x` has bits set to `1` and bits in `z` where `x` has bits set to `0`"
   ]
  },
  {
   "cell_type": "code",
   "execution_count": 4,
   "metadata": {},
   "outputs": [],
   "source": [
    "def ch(x, y, z):\n",
    "    return (y & x) | (z & ~x)"
   ]
  },
  {
   "cell_type": "markdown",
   "metadata": {},
   "source": [
    "1.4 Take a majority vote of the bits in `x`, `y`, and `z`."
   ]
  },
  {
   "cell_type": "code",
   "execution_count": 5,
   "metadata": {},
   "outputs": [],
   "source": [
    "def maj(x, y, z):\n",
    "    return (x & y) | (z & x) | (z & y)"
   ]
  },
  {
   "cell_type": "markdown",
   "metadata": {},
   "source": [
    "<div style=\"background-color:#1976D2; color:white; padding:8px; border-radius:5px; font-size:14px\">\n",
    "    \n",
    "##### **Test 1A - \"Verifying `rotl`\"**  \n",
    "**We will now test `rotl(x, n)`**\n",
    "\n",
    "**Expected results:**\n",
    "\n",
    "| Input  | Output |\n",
    "|--------|--------|\n",
    "| `20` `8`   | `5120` |\n",
    "| `2153` `8` | `551168` |\n",
    "</div>\n"
   ]
  },
  {
   "cell_type": "code",
   "execution_count": 10,
   "metadata": {},
   "outputs": [
    {
     "name": "stdout",
     "output_type": "stream",
     "text": [
      "rotl(20, 8) -> 5120\n",
      "rotl(2153, 8) -> 551168\n"
     ]
    }
   ],
   "source": [
    "print(f\"rotl(20, 8) -> {rotl(20, 8)}\")\n",
    "print(f\"rotl(2153, 8) -> {rotl(2153, 8)}\")"
   ]
  },
  {
   "cell_type": "markdown",
   "metadata": {},
   "source": [
    "<div style=\"background-color:#1976D2; color:white; padding:8px; border-radius:5px; font-size:14px\">\n",
    "    \n",
    "##### **Test 1B - \"Verifying `rotr`\"**  \n",
    "**We will now test `rotr(x, n)`**\n",
    "\n",
    "**Expected results:**\n",
    "\n",
    "| Input  | Output |\n",
    "|--------|--------|\n",
    "| `20` `8`   | `335544320` |\n",
    "| `2153` `8` | `36121346056` |\n",
    "</div>\n"
   ]
  },
  {
   "cell_type": "code",
   "execution_count": 11,
   "metadata": {},
   "outputs": [
    {
     "name": "stdout",
     "output_type": "stream",
     "text": [
      "rotr(20, 8) -> 335544320\n",
      "rotr(2153, 8) -> 36121346056\n"
     ]
    }
   ],
   "source": [
    "print(f\"rotr(20, 8) -> {rotr(20, 8)}\")\n",
    "print(f\"rotr(2153, 8) -> {rotr(2153, 8)}\")"
   ]
  },
  {
   "cell_type": "markdown",
   "metadata": {},
   "source": [
    "<div style=\"background-color:#1976D2; color:white; padding:8px; border-radius:5px; font-size:14px\">\n",
    "    \n",
    "##### **Test 1C - \"Verifying `ch`\"**  \n",
    "**We will now test `ch(x, y, z)`**\n",
    "\n",
    "**Expected results:**\n",
    "\n",
    "| Input  | Output |\n",
    "|--------|--------|\n",
    "| `20` `2153` `54`   | `34` |\n",
    "</div>\n"
   ]
  },
  {
   "cell_type": "code",
   "execution_count": 12,
   "metadata": {},
   "outputs": [
    {
     "name": "stdout",
     "output_type": "stream",
     "text": [
      "ch(20, 2153, 54) -> 34\n"
     ]
    }
   ],
   "source": [
    "print(f\"ch(20, 2153, 54) -> {ch(20, 2153, 54)}\")"
   ]
  },
  {
   "cell_type": "markdown",
   "metadata": {},
   "source": [
    "<div style=\"background-color:#1976D2; color:white; padding:8px; border-radius:5px; font-size:14px\">\n",
    "    \n",
    "##### **Test 1D - \"Verifying `maj`\"**  \n",
    "**We will now test `maj(x, y, z)`**\n",
    "\n",
    "**Expected results:**\n",
    "\n",
    "| Input  | Output |\n",
    "|--------|--------|\n",
    "| `20` `2153` `54`   | `52` |\n",
    "</div>\n"
   ]
  },
  {
   "cell_type": "code",
   "execution_count": 13,
   "metadata": {},
   "outputs": [
    {
     "name": "stdout",
     "output_type": "stream",
     "text": [
      "maj(20, 2153, 54) -> 52\n"
     ]
    }
   ],
   "source": [
    "print(f\"maj(20, 2153, 54) -> {maj(20, 2153, 54)}\")"
   ]
  },
  {
   "cell_type": "markdown",
   "metadata": {},
   "source": [
    "### Task 2: Hash Functions\n"
   ]
  },
  {
   "cell_type": "markdown",
   "metadata": {},
   "source": [
    "2.1 Generate a hash value for a string."
   ]
  },
  {
   "cell_type": "code",
   "execution_count": 14,
   "metadata": {},
   "outputs": [],
   "source": [
    "def hash_string(s: str) -> int:\n",
    "    hashval = 0\n",
    "    for char in s:\n",
    "        hashval = ord(char) + 31 * hashval\n",
    "    return hashval % 101"
   ]
  },
  {
   "cell_type": "markdown",
   "metadata": {},
   "source": [
    "<div style=\"background-color:#2E7D32; color:white; padding:8px; border-radius:5px; font-size:14px\">\n",
    "\n",
    "<b>Why do we use 31 and 101?</b><br><br>\n",
    "When generating a hash from a string, we aim to create a value that is well-distributed and minimizes collisions. \n",
    "\n",
    "The number 31 is used because it's a prime, which helps spread the values more evenly. Instead of a full multiplication, multiplying by 31 can be rewritten as a left bit shift by 5 positions and then subtracting the original value.\n",
    "\n",
    "The modulus 101, another prime, is used to restrict the hash value to a smaller range reducing the likelihood of collisions.\n",
    "\n",
    "</div>\n"
   ]
  },
  {
   "cell_type": "markdown",
   "metadata": {},
   "source": [
    "<div style=\"background-color:#1976D2; color:white; padding:8px; border-radius:5px; font-size:14px\">\n",
    "    \n",
    "##### **Test 2A - \"Verifying `hash_string`\"**  \n",
    "**We will now test `hash_string(s)`**\n",
    "\n",
    "**Expected results:**\n",
    "\n",
    "| Input  | Output |\n",
    "|--------|--------|\n",
    "| `Brutus` | `26` |\n",
    "| `brutus` | `36` |\n",
    "</div>\n"
   ]
  },
  {
   "cell_type": "code",
   "execution_count": 20,
   "metadata": {},
   "outputs": [
    {
     "name": "stdout",
     "output_type": "stream",
     "text": [
      "hash_string(Brutus) -> 26\n",
      "hash_string(brutus) -> 36\n"
     ]
    }
   ],
   "source": [
    "print(f\"hash_string(Brutus) -> {hash_string('Brutus')}\")\n",
    "print(f\"hash_string(brutus) -> {hash_string('brutus')}\")"
   ]
  },
  {
   "cell_type": "markdown",
   "metadata": {},
   "source": [
    "### Task 3: SHA256\n"
   ]
  },
  {
   "cell_type": "code",
   "execution_count": 15,
   "metadata": {},
   "outputs": [
    {
     "data": {
      "text/plain": [
       "'80000000000000000000000000000000000000000000000000000000000000000000000000000000000000000000000000000000000000000000000018'"
      ]
     },
     "execution_count": 15,
     "metadata": {},
     "output_type": "execute_result"
    }
   ],
   "source": [
    "def calculateSHA256padding(file_path):\n",
    "    file_size = os.path.getsize(file_path) * 8\n",
    "\n",
    "    if file_size % 512 < 448:\n",
    "        padding_bits = 448 - (file_size % 512)\n",
    "    else:\n",
    "        padding_bits = 512 - (file_size % 512) + 448\n",
    "\n",
    "    padding = b'\\x80' + b'\\x00' * ((padding_bits // 8) - 1)\n",
    "\n",
    "    original_length = struct.pack('>Q', file_size)\n",
    "    padding += original_length\n",
    "\n",
    "\n",
    "    return padding.hex()\n",
    "\n",
    "calculateSHA256padding(\"testsha.txt\")"
   ]
  },
  {
   "cell_type": "markdown",
   "metadata": {},
   "source": [
    "<div style=\"background-color:#FF8F00; color:white; padding:8px; border-radius:5px; font-size:14px\">\n",
    "\n",
    "<b>FIPS PUB 180-4, Secure Hash Standard [(Link)](https://nvlpubs.nist.gov/nistpubs/FIPS/NIST.FIPS.180-4.pdf)</b><br><br>\n",
    "\n",
    "</div>"
   ]
  },
  {
   "cell_type": "markdown",
   "metadata": {},
   "source": [
    "### Task 4: Prime Numbers"
   ]
  },
  {
   "cell_type": "markdown",
   "metadata": {},
   "source": [
    "### Task 5: Roots"
   ]
  },
  {
   "cell_type": "markdown",
   "metadata": {},
   "source": [
    "### Task 6: Proof of Work"
   ]
  },
  {
   "cell_type": "markdown",
   "metadata": {},
   "source": [
    "### Task 7: Turing Machines"
   ]
  },
  {
   "cell_type": "markdown",
   "metadata": {},
   "source": [
    "### Task 8: Computational Complexity"
   ]
  }
 ],
 "metadata": {
  "kernelspec": {
   "display_name": "base",
   "language": "python",
   "name": "python3"
  },
  "language_info": {
   "codemirror_mode": {
    "name": "ipython",
    "version": 3
   },
   "file_extension": ".py",
   "mimetype": "text/x-python",
   "name": "python",
   "nbconvert_exporter": "python",
   "pygments_lexer": "ipython3",
   "version": "3.11.5"
  }
 },
 "nbformat": 4,
 "nbformat_minor": 2
}
