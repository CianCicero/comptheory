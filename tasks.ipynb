{
 "cells": [
  {
   "cell_type": "markdown",
   "metadata": {},
   "source": [
    "# Computational Theory Tasks"
   ]
  },
  {
   "cell_type": "markdown",
   "metadata": {},
   "source": [
    "<div style=\"background-color:#003366; color:white; padding:8px; border-radius:5px; font-size:14px\">\n",
    "    \n",
    "#### **Tests**  \n",
    "**At the end of each task, tests are available to verify functionality.**\n",
    "</div>\n"
   ]
  },
  {
   "cell_type": "markdown",
   "metadata": {},
   "source": [
    "### Imports"
   ]
  },
  {
   "cell_type": "code",
   "execution_count": 1,
   "metadata": {},
   "outputs": [],
   "source": [
    "# Imports"
   ]
  },
  {
   "cell_type": "markdown",
   "metadata": {},
   "source": [
    "## Task 1 - Binary Representations"
   ]
  },
  {
   "cell_type": "markdown",
   "metadata": {},
   "source": [
    "1.1 Rotate the bits in a 32-bit unsigned integer to the left by `n` places"
   ]
  },
  {
   "cell_type": "code",
   "execution_count": 2,
   "metadata": {},
   "outputs": [],
   "source": [
    "def rotl(x, n):\n",
    "    # Get the modulo 32 to avoid unnecessary rotations\n",
    "    n %= 32\n",
    "\n",
    "    # Perform the rotation\n",
    "    return ((x << n) & 0xFFFFFFFF) | (x >> (32 - n))"
   ]
  },
  {
   "cell_type": "markdown",
   "metadata": {},
   "source": [
    "1.2 Rotate the bits in a 32-bit unsigned integer to the right by `n` places"
   ]
  },
  {
   "cell_type": "code",
   "execution_count": 3,
   "metadata": {},
   "outputs": [],
   "source": [
    "def rotr(x, n):\n",
    "    # Get the modulo 32 to avoid unnecessary rotations\n",
    "    n %= 32\n",
    "\n",
    "    # Perform the right rotation\n",
    "    return ((x >> n) & 0xFFFFFFFF) | (x << (32 - n))"
   ]
  },
  {
   "cell_type": "markdown",
   "metadata": {},
   "source": [
    "1.3 Choose the bits from `y` where `x` has bits set to `1` and bits in `z` where `x` has bits set to `0`"
   ]
  },
  {
   "cell_type": "code",
   "execution_count": 4,
   "metadata": {},
   "outputs": [],
   "source": [
    "def ch(x, y, z):\n",
    "    return (y & x) | (z & ~x)"
   ]
  },
  {
   "cell_type": "markdown",
   "metadata": {},
   "source": [
    "1.4 Take a majority vote of the bits in `x`, `y`, and `z`."
   ]
  },
  {
   "cell_type": "code",
   "execution_count": 5,
   "metadata": {},
   "outputs": [],
   "source": [
    "def maj(x, y, z):\n",
    "    return (x & y) | (z & x) | (z & y)"
   ]
  },
  {
   "cell_type": "markdown",
   "metadata": {},
   "source": [
    "<div style=\"background-color:#003366; color:white; padding:8px; border-radius:5px; font-size:14px\">\n",
    "    \n",
    "##### **Test 1A - \"Verifying `rotl`\"**  \n",
    "**We will now test `rotl(x, n)`**\n",
    "\n",
    "**Expected results:**\n",
    "\n",
    "| Input  | Output |\n",
    "|--------|--------|\n",
    "| `20` `8`   | `5120` |\n",
    "| `2153` `8` | `551168` |\n",
    "</div>\n"
   ]
  },
  {
   "cell_type": "code",
   "execution_count": 10,
   "metadata": {},
   "outputs": [
    {
     "name": "stdout",
     "output_type": "stream",
     "text": [
      "rotl(20, 8) -> 5120\n",
      "rotl(2153, 8) -> 551168\n"
     ]
    }
   ],
   "source": [
    "print(f\"rotl(20, 8) -> {rotl(20, 8)}\")\n",
    "print(f\"rotl(2153, 8) -> {rotl(2153, 8)}\")"
   ]
  },
  {
   "cell_type": "markdown",
   "metadata": {},
   "source": [
    "<div style=\"background-color:#003366; color:white; padding:8px; border-radius:5px; font-size:14px\">\n",
    "    \n",
    "##### **Test 1B - \"Verifying `rotr`\"**  \n",
    "**We will now test `rotr(x, n)`**\n",
    "\n",
    "**Expected results:**\n",
    "\n",
    "| Input  | Output |\n",
    "|--------|--------|\n",
    "| `20` `8`   | `335544320` |\n",
    "| `2153` `8` | `36121346056` |\n",
    "</div>\n"
   ]
  },
  {
   "cell_type": "code",
   "execution_count": 11,
   "metadata": {},
   "outputs": [
    {
     "name": "stdout",
     "output_type": "stream",
     "text": [
      "rotr(20, 8) -> 335544320\n",
      "rotr(2153, 8) -> 36121346056\n"
     ]
    }
   ],
   "source": [
    "print(f\"rotr(20, 8) -> {rotr(20, 8)}\")\n",
    "print(f\"rotr(2153, 8) -> {rotr(2153, 8)}\")"
   ]
  },
  {
   "cell_type": "markdown",
   "metadata": {},
   "source": [
    "<div style=\"background-color:#003366; color:white; padding:8px; border-radius:5px; font-size:14px\">\n",
    "    \n",
    "##### **Test 1C - \"Verifying `ch`\"**  \n",
    "**We will now test `ch(x, y, z)`**\n",
    "\n",
    "**Expected results:**\n",
    "\n",
    "| Input  | Output |\n",
    "|--------|--------|\n",
    "| `20` `2153` `54`   | `34` |\n",
    "</div>\n"
   ]
  },
  {
   "cell_type": "code",
   "execution_count": 12,
   "metadata": {},
   "outputs": [
    {
     "name": "stdout",
     "output_type": "stream",
     "text": [
      "ch(20, 2153, 54) -> 34\n"
     ]
    }
   ],
   "source": [
    "print(f\"ch(20, 2153, 54) -> {ch(20, 2153, 54)}\")"
   ]
  },
  {
   "cell_type": "markdown",
   "metadata": {},
   "source": [
    "<div style=\"background-color:#003366; color:white; padding:8px; border-radius:5px; font-size:14px\">\n",
    "    \n",
    "##### **Test 1D - \"Verifying `maj`\"**  \n",
    "**We will now test `maj(x, y, z)`**\n",
    "\n",
    "**Expected results:**\n",
    "\n",
    "| Input  | Output |\n",
    "|--------|--------|\n",
    "| `20` `2153` `54`   | `52` |\n",
    "</div>\n"
   ]
  },
  {
   "cell_type": "code",
   "execution_count": 13,
   "metadata": {},
   "outputs": [
    {
     "name": "stdout",
     "output_type": "stream",
     "text": [
      "maj(20, 2153, 54) -> 52\n"
     ]
    }
   ],
   "source": [
    "print(f\"maj(20, 2153, 54) -> {maj(20, 2153, 54)}\")"
   ]
  },
  {
   "cell_type": "markdown",
   "metadata": {},
   "source": [
    "### Task 2: Hash Functions\n"
   ]
  },
  {
   "cell_type": "markdown",
   "metadata": {},
   "source": [
    "2.1 Generate a hash value for a string."
   ]
  },
  {
   "cell_type": "code",
   "execution_count": 14,
   "metadata": {},
   "outputs": [],
   "source": [
    "def hash_string(s: str) -> int:\n",
    "    hashval = 0\n",
    "    for char in s:\n",
    "        hashval = ord(char) + 31 * hashval\n",
    "    return hashval % 101"
   ]
  },
  {
   "cell_type": "markdown",
   "metadata": {},
   "source": [
    "<div style=\"background-color:#003366; color:white; padding:8px; border-radius:5px; font-size:14px\">\n",
    "    \n",
    "##### **Test 2A - \"Verifying `hash_string`\"**  \n",
    "**We will now test `hash_string(s)`**\n",
    "\n",
    "**Expected results:**\n",
    "\n",
    "| Input  | Output |\n",
    "|--------|--------|\n",
    "| `Brutus` | `26` |\n",
    "| `brutus` | `36` |\n",
    "</div>\n"
   ]
  },
  {
   "cell_type": "code",
   "execution_count": 20,
   "metadata": {},
   "outputs": [
    {
     "name": "stdout",
     "output_type": "stream",
     "text": [
      "hash_string(Brutus) -> 26\n",
      "hash_string(brutus) -> 36\n"
     ]
    }
   ],
   "source": [
    "print(f\"hash_string(Brutus) -> {hash_string('Brutus')}\")\n",
    "print(f\"hash_string(brutus) -> {hash_string('brutus')}\")"
   ]
  },
  {
   "cell_type": "markdown",
   "metadata": {},
   "source": [
    "### Task 3: SHA256\n"
   ]
  },
  {
   "cell_type": "markdown",
   "metadata": {},
   "source": [
    "### Task 4: Prime Numbers"
   ]
  },
  {
   "cell_type": "markdown",
   "metadata": {},
   "source": [
    "### Task 5: Roots"
   ]
  },
  {
   "cell_type": "markdown",
   "metadata": {},
   "source": [
    "### Task 6: Proof of Work"
   ]
  },
  {
   "cell_type": "markdown",
   "metadata": {},
   "source": [
    "### Task 7: Turing Machines"
   ]
  },
  {
   "cell_type": "markdown",
   "metadata": {},
   "source": [
    "### Task 8: Computational Complexity"
   ]
  }
 ],
 "metadata": {
  "kernelspec": {
   "display_name": "base",
   "language": "python",
   "name": "python3"
  },
  "language_info": {
   "codemirror_mode": {
    "name": "ipython",
    "version": 3
   },
   "file_extension": ".py",
   "mimetype": "text/x-python",
   "name": "python",
   "nbconvert_exporter": "python",
   "pygments_lexer": "ipython3",
   "version": "3.11.5"
  }
 },
 "nbformat": 4,
 "nbformat_minor": 2
}
