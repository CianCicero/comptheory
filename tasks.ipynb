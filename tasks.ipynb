{
 "cells": [
  {
   "cell_type": "markdown",
   "metadata": {},
   "source": [
    "<h1 style=\"text-align: center;\">Computational Theory Tasks</h1>"
   ]
  },
  {
   "cell_type": "markdown",
   "metadata": {},
   "source": [
    "<div style=\"display: flex; justify-content: center;\">\n",
    "  <div style=\"display: flex; flex-direction: column; gap: 12px; max-width: 800px; width: 100%;\">\n",
    "\n",
    "<div style=\"display: flex; align-items: stretch; gap: 10px;\">\n",
    "      <div style=\"flex: 0 0 140px; background-color: #4F83CC; color:#FFFFFF; padding:10px; border-radius:8px; font-size:16px; text-align: center;\">\n",
    "        <strong>Test Overview</strong>\n",
    "      </div>\n",
    "      <div style=\"flex: 1; border: 3px solid #4F83CC; padding:12px; border-radius:8px; font-size:13px; color: inherit; background-color: transparent;\">\n",
    "        Explains the tests used to validate each solution, covering the inputs, expected results, and the rationale.\n",
    "      </div>\n",
    "</div>\n",
    "\n",
    "<div style=\"display: flex; align-items: stretch; gap: 10px;\">\n",
    "      <div style=\"flex: 0 0 140px; background-color: #B26A32; color:#FFFFFF; padding:10px; border-radius:8px; font-size:16px; text-align: center;\">\n",
    "        <strong>Sources</strong>\n",
    "      </div>\n",
    "      <div style=\"flex: 1; border: 3px solid #B26A32; padding:12px; border-radius:8px; font-size:13px; color: inherit; background-color: transparent;\">\n",
    "        Links to the project's sources, along with concise descriptions of how they influenced development.\n",
    "      </div>\n",
    "</div>\n",
    "\n",
    "<div style=\"display: flex; align-items: stretch; gap: 10px;\">\n",
    "      <div style=\"flex: 0 0 140px; background-color: #5C9E75; color:#FFFFFF; padding:10px; border-radius:8px; font-size:16px; text-align: center;\">\n",
    "        <strong>Alternatives</strong>\n",
    "      </div>\n",
    "      <div style=\"flex: 1; border: 3px solid #5C9E75; padding:12px; border-radius:8px; font-size:13px; color: inherit; background-color: transparent;\">\n",
    "        Compares the solution against other potential approaches, providing a justification for the final choice.\n",
    "      </div>\n",
    "</div>\n",
    "\n",
    "  </div>\n",
    "</div>\n"
   ]
  },
  {
   "cell_type": "markdown",
   "metadata": {},
   "source": [
    "### Imports"
   ]
  },
  {
   "cell_type": "code",
   "execution_count": 8,
   "metadata": {},
   "outputs": [],
   "source": [
    "# Imports\n",
    "import hashlib\n",
    "import os\n",
    "import struct"
   ]
  },
  {
   "cell_type": "markdown",
   "metadata": {},
   "source": [
    "## Task 1 - Binary Representations"
   ]
  },
  {
   "cell_type": "markdown",
   "metadata": {},
   "source": [
    "1.1 Rotate the bits in a 32-bit unsigned integer to the left by `n` places"
   ]
  },
  {
   "cell_type": "code",
   "execution_count": 2,
   "metadata": {},
   "outputs": [],
   "source": [
    "def rotl(x, n):\n",
    "    # Get the modulo 32 to avoid unnecessary rotations\n",
    "    n %= 32\n",
    "\n",
    "    # Perform the rotation\n",
    "    return ((x << n) & 0xFFFFFFFF) | (x >> (32 - n))"
   ]
  },
  {
   "cell_type": "markdown",
   "metadata": {},
   "source": [
    "1.2 Rotate the bits in a 32-bit unsigned integer to the right by `n` places"
   ]
  },
  {
   "cell_type": "code",
   "execution_count": 3,
   "metadata": {},
   "outputs": [],
   "source": [
    "def rotr(x, n):\n",
    "    # Get the modulo 32 to avoid unnecessary rotations\n",
    "    n %= 32\n",
    "\n",
    "    # Perform the right rotation\n",
    "    return ((x >> n) & 0xFFFFFFFF) | (x << (32 - n))"
   ]
  },
  {
   "cell_type": "markdown",
   "metadata": {},
   "source": [
    "1.3 Choose the bits from `y` where `x` has bits set to `1` and bits in `z` where `x` has bits set to `0`"
   ]
  },
  {
   "cell_type": "code",
   "execution_count": 4,
   "metadata": {},
   "outputs": [],
   "source": [
    "def ch(x, y, z):\n",
    "    return (y & x) | (z & ~x)"
   ]
  },
  {
   "cell_type": "markdown",
   "metadata": {},
   "source": [
    "1.4 Take a majority vote of the bits in `x`, `y`, and `z`."
   ]
  },
  {
   "cell_type": "code",
   "execution_count": 5,
   "metadata": {},
   "outputs": [],
   "source": [
    "def maj(x, y, z):\n",
    "    return (x & y) | (z & x) | (z & y)"
   ]
  },
  {
   "cell_type": "markdown",
   "metadata": {},
   "source": [
    "<div style=\"border: 3px solid #4F83CC; padding:8px; border-radius:5px; font-size:14px; background-color: transparent; width: 230px;\">\n",
    "    \n",
    "##### **Test 1A - \"Verifying `rotl`\"**  \n",
    "**We will now test `rotl(x, n)`**\n",
    "\n",
    "**Expected results:**\n",
    "\n",
    "| Input  | Output |\n",
    "|--------|--------|\n",
    "| `20` `8`   | `5120` |\n",
    "| `2153` `8` | `551168` |\n",
    "</div>\n"
   ]
  },
  {
   "cell_type": "code",
   "execution_count": 10,
   "metadata": {},
   "outputs": [
    {
     "name": "stdout",
     "output_type": "stream",
     "text": [
      "rotl(20, 8) -> 5120\n",
      "rotl(2153, 8) -> 551168\n"
     ]
    }
   ],
   "source": [
    "print(f\"rotl(20, 8) -> {rotl(20, 8)}\")\n",
    "print(f\"rotl(2153, 8) -> {rotl(2153, 8)}\")"
   ]
  },
  {
   "cell_type": "markdown",
   "metadata": {},
   "source": [
    "<div style=\"border: 3px solid #4F83CC; padding:8px; border-radius:5px; font-size:14px; background-color: transparent; width: 230px;\">\n",
    "    \n",
    "##### **Test 1B - \"Verifying `rotr`\"**  \n",
    "**We will now test `rotr(x, n)`**\n",
    "\n",
    "**Expected results:**\n",
    "\n",
    "| Input  | Output |\n",
    "|--------|--------|\n",
    "| `20` `8`   | `335544320` |\n",
    "| `2153` `8` | `36121346056` |\n",
    "</div>\n"
   ]
  },
  {
   "cell_type": "code",
   "execution_count": 11,
   "metadata": {},
   "outputs": [
    {
     "name": "stdout",
     "output_type": "stream",
     "text": [
      "rotr(20, 8) -> 335544320\n",
      "rotr(2153, 8) -> 36121346056\n"
     ]
    }
   ],
   "source": [
    "print(f\"rotr(20, 8) -> {rotr(20, 8)}\")\n",
    "print(f\"rotr(2153, 8) -> {rotr(2153, 8)}\")"
   ]
  },
  {
   "cell_type": "markdown",
   "metadata": {},
   "source": [
    "<div style=\"border: 3px solid #4F83CC; padding:8px; border-radius:5px; font-size:14px; background-color: transparent; width: 230px;\">\n",
    "    \n",
    "##### **Test 1C - \"Verifying `ch`\"**  \n",
    "**We will now test `ch(x, y, z)`**\n",
    "\n",
    "**Expected results:**\n",
    "\n",
    "| Input  | Output |\n",
    "|--------|--------|\n",
    "| `20` `2153` `54`   | `34` |\n",
    "</div>\n"
   ]
  },
  {
   "cell_type": "code",
   "execution_count": 12,
   "metadata": {},
   "outputs": [
    {
     "name": "stdout",
     "output_type": "stream",
     "text": [
      "ch(20, 2153, 54) -> 34\n"
     ]
    }
   ],
   "source": [
    "print(f\"ch(20, 2153, 54) -> {ch(20, 2153, 54)}\")"
   ]
  },
  {
   "cell_type": "markdown",
   "metadata": {},
   "source": [
    "<div style=\"border: 3px solid #4F83CC; padding:8px; border-radius:5px; font-size:14px; background-color: transparent; width: 230px;\">\n",
    "    \n",
    "##### **Test 1D - \"Verifying `maj`\"**  \n",
    "**We will now test `maj(x, y, z)`**\n",
    "\n",
    "**Expected results:**\n",
    "\n",
    "| Input  | Output |\n",
    "|--------|--------|\n",
    "| `20` `2153` `54`   | `52` |\n",
    "</div>\n"
   ]
  },
  {
   "cell_type": "code",
   "execution_count": 13,
   "metadata": {},
   "outputs": [
    {
     "name": "stdout",
     "output_type": "stream",
     "text": [
      "maj(20, 2153, 54) -> 52\n"
     ]
    }
   ],
   "source": [
    "print(f\"maj(20, 2153, 54) -> {maj(20, 2153, 54)}\")"
   ]
  },
  {
   "cell_type": "markdown",
   "metadata": {},
   "source": [
    "### Task 2: Hash Functions\n"
   ]
  },
  {
   "cell_type": "markdown",
   "metadata": {},
   "source": [
    "2.1 Generate a hash value for a string."
   ]
  },
  {
   "cell_type": "code",
   "execution_count": 14,
   "metadata": {},
   "outputs": [],
   "source": [
    "def hash_string(s: str) -> int:\n",
    "    hashval = 0\n",
    "    for char in s:\n",
    "        hashval = ord(char) + 31 * hashval\n",
    "    return hashval % 101"
   ]
  },
  {
   "cell_type": "markdown",
   "metadata": {},
   "source": [
    "<div style=\"border: 3px solid #4F83CC; padding:8px; border-radius:5px; font-size:14px; background-color: transparent; width: 300px;\">\n",
    "    \n",
    "##### **Test 2A - \"Verifying `hash_string`\"**  \n",
    "**We will now test `hash_string(s)`**\n",
    "\n",
    "**Expected results:**\n",
    "\n",
    "| Input  | Output |\n",
    "|--------|--------|\n",
    "| `Brutus` | `26` |\n",
    "| `brutus` | `36` |\n",
    "</div>\n"
   ]
  },
  {
   "cell_type": "code",
   "execution_count": 20,
   "metadata": {},
   "outputs": [
    {
     "name": "stdout",
     "output_type": "stream",
     "text": [
      "hash_string(Brutus) -> 26\n",
      "hash_string(brutus) -> 36\n"
     ]
    }
   ],
   "source": [
    "print(f\"hash_string(Brutus) -> {hash_string('Brutus')}\")\n",
    "print(f\"hash_string(brutus) -> {hash_string('brutus')}\")"
   ]
  },
  {
   "cell_type": "markdown",
   "metadata": {},
   "source": [
    "### Task 3: SHA256\n"
   ]
  },
  {
   "cell_type": "code",
   "execution_count": 15,
   "metadata": {},
   "outputs": [
    {
     "data": {
      "text/plain": [
       "'80000000000000000000000000000000000000000000000000000000000000000000000000000000000000000000000000000000000000000000000018'"
      ]
     },
     "execution_count": 15,
     "metadata": {},
     "output_type": "execute_result"
    }
   ],
   "source": [
    "def calculateSHA256padding(file_path):\n",
    "    file_size = os.path.getsize(file_path) * 8\n",
    "\n",
    "    if file_size % 512 < 448:\n",
    "        padding_bits = 448 - (file_size % 512)\n",
    "    else:\n",
    "        padding_bits = 512 - (file_size % 512) + 448\n",
    "\n",
    "    padding = b'\\x80' + b'\\x00' * ((padding_bits // 8) - 1)\n",
    "\n",
    "    original_length = struct.pack('>Q', file_size)\n",
    "    padding += original_length\n",
    "\n",
    "\n",
    "    return padding.hex()\n",
    "\n",
    "calculateSHA256padding(\"testsha.txt\")"
   ]
  },
  {
   "cell_type": "markdown",
   "metadata": {},
   "source": [
    "<div style=\"border: 3px solid #B26A32; padding:8px; border-radius:5px; font-size:14px; background-color: transparent; width: 390px;\">\n",
    "\n",
    "<b>FIPS PUB 180-4, Secure Hash Standard <a href=\"https://nvlpubs.nist.gov/nistpubs/FIPS/NIST.FIPS.180-4.pdf\" style=\"color:#1976D2; text-decoration: underline;\"></b>(Link)</a>\n",
    "\n",
    "This document outlines the official standards for SHA (Secure Hash Algorithms), which are widely used to ensure data integrity, secure passwords, and support digital signatures in modern cryptographic systems.\n",
    "</div>\n"
   ]
  },
  {
   "cell_type": "markdown",
   "metadata": {},
   "source": [
    "### Task 4: Prime Numbers"
   ]
  },
  {
   "cell_type": "markdown",
   "metadata": {},
   "source": [
    "Approach A: Sieve of Eratosthenes"
   ]
  },
  {
   "cell_type": "code",
   "execution_count": 2,
   "metadata": {},
   "outputs": [],
   "source": [
    "def sieve_of_eratosthenes(limit):\n",
    "    primes = [True] * (limit + 1)\n",
    "    primes[0] = primes[1] = False\n",
    "\n",
    "    for i in range(2, int(limit**0.5) + 1):\n",
    "        if primes[i]:\n",
    "            for j in range(i * i, limit + 1, i):\n",
    "                primes[j] = False\n",
    "\n",
    "    return [num for num, is_prime in enumerate(primes) if is_prime]\n"
   ]
  },
  {
   "cell_type": "markdown",
   "metadata": {},
   "source": [
    "Approach B: Sieve of Sundaram"
   ]
  },
  {
   "cell_type": "code",
   "execution_count": 15,
   "metadata": {},
   "outputs": [],
   "source": [
    "def sieve_of_sundaram(limit):\n",
    "    m = (limit - 1) // 2\n",
    "    sieve = [False] * (m + 1)\n",
    "\n",
    "    for i in range(1, m + 1):\n",
    "        j = i\n",
    "        while i + j + 2 * i * j <= m:\n",
    "            sieve[i + j + 2 * i * j] = True\n",
    "            j += 1\n",
    "\n",
    "    primes = [2] \n",
    "    odd_primes = [2 * i + 1 for i in range(1, m + 1) if not sieve[i]]\n",
    "\n",
    "    primes.extend(odd_primes)\n",
    "\n",
    "    return [prime for prime in primes if prime <= limit]\n"
   ]
  },
  {
   "cell_type": "markdown",
   "metadata": {},
   "source": [
    "<div style=\"border: 3px solid #4F83CC; padding:8px; border-radius:5px; font-size:14px; background-color: transparent; width: 600px;\">\n",
    "    \n",
    "##### **Test 3A - \"Verifying `sieve_of_sundaram` and `sieve_of_eratosthenes`\"**  \n",
    "We will now test both algorithms and compare their results\n",
    "\n",
    "Expected results: Both algorithms should have identical outputs\n",
    "</div>\n"
   ]
  },
  {
   "cell_type": "code",
   "execution_count": 17,
   "metadata": {},
   "outputs": [
    {
     "name": "stdout",
     "output_type": "stream",
     "text": [
      "Both methods have identical outputs.\n"
     ]
    }
   ],
   "source": [
    "primes_eratosthenes = sieve_of_eratosthenes(100)\n",
    "\n",
    "primes_sundaram = sieve_of_sundaram(100)\n",
    "\n",
    "if primes_eratosthenes == primes_sundaram:\n",
    "    print(\"Both methods have identical outputs.\")\n",
    "else:\n",
    "    print(\"The methods return different primes.\")"
   ]
  },
  {
   "cell_type": "markdown",
   "metadata": {},
   "source": [
    "<div style=\"display: flex; gap: 20px;\">\n",
    "\n",
    "  <div style=\"border: 3px solid #B26A32; padding:8px; border-radius:5px; font-size:14px; background-color: transparent; width: 330px;\">\n",
    "    <b><a href=\"https://www.geeksforgeeks.org/sieve-of-eratosthenes/\" style=\"color:#1976D2; text-decoration: underline;\">(Sieve of Eratosthenes)</b></a><br><br>\n",
    "    This page explains the Sieve of Eratosthenes algorithm for efficiently generating all prime numbers less than a given number, an important method in number theory and cryptography.\n",
    "  </div>\n",
    "\n",
    "  <div style=\"border: 3px solid #B26A32; padding:8px; border-radius:5px; font-size:14px; background-color: transparent; width: 330px;\">\n",
    "    <a href=\"https://www.geeksforgeeks.org/sieve-sundaram-print-primes-smaller-n/\" style=\"color:#1976D2; text-decoration: underline;\"><b>Sieve of Sundaram</b></a><br><br>\n",
    "    This page explains the Sieve of Sundaram algorithm for finding prime numbers smaller than a given number, a method often used in number theory and computational applications.\n",
    "  </div>\n",
    "\n",
    "</div>"
   ]
  },
  {
   "cell_type": "markdown",
   "metadata": {},
   "source": [
    "### Task 5: Roots"
   ]
  },
  {
   "cell_type": "markdown",
   "metadata": {},
   "source": [
    "#### 1.1 First 100 Prime Numbers\n",
    "\n",
    "Before calculating the square root of the first 100 prime numbers, we need those numbers.\n",
    "\n",
    "To get the first 100 prime numbers, we can use the `sieve_of_eratosthenes` method from the previous task"
   ]
  },
  {
   "cell_type": "code",
   "execution_count": 8,
   "metadata": {},
   "outputs": [],
   "source": [
    "first_100_primes = sieve_of_eratosthenes(550)"
   ]
  },
  {
   "cell_type": "markdown",
   "metadata": {},
   "source": [
    "#### 1.2 Square Root of Each Prime Number"
   ]
  },
  {
   "cell_type": "code",
   "execution_count": 9,
   "metadata": {},
   "outputs": [],
   "source": [
    "import math\n",
    "\n",
    "square_roots = [math.sqrt(p) for p in first_100_primes]"
   ]
  },
  {
   "cell_type": "markdown",
   "metadata": {},
   "source": [
    "#### 1.3 Extract Fractional Part of Square Roots"
   ]
  },
  {
   "cell_type": "code",
   "execution_count": 10,
   "metadata": {},
   "outputs": [],
   "source": [
    "fractional_parts = [sqrt - int(sqrt) for sqrt in square_roots]"
   ]
  },
  {
   "cell_type": "markdown",
   "metadata": {},
   "source": [
    "#### 1.4 Calculate First 32 Bits from Each Square Root"
   ]
  },
  {
   "cell_type": "code",
   "execution_count": 11,
   "metadata": {},
   "outputs": [],
   "source": [
    "def get_first_32_bits(fractional_part):\n",
    "    return format(int(fractional_part * (2**32)), '032b')  \n",
    "\n",
    "binary_fractions = [get_first_32_bits(fraction) for fraction in fractional_parts]"
   ]
  },
  {
   "cell_type": "markdown",
   "metadata": {},
   "source": [
    "#### 1.5 Print Results"
   ]
  },
  {
   "cell_type": "code",
   "execution_count": 12,
   "metadata": {},
   "outputs": [
    {
     "name": "stdout",
     "output_type": "stream",
     "text": [
      "  2 -> 01101010000010011110011001100111\n",
      "  3 -> 10111011011001111010111010000101\n",
      "  5 -> 00111100011011101111001101110010\n",
      "  7 -> 10100101010011111111010100111010\n",
      " 11 -> 01010001000011100101001001111111\n",
      " 13 -> 10011011000001010110100010001100\n",
      " 17 -> 00011111100000111101100110101011\n",
      " 19 -> 01011011111000001100110100011001\n",
      " 23 -> 11001011101110111001110101011101\n",
      " 29 -> 01100010100110100010100100101010\n",
      " 31 -> 10010001010110010000000101011010\n",
      " 37 -> 00010101001011111110110011011000\n",
      " 41 -> 01100111001100110010011001100111\n",
      " 43 -> 10001110101101000100101010000111\n",
      " 47 -> 11011011000011000010111000001101\n",
      " 53 -> 01000111101101010100100000011101\n",
      " 59 -> 10101110010111111001000101010110\n",
      " 61 -> 11001111011011001000010111010011\n",
      " 67 -> 00101111011100110100011101111101\n",
      " 71 -> 01101101000110000010011011001010\n",
      " 73 -> 10001011010000111101010001010111\n",
      " 79 -> 11100011011000001011010110010110\n",
      " 83 -> 00011100010001010110000000000010\n",
      " 89 -> 01101111000110010110001100110001\n",
      " 97 -> 11011001010011101011111010110001\n",
      "101 -> 00001100110001001010011000010001\n",
      "103 -> 00100110000111011100000111110010\n",
      "107 -> 01011000000101011010011110111110\n",
      "109 -> 01110000101101111110110101100111\n",
      "113 -> 10100001010100010011110001101001\n",
      "127 -> 01000100111110010011011000110101\n",
      "131 -> 01110010000011011100110111111101\n",
      "137 -> 10110100011001110011011010011110\n",
      "139 -> 11001010001100100000101101110101\n",
      "149 -> 00110100111000001101010000101110\n",
      "151 -> 01001001110001111101100110111101\n",
      "157 -> 10000111101010111011100111110010\n",
      "163 -> 11000100011000111010001011111100\n",
      "167 -> 11101100001111111100001111110011\n",
      "173 -> 00100111001001110111111101101101\n",
      "179 -> 01100001000010111110101111110010\n",
      "181 -> 01110100001000001011010010011110\n",
      "191 -> 11010001111111011000101000110011\n",
      "193 -> 11100100011101110011010110010100\n",
      "197 -> 00001001001000011001011111110110\n",
      "199 -> 00011011010100110000110010010101\n",
      "211 -> 10000110100111010110001101000010\n",
      "223 -> 11101110111001010010111001001111\n",
      "227 -> 00010001000001110110011010001001\n",
      "229 -> 00100001111110111010001101111011\n",
      "233 -> 01000011101010111001111110110110\n",
      "239 -> 01110101101010011111100100011101\n",
      "241 -> 10000110001100000101000000011001\n",
      "251 -> 11010111110011011000000101110011\n",
      "257 -> 00000111111111100000000011111111\n",
      "263 -> 00110111100111110101000100111111\n",
      "269 -> 01100110101101100101000110101000\n",
      "271 -> 01110110010010101011100001000010\n",
      "277 -> 10100100101100000110101111100001\n",
      "281 -> 11000011010101111000110000010101\n",
      "283 -> 11010010100101100010101001010011\n",
      "293 -> 00011110000000111001111101000000\n",
      "307 -> 10000101011110110111101111101110\n",
      "311 -> 10100010100110111111001011011110\n",
      "313 -> 10110001000110100011001011101000\n",
      "317 -> 11001101111100110100111010000000\n",
      "331 -> 00110001100000110000010000100110\n",
      "337 -> 01011011100010010000100100101011\n",
      "347 -> 10100000110000000110101000010011\n",
      "349 -> 10101110011110011000010000101111\n",
      "353 -> 11001001110011011010011010001001\n",
      "359 -> 11110010100000011111001000111001\n",
      "367 -> 00101000010000010010010110010010\n",
      "373 -> 01010000001011100110010011011011\n",
      "379 -> 01110111110010011100001000010001\n",
      "383 -> 10010010000001001100110110011101\n",
      "389 -> 10111001000110111111011001100011\n",
      "397 -> 11101100110000111000110010011101\n",
      "401 -> 00000110011001010110000010010101\n",
      "409 -> 00111001010001111001001110000001\n",
      "419 -> 01111000001100000111011010010111\n",
      "421 -> 10000100101011100100101101111100\n",
      "431 -> 11000010101100101011011101010101\n",
      "433 -> 11001111000000111101001000001110\n",
      "439 -> 11110011110010111011000100010111\n",
      "443 -> 00001100001011010011101101001011\n",
      "449 -> 00110000100010101111000101100001\n",
      "457 -> 01100000101001111010100110011000\n",
      "461 -> 01111000100011011001100000010010\n",
      "463 -> 10000100011101101001101101000010\n",
      "467 -> 10011100001101001111000001100010\n",
      "479 -> 11100010110101010110010011000100\n",
      "487 -> 00010001011011010111010111111101\n",
      "491 -> 00101000100101001100000100000111\n",
      "499 -> 01010110100110110101100011000110\n",
      "503 -> 01101101011110110011100100111001\n",
      "509 -> 10001111100111111000110110111011\n",
      "521 -> 11010011010011110000001111001101\n",
      "523 -> 11011110100000110111001011101111\n",
      "541 -> 01000010011010000111101000111001\n",
      "547 -> 01100011010101100000001000001000\n"
     ]
    }
   ],
   "source": [
    "for i, binary_fraction in enumerate(binary_fractions):\n",
    "    print(f\"{first_100_primes[i]:>3} -> {binary_fraction}\")"
   ]
  },
  {
   "cell_type": "markdown",
   "metadata": {},
   "source": [
    "### Task 6: Proof of Work"
   ]
  },
  {
   "cell_type": "code",
   "execution_count": 6,
   "metadata": {},
   "outputs": [
    {
     "name": "stdout",
     "output_type": "stream",
     "text": [
      "Max leading zero bits: 18\n",
      "Top word(s):\n",
      "goaltenders\n"
     ]
    }
   ],
   "source": [
    "import hashlib\n",
    "\n",
    "def count_leading_zero_bits(digest):\n",
    "    count = 0\n",
    "    for byte in digest:\n",
    "        for i in range(8):\n",
    "            if (byte >> (7 - i)) & 1 == 0:\n",
    "                count += 1\n",
    "            else:\n",
    "                return count\n",
    "    return count\n",
    "\n",
    "def load_words(filename):\n",
    "    with open(filename, \"r\") as f:\n",
    "        return [line.strip() for line in f if line.strip().isalpha()]\n",
    "\n",
    "def find_best_words(words):\n",
    "    max_zeros = 0\n",
    "    best_words = []\n",
    "\n",
    "    for word in words:\n",
    "        digest = hashlib.sha256(word.encode(\"utf-8\")).digest()\n",
    "        zeros = count_leading_zero_bits(digest)\n",
    "\n",
    "        if zeros > max_zeros:\n",
    "            max_zeros = zeros\n",
    "            best_words = [word]\n",
    "        elif zeros == max_zeros:\n",
    "            best_words.append(word)\n",
    "\n",
    "    return max_zeros, best_words\n",
    "\n",
    "if __name__ == \"__main__\":\n",
    "    word_file = \"dictionary.txt\"  \n",
    "    word_list = load_words(word_file)\n",
    "\n",
    "    max_bits, top_words = find_best_words(word_list)\n",
    "\n",
    "    print(f\"Max leading zero bits: {max_bits}\")\n",
    "    print(\"Top word(s):\")\n",
    "    for word in top_words:\n",
    "        print(word)\n"
   ]
  },
  {
   "cell_type": "markdown",
   "metadata": {},
   "source": [
    "### Task 7: Turing Machines"
   ]
  },
  {
   "cell_type": "markdown",
   "metadata": {},
   "source": [
    "### Task 8: Computational Complexity"
   ]
  }
 ],
 "metadata": {
  "kernelspec": {
   "display_name": "base",
   "language": "python",
   "name": "python3"
  },
  "language_info": {
   "codemirror_mode": {
    "name": "ipython",
    "version": 3
   },
   "file_extension": ".py",
   "mimetype": "text/x-python",
   "name": "python",
   "nbconvert_exporter": "python",
   "pygments_lexer": "ipython3",
   "version": "3.11.5"
  }
 },
 "nbformat": 4,
 "nbformat_minor": 2
}
