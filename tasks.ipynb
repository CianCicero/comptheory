{
 "cells": [
  {
   "cell_type": "markdown",
   "metadata": {},
   "source": [
    "### Task 1 - Binary Representations"
   ]
  },
  {
   "cell_type": "markdown",
   "metadata": {},
   "source": [
    "1.1 Rotate the bits in a 32-bit unsigned integer to the left by `n` places"
   ]
  },
  {
   "cell_type": "code",
   "execution_count": 3,
   "metadata": {},
   "outputs": [
    {
     "name": "stdout",
     "output_type": "stream",
     "text": [
      "20\n",
      "5120\n"
     ]
    }
   ],
   "source": [
    "def rotl(x, n):\n",
    "    # Get the modulo 32 to avoid unnecessary rotations\n",
    "    n %= 32\n",
    "    # Shift the bits to the left by n positions\n",
    "    return x << n\n",
    "\n",
    "# Test the shift operation\n",
    "print(20)\n",
    "print(rotl(20, 8))"
   ]
  }
 ],
 "metadata": {
  "kernelspec": {
   "display_name": "base",
   "language": "python",
   "name": "python3"
  },
  "language_info": {
   "codemirror_mode": {
    "name": "ipython",
    "version": 3
   },
   "file_extension": ".py",
   "mimetype": "text/x-python",
   "name": "python",
   "nbconvert_exporter": "python",
   "pygments_lexer": "ipython3",
   "version": "3.11.5"
  }
 },
 "nbformat": 4,
 "nbformat_minor": 2
}
